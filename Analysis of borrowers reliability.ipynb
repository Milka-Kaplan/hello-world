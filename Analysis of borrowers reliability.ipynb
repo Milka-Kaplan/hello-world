{
 "cells": [
  {
   "cell_type": "markdown",
   "metadata": {},
   "source": [
    "# Investigation of the reliability of borrowers\n",
    "\n",
    "The customer is the credit department of the bank. It is necessary to understand whether the marital status and the number of children of the client affect the fact of repayment of the loan on time. Input data from the bank — statistics on the solvency of customers.\n",
    "\n",
    "The results of the study will be taken into account when building a model of ** credit scoring** — a special system that evaluates the ability of a potential borrower to repay a loan to the bank."
   ]
  },
  {
   "cell_type": "markdown",
   "metadata": {},
   "source": [
    "## Step 1. Learning general information"
   ]
  },
  {
   "cell_type": "code",
   "execution_count": 113,
   "metadata": {},
   "outputs": [],
   "source": [
    "import pandas as pd\n",
    "data = pd.read_csv('/datasets/data.csv')\n",
    "data.to_csv('data_preprocessing.csv', index=False) "
   ]
  },
  {
   "cell_type": "code",
   "execution_count": 114,
   "metadata": {},
   "outputs": [
    {
     "data": {
      "text/html": [
       "<div>\n",
       "<style scoped>\n",
       "    .dataframe tbody tr th:only-of-type {\n",
       "        vertical-align: middle;\n",
       "    }\n",
       "\n",
       "    .dataframe tbody tr th {\n",
       "        vertical-align: top;\n",
       "    }\n",
       "\n",
       "    .dataframe thead th {\n",
       "        text-align: right;\n",
       "    }\n",
       "</style>\n",
       "<table border=\"1\" class=\"dataframe\">\n",
       "  <thead>\n",
       "    <tr style=\"text-align: right;\">\n",
       "      <th></th>\n",
       "      <th>children</th>\n",
       "      <th>days_employed</th>\n",
       "      <th>dob_years</th>\n",
       "      <th>education</th>\n",
       "      <th>education_id</th>\n",
       "      <th>family_status</th>\n",
       "      <th>family_status_id</th>\n",
       "      <th>gender</th>\n",
       "      <th>income_type</th>\n",
       "      <th>debt</th>\n",
       "      <th>total_income</th>\n",
       "      <th>purpose</th>\n",
       "    </tr>\n",
       "  </thead>\n",
       "  <tbody>\n",
       "    <tr>\n",
       "      <th>0</th>\n",
       "      <td>1</td>\n",
       "      <td>-8437.673028</td>\n",
       "      <td>42</td>\n",
       "      <td>высшее</td>\n",
       "      <td>0</td>\n",
       "      <td>женат / замужем</td>\n",
       "      <td>0</td>\n",
       "      <td>F</td>\n",
       "      <td>сотрудник</td>\n",
       "      <td>0</td>\n",
       "      <td>253875.639453</td>\n",
       "      <td>покупка жилья</td>\n",
       "    </tr>\n",
       "    <tr>\n",
       "      <th>1</th>\n",
       "      <td>1</td>\n",
       "      <td>-4024.803754</td>\n",
       "      <td>36</td>\n",
       "      <td>среднее</td>\n",
       "      <td>1</td>\n",
       "      <td>женат / замужем</td>\n",
       "      <td>0</td>\n",
       "      <td>F</td>\n",
       "      <td>сотрудник</td>\n",
       "      <td>0</td>\n",
       "      <td>112080.014102</td>\n",
       "      <td>приобретение автомобиля</td>\n",
       "    </tr>\n",
       "    <tr>\n",
       "      <th>2</th>\n",
       "      <td>0</td>\n",
       "      <td>-5623.422610</td>\n",
       "      <td>33</td>\n",
       "      <td>Среднее</td>\n",
       "      <td>1</td>\n",
       "      <td>женат / замужем</td>\n",
       "      <td>0</td>\n",
       "      <td>M</td>\n",
       "      <td>сотрудник</td>\n",
       "      <td>0</td>\n",
       "      <td>145885.952297</td>\n",
       "      <td>покупка жилья</td>\n",
       "    </tr>\n",
       "    <tr>\n",
       "      <th>3</th>\n",
       "      <td>3</td>\n",
       "      <td>-4124.747207</td>\n",
       "      <td>32</td>\n",
       "      <td>среднее</td>\n",
       "      <td>1</td>\n",
       "      <td>женат / замужем</td>\n",
       "      <td>0</td>\n",
       "      <td>M</td>\n",
       "      <td>сотрудник</td>\n",
       "      <td>0</td>\n",
       "      <td>267628.550329</td>\n",
       "      <td>дополнительное образование</td>\n",
       "    </tr>\n",
       "    <tr>\n",
       "      <th>4</th>\n",
       "      <td>0</td>\n",
       "      <td>340266.072047</td>\n",
       "      <td>53</td>\n",
       "      <td>среднее</td>\n",
       "      <td>1</td>\n",
       "      <td>гражданский брак</td>\n",
       "      <td>1</td>\n",
       "      <td>F</td>\n",
       "      <td>пенсионер</td>\n",
       "      <td>0</td>\n",
       "      <td>158616.077870</td>\n",
       "      <td>сыграть свадьбу</td>\n",
       "    </tr>\n",
       "    <tr>\n",
       "      <th>5</th>\n",
       "      <td>0</td>\n",
       "      <td>-926.185831</td>\n",
       "      <td>27</td>\n",
       "      <td>высшее</td>\n",
       "      <td>0</td>\n",
       "      <td>гражданский брак</td>\n",
       "      <td>1</td>\n",
       "      <td>M</td>\n",
       "      <td>компаньон</td>\n",
       "      <td>0</td>\n",
       "      <td>255763.565419</td>\n",
       "      <td>покупка жилья</td>\n",
       "    </tr>\n",
       "    <tr>\n",
       "      <th>6</th>\n",
       "      <td>0</td>\n",
       "      <td>-2879.202052</td>\n",
       "      <td>43</td>\n",
       "      <td>высшее</td>\n",
       "      <td>0</td>\n",
       "      <td>женат / замужем</td>\n",
       "      <td>0</td>\n",
       "      <td>F</td>\n",
       "      <td>компаньон</td>\n",
       "      <td>0</td>\n",
       "      <td>240525.971920</td>\n",
       "      <td>операции с жильем</td>\n",
       "    </tr>\n",
       "    <tr>\n",
       "      <th>7</th>\n",
       "      <td>0</td>\n",
       "      <td>-152.779569</td>\n",
       "      <td>50</td>\n",
       "      <td>СРЕДНЕЕ</td>\n",
       "      <td>1</td>\n",
       "      <td>женат / замужем</td>\n",
       "      <td>0</td>\n",
       "      <td>M</td>\n",
       "      <td>сотрудник</td>\n",
       "      <td>0</td>\n",
       "      <td>135823.934197</td>\n",
       "      <td>образование</td>\n",
       "    </tr>\n",
       "    <tr>\n",
       "      <th>8</th>\n",
       "      <td>2</td>\n",
       "      <td>-6929.865299</td>\n",
       "      <td>35</td>\n",
       "      <td>ВЫСШЕЕ</td>\n",
       "      <td>0</td>\n",
       "      <td>гражданский брак</td>\n",
       "      <td>1</td>\n",
       "      <td>F</td>\n",
       "      <td>сотрудник</td>\n",
       "      <td>0</td>\n",
       "      <td>95856.832424</td>\n",
       "      <td>на проведение свадьбы</td>\n",
       "    </tr>\n",
       "    <tr>\n",
       "      <th>9</th>\n",
       "      <td>0</td>\n",
       "      <td>-2188.756445</td>\n",
       "      <td>41</td>\n",
       "      <td>среднее</td>\n",
       "      <td>1</td>\n",
       "      <td>женат / замужем</td>\n",
       "      <td>0</td>\n",
       "      <td>M</td>\n",
       "      <td>сотрудник</td>\n",
       "      <td>0</td>\n",
       "      <td>144425.938277</td>\n",
       "      <td>покупка жилья для семьи</td>\n",
       "    </tr>\n",
       "    <tr>\n",
       "      <th>10</th>\n",
       "      <td>2</td>\n",
       "      <td>-4171.483647</td>\n",
       "      <td>36</td>\n",
       "      <td>высшее</td>\n",
       "      <td>0</td>\n",
       "      <td>женат / замужем</td>\n",
       "      <td>0</td>\n",
       "      <td>M</td>\n",
       "      <td>компаньон</td>\n",
       "      <td>0</td>\n",
       "      <td>113943.491460</td>\n",
       "      <td>покупка недвижимости</td>\n",
       "    </tr>\n",
       "    <tr>\n",
       "      <th>11</th>\n",
       "      <td>0</td>\n",
       "      <td>-792.701887</td>\n",
       "      <td>40</td>\n",
       "      <td>среднее</td>\n",
       "      <td>1</td>\n",
       "      <td>женат / замужем</td>\n",
       "      <td>0</td>\n",
       "      <td>F</td>\n",
       "      <td>сотрудник</td>\n",
       "      <td>0</td>\n",
       "      <td>77069.234271</td>\n",
       "      <td>покупка коммерческой недвижимости</td>\n",
       "    </tr>\n",
       "    <tr>\n",
       "      <th>12</th>\n",
       "      <td>0</td>\n",
       "      <td>NaN</td>\n",
       "      <td>65</td>\n",
       "      <td>среднее</td>\n",
       "      <td>1</td>\n",
       "      <td>гражданский брак</td>\n",
       "      <td>1</td>\n",
       "      <td>M</td>\n",
       "      <td>пенсионер</td>\n",
       "      <td>0</td>\n",
       "      <td>NaN</td>\n",
       "      <td>сыграть свадьбу</td>\n",
       "    </tr>\n",
       "    <tr>\n",
       "      <th>13</th>\n",
       "      <td>0</td>\n",
       "      <td>-1846.641941</td>\n",
       "      <td>54</td>\n",
       "      <td>неоконченное высшее</td>\n",
       "      <td>2</td>\n",
       "      <td>женат / замужем</td>\n",
       "      <td>0</td>\n",
       "      <td>F</td>\n",
       "      <td>сотрудник</td>\n",
       "      <td>0</td>\n",
       "      <td>130458.228857</td>\n",
       "      <td>приобретение автомобиля</td>\n",
       "    </tr>\n",
       "    <tr>\n",
       "      <th>14</th>\n",
       "      <td>0</td>\n",
       "      <td>-1844.956182</td>\n",
       "      <td>56</td>\n",
       "      <td>высшее</td>\n",
       "      <td>0</td>\n",
       "      <td>гражданский брак</td>\n",
       "      <td>1</td>\n",
       "      <td>F</td>\n",
       "      <td>компаньон</td>\n",
       "      <td>1</td>\n",
       "      <td>165127.911772</td>\n",
       "      <td>покупка жилой недвижимости</td>\n",
       "    </tr>\n",
       "  </tbody>\n",
       "</table>\n",
       "</div>"
      ],
      "text/plain": [
       "    children  days_employed  dob_years            education  education_id  \\\n",
       "0          1   -8437.673028         42               высшее             0   \n",
       "1          1   -4024.803754         36              среднее             1   \n",
       "2          0   -5623.422610         33              Среднее             1   \n",
       "3          3   -4124.747207         32              среднее             1   \n",
       "4          0  340266.072047         53              среднее             1   \n",
       "5          0    -926.185831         27               высшее             0   \n",
       "6          0   -2879.202052         43               высшее             0   \n",
       "7          0    -152.779569         50              СРЕДНЕЕ             1   \n",
       "8          2   -6929.865299         35               ВЫСШЕЕ             0   \n",
       "9          0   -2188.756445         41              среднее             1   \n",
       "10         2   -4171.483647         36               высшее             0   \n",
       "11         0    -792.701887         40              среднее             1   \n",
       "12         0            NaN         65              среднее             1   \n",
       "13         0   -1846.641941         54  неоконченное высшее             2   \n",
       "14         0   -1844.956182         56               высшее             0   \n",
       "\n",
       "       family_status  family_status_id gender income_type  debt  \\\n",
       "0    женат / замужем                 0      F   сотрудник     0   \n",
       "1    женат / замужем                 0      F   сотрудник     0   \n",
       "2    женат / замужем                 0      M   сотрудник     0   \n",
       "3    женат / замужем                 0      M   сотрудник     0   \n",
       "4   гражданский брак                 1      F   пенсионер     0   \n",
       "5   гражданский брак                 1      M   компаньон     0   \n",
       "6    женат / замужем                 0      F   компаньон     0   \n",
       "7    женат / замужем                 0      M   сотрудник     0   \n",
       "8   гражданский брак                 1      F   сотрудник     0   \n",
       "9    женат / замужем                 0      M   сотрудник     0   \n",
       "10   женат / замужем                 0      M   компаньон     0   \n",
       "11   женат / замужем                 0      F   сотрудник     0   \n",
       "12  гражданский брак                 1      M   пенсионер     0   \n",
       "13   женат / замужем                 0      F   сотрудник     0   \n",
       "14  гражданский брак                 1      F   компаньон     1   \n",
       "\n",
       "     total_income                            purpose  \n",
       "0   253875.639453                      покупка жилья  \n",
       "1   112080.014102            приобретение автомобиля  \n",
       "2   145885.952297                      покупка жилья  \n",
       "3   267628.550329         дополнительное образование  \n",
       "4   158616.077870                    сыграть свадьбу  \n",
       "5   255763.565419                      покупка жилья  \n",
       "6   240525.971920                  операции с жильем  \n",
       "7   135823.934197                        образование  \n",
       "8    95856.832424              на проведение свадьбы  \n",
       "9   144425.938277            покупка жилья для семьи  \n",
       "10  113943.491460               покупка недвижимости  \n",
       "11   77069.234271  покупка коммерческой недвижимости  \n",
       "12            NaN                    сыграть свадьбу  \n",
       "13  130458.228857            приобретение автомобиля  \n",
       "14  165127.911772         покупка жилой недвижимости  "
      ]
     },
     "metadata": {},
     "output_type": "display_data"
    }
   ],
   "source": [
    "import pandas as pd #importing the database\n",
    "from pymystem3 import Mystem\n",
    "m = Mystem()\n",
    "\n",
    "df = pd.read_csv('/datasets/data.csv') #reading the file\n",
    "display(df.head(15)) #we print the first 15 lines"
   ]
  },
  {
   "cell_type": "code",
   "execution_count": 115,
   "metadata": {},
   "outputs": [
    {
     "data": {
      "text/plain": [
       "Index(['children', 'days_employed', 'dob_years', 'education', 'education_id',\n",
       "       'family_status', 'family_status_id', 'gender', 'income_type', 'debt',\n",
       "       'total_income', 'purpose'],\n",
       "      dtype='object')"
      ]
     },
     "execution_count": 115,
     "metadata": {},
     "output_type": "execute_result"
    }
   ],
   "source": [
    "df.columns #we output the names of the columns in order to check their correct spelling"
   ]
  },
  {
   "cell_type": "code",
   "execution_count": 116,
   "metadata": {},
   "outputs": [
    {
     "data": {
      "text/plain": [
       "children              int64\n",
       "days_employed       float64\n",
       "dob_years             int64\n",
       "education            object\n",
       "education_id          int64\n",
       "family_status        object\n",
       "family_status_id      int64\n",
       "gender               object\n",
       "income_type          object\n",
       "debt                  int64\n",
       "total_income        float64\n",
       "purpose              object\n",
       "dtype: object"
      ]
     },
     "execution_count": 116,
     "metadata": {},
     "output_type": "execute_result"
    }
   ],
   "source": [
    "df.dtypes #output information about data types"
   ]
  },
  {
   "cell_type": "code",
   "execution_count": 117,
   "metadata": {},
   "outputs": [
    {
     "data": {
      "text/plain": [
       "(21525, 12)"
      ]
     },
     "execution_count": 117,
     "metadata": {},
     "output_type": "execute_result"
    }
   ],
   "source": [
    "df.shape #output information about the lines"
   ]
  },
  {
   "cell_type": "code",
   "execution_count": 118,
   "metadata": {},
   "outputs": [
    {
     "name": "stdout",
     "output_type": "stream",
     "text": [
      "<class 'pandas.core.frame.DataFrame'>\n",
      "RangeIndex: 21525 entries, 0 to 21524\n",
      "Data columns (total 12 columns):\n",
      " #   Column            Non-Null Count  Dtype  \n",
      "---  ------            --------------  -----  \n",
      " 0   children          21525 non-null  int64  \n",
      " 1   days_employed     19351 non-null  float64\n",
      " 2   dob_years         21525 non-null  int64  \n",
      " 3   education         21525 non-null  object \n",
      " 4   education_id      21525 non-null  int64  \n",
      " 5   family_status     21525 non-null  object \n",
      " 6   family_status_id  21525 non-null  int64  \n",
      " 7   gender            21525 non-null  object \n",
      " 8   income_type       21525 non-null  object \n",
      " 9   debt              21525 non-null  int64  \n",
      " 10  total_income      19351 non-null  float64\n",
      " 11  purpose           21525 non-null  object \n",
      "dtypes: float64(2), int64(5), object(5)\n",
      "memory usage: 2.0+ MB\n"
     ]
    }
   ],
   "source": [
    "df.info() #output summary information"
   ]
  },
  {
   "cell_type": "code",
   "execution_count": 119,
   "metadata": {},
   "outputs": [
    {
     "data": {
      "text/html": [
       "<div>\n",
       "<style scoped>\n",
       "    .dataframe tbody tr th:only-of-type {\n",
       "        vertical-align: middle;\n",
       "    }\n",
       "\n",
       "    .dataframe tbody tr th {\n",
       "        vertical-align: top;\n",
       "    }\n",
       "\n",
       "    .dataframe thead th {\n",
       "        text-align: right;\n",
       "    }\n",
       "</style>\n",
       "<table border=\"1\" class=\"dataframe\">\n",
       "  <thead>\n",
       "    <tr style=\"text-align: right;\">\n",
       "      <th></th>\n",
       "      <th>children</th>\n",
       "      <th>days_employed</th>\n",
       "      <th>dob_years</th>\n",
       "      <th>education_id</th>\n",
       "      <th>family_status_id</th>\n",
       "      <th>debt</th>\n",
       "      <th>total_income</th>\n",
       "    </tr>\n",
       "  </thead>\n",
       "  <tbody>\n",
       "    <tr>\n",
       "      <th>count</th>\n",
       "      <td>21525.000000</td>\n",
       "      <td>19351.000000</td>\n",
       "      <td>21525.000000</td>\n",
       "      <td>21525.000000</td>\n",
       "      <td>21525.000000</td>\n",
       "      <td>21525.000000</td>\n",
       "      <td>1.935100e+04</td>\n",
       "    </tr>\n",
       "    <tr>\n",
       "      <th>mean</th>\n",
       "      <td>0.538908</td>\n",
       "      <td>63046.497661</td>\n",
       "      <td>43.293380</td>\n",
       "      <td>0.817236</td>\n",
       "      <td>0.972544</td>\n",
       "      <td>0.080883</td>\n",
       "      <td>1.674223e+05</td>\n",
       "    </tr>\n",
       "    <tr>\n",
       "      <th>std</th>\n",
       "      <td>1.381587</td>\n",
       "      <td>140827.311974</td>\n",
       "      <td>12.574584</td>\n",
       "      <td>0.548138</td>\n",
       "      <td>1.420324</td>\n",
       "      <td>0.272661</td>\n",
       "      <td>1.029716e+05</td>\n",
       "    </tr>\n",
       "    <tr>\n",
       "      <th>min</th>\n",
       "      <td>-1.000000</td>\n",
       "      <td>-18388.949901</td>\n",
       "      <td>0.000000</td>\n",
       "      <td>0.000000</td>\n",
       "      <td>0.000000</td>\n",
       "      <td>0.000000</td>\n",
       "      <td>2.066726e+04</td>\n",
       "    </tr>\n",
       "    <tr>\n",
       "      <th>25%</th>\n",
       "      <td>0.000000</td>\n",
       "      <td>-2747.423625</td>\n",
       "      <td>33.000000</td>\n",
       "      <td>1.000000</td>\n",
       "      <td>0.000000</td>\n",
       "      <td>0.000000</td>\n",
       "      <td>1.030532e+05</td>\n",
       "    </tr>\n",
       "    <tr>\n",
       "      <th>50%</th>\n",
       "      <td>0.000000</td>\n",
       "      <td>-1203.369529</td>\n",
       "      <td>42.000000</td>\n",
       "      <td>1.000000</td>\n",
       "      <td>0.000000</td>\n",
       "      <td>0.000000</td>\n",
       "      <td>1.450179e+05</td>\n",
       "    </tr>\n",
       "    <tr>\n",
       "      <th>75%</th>\n",
       "      <td>1.000000</td>\n",
       "      <td>-291.095954</td>\n",
       "      <td>53.000000</td>\n",
       "      <td>1.000000</td>\n",
       "      <td>1.000000</td>\n",
       "      <td>0.000000</td>\n",
       "      <td>2.034351e+05</td>\n",
       "    </tr>\n",
       "    <tr>\n",
       "      <th>max</th>\n",
       "      <td>20.000000</td>\n",
       "      <td>401755.400475</td>\n",
       "      <td>75.000000</td>\n",
       "      <td>4.000000</td>\n",
       "      <td>4.000000</td>\n",
       "      <td>1.000000</td>\n",
       "      <td>2.265604e+06</td>\n",
       "    </tr>\n",
       "  </tbody>\n",
       "</table>\n",
       "</div>"
      ],
      "text/plain": [
       "           children  days_employed     dob_years  education_id  \\\n",
       "count  21525.000000   19351.000000  21525.000000  21525.000000   \n",
       "mean       0.538908   63046.497661     43.293380      0.817236   \n",
       "std        1.381587  140827.311974     12.574584      0.548138   \n",
       "min       -1.000000  -18388.949901      0.000000      0.000000   \n",
       "25%        0.000000   -2747.423625     33.000000      1.000000   \n",
       "50%        0.000000   -1203.369529     42.000000      1.000000   \n",
       "75%        1.000000    -291.095954     53.000000      1.000000   \n",
       "max       20.000000  401755.400475     75.000000      4.000000   \n",
       "\n",
       "       family_status_id          debt  total_income  \n",
       "count      21525.000000  21525.000000  1.935100e+04  \n",
       "mean           0.972544      0.080883  1.674223e+05  \n",
       "std            1.420324      0.272661  1.029716e+05  \n",
       "min            0.000000      0.000000  2.066726e+04  \n",
       "25%            0.000000      0.000000  1.030532e+05  \n",
       "50%            0.000000      0.000000  1.450179e+05  \n",
       "75%            1.000000      0.000000  2.034351e+05  \n",
       "max            4.000000      1.000000  2.265604e+06  "
      ]
     },
     "execution_count": 119,
     "metadata": {},
     "output_type": "execute_result"
    }
   ],
   "source": [
    "df.describe()"
   ]
  },
  {
   "cell_type": "markdown",
   "metadata": {},
   "source": [
    "**Conclusion**\n",
    "\n",
    "1. In the column **days_employed** - negative values. This is probably a human factor. Since the indicator contains values about the total length of service that affects the accounting of the borrower's solvency, it is advisable to replace them with positive ones, as well as lead to an integer format. NaN gaps have also been identified, the short ones will need to be replaced.\n",
    "\n",
    "2. In the column **education** - the values are indicated by different spelling, which is duplicates and incorrectly affects data processing - it is necessary to process them and bring them to a single spelling. Such mistakes are not accidental.\n",
    "\n",
    "3. In **total_income** there are missing values in the form of NAN, it is necessary to replace it with an arithmetic mean, since the data will be useful in calculations, and also lead to the format \"two decimal places\".\n",
    "\n",
    "4. In the column **purpose** similar goals are indicated in different words, these are duplicates, lemmanization is necessary.\n",
    "\n",
    "5. Lines in columns days_employed and total_income - they differ, so there are missing values.\n",
    "\n",
    "The general information of the dataframe and its cross section of columns allowed us to determine and distribute the following types of variables:\n",
    "\n",
    "**high - quality** - education,  education_id, family_status, family_status_id, gender, income_type, purpose\n",
    "\n",
    "**quantitative** - children, days_employed, dob_years, total_income \n",
    "\n",
    "**logical** - debt \n",
    "\n",
    "**Data preprocessing is necessary** to fill in the gaps, identify and delete duplicates, bring the values to the correct display, as well as to group and categorize in order to conduct a survey."
   ]
  },
  {
   "cell_type": "markdown",
   "metadata": {},
   "source": [
    "## Step 2. Data preprocessing"
   ]
  },
  {
   "cell_type": "markdown",
   "metadata": {},
   "source": [
    "### Processing of omissions"
   ]
  },
  {
   "cell_type": "code",
   "execution_count": 120,
   "metadata": {},
   "outputs": [
    {
     "data": {
      "text/plain": [
       "children               0\n",
       "days_employed       2174\n",
       "dob_years              0\n",
       "education              0\n",
       "education_id           0\n",
       "family_status          0\n",
       "family_status_id       0\n",
       "gender                 0\n",
       "income_type            0\n",
       "debt                   0\n",
       "total_income        2174\n",
       "purpose                0\n",
       "dtype: int64"
      ]
     },
     "execution_count": 120,
     "metadata": {},
     "output_type": "execute_result"
    }
   ],
   "source": [
    "df.isna().sum() #we identify and count the gaps"
   ]
  },
  {
   "cell_type": "code",
   "execution_count": 121,
   "metadata": {},
   "outputs": [
    {
     "data": {
      "text/html": [
       "<div>\n",
       "<style scoped>\n",
       "    .dataframe tbody tr th:only-of-type {\n",
       "        vertical-align: middle;\n",
       "    }\n",
       "\n",
       "    .dataframe tbody tr th {\n",
       "        vertical-align: top;\n",
       "    }\n",
       "\n",
       "    .dataframe thead th {\n",
       "        text-align: right;\n",
       "    }\n",
       "</style>\n",
       "<table border=\"1\" class=\"dataframe\">\n",
       "  <thead>\n",
       "    <tr style=\"text-align: right;\">\n",
       "      <th></th>\n",
       "      <th>children</th>\n",
       "      <th>days_employed</th>\n",
       "      <th>dob_years</th>\n",
       "      <th>education</th>\n",
       "      <th>education_id</th>\n",
       "      <th>family_status</th>\n",
       "      <th>family_status_id</th>\n",
       "      <th>gender</th>\n",
       "      <th>income_type</th>\n",
       "      <th>debt</th>\n",
       "      <th>total_income</th>\n",
       "      <th>purpose</th>\n",
       "    </tr>\n",
       "  </thead>\n",
       "  <tbody>\n",
       "    <tr>\n",
       "      <th>12</th>\n",
       "      <td>0</td>\n",
       "      <td>NaN</td>\n",
       "      <td>65</td>\n",
       "      <td>среднее</td>\n",
       "      <td>1</td>\n",
       "      <td>гражданский брак</td>\n",
       "      <td>1</td>\n",
       "      <td>M</td>\n",
       "      <td>пенсионер</td>\n",
       "      <td>0</td>\n",
       "      <td>NaN</td>\n",
       "      <td>сыграть свадьбу</td>\n",
       "    </tr>\n",
       "    <tr>\n",
       "      <th>26</th>\n",
       "      <td>0</td>\n",
       "      <td>NaN</td>\n",
       "      <td>41</td>\n",
       "      <td>среднее</td>\n",
       "      <td>1</td>\n",
       "      <td>женат / замужем</td>\n",
       "      <td>0</td>\n",
       "      <td>M</td>\n",
       "      <td>госслужащий</td>\n",
       "      <td>0</td>\n",
       "      <td>NaN</td>\n",
       "      <td>образование</td>\n",
       "    </tr>\n",
       "    <tr>\n",
       "      <th>29</th>\n",
       "      <td>0</td>\n",
       "      <td>NaN</td>\n",
       "      <td>63</td>\n",
       "      <td>среднее</td>\n",
       "      <td>1</td>\n",
       "      <td>Не женат / не замужем</td>\n",
       "      <td>4</td>\n",
       "      <td>F</td>\n",
       "      <td>пенсионер</td>\n",
       "      <td>0</td>\n",
       "      <td>NaN</td>\n",
       "      <td>строительство жилой недвижимости</td>\n",
       "    </tr>\n",
       "    <tr>\n",
       "      <th>41</th>\n",
       "      <td>0</td>\n",
       "      <td>NaN</td>\n",
       "      <td>50</td>\n",
       "      <td>среднее</td>\n",
       "      <td>1</td>\n",
       "      <td>женат / замужем</td>\n",
       "      <td>0</td>\n",
       "      <td>F</td>\n",
       "      <td>госслужащий</td>\n",
       "      <td>0</td>\n",
       "      <td>NaN</td>\n",
       "      <td>сделка с подержанным автомобилем</td>\n",
       "    </tr>\n",
       "    <tr>\n",
       "      <th>55</th>\n",
       "      <td>0</td>\n",
       "      <td>NaN</td>\n",
       "      <td>54</td>\n",
       "      <td>среднее</td>\n",
       "      <td>1</td>\n",
       "      <td>гражданский брак</td>\n",
       "      <td>1</td>\n",
       "      <td>F</td>\n",
       "      <td>пенсионер</td>\n",
       "      <td>1</td>\n",
       "      <td>NaN</td>\n",
       "      <td>сыграть свадьбу</td>\n",
       "    </tr>\n",
       "    <tr>\n",
       "      <th>...</th>\n",
       "      <td>...</td>\n",
       "      <td>...</td>\n",
       "      <td>...</td>\n",
       "      <td>...</td>\n",
       "      <td>...</td>\n",
       "      <td>...</td>\n",
       "      <td>...</td>\n",
       "      <td>...</td>\n",
       "      <td>...</td>\n",
       "      <td>...</td>\n",
       "      <td>...</td>\n",
       "      <td>...</td>\n",
       "    </tr>\n",
       "    <tr>\n",
       "      <th>21489</th>\n",
       "      <td>2</td>\n",
       "      <td>NaN</td>\n",
       "      <td>47</td>\n",
       "      <td>Среднее</td>\n",
       "      <td>1</td>\n",
       "      <td>женат / замужем</td>\n",
       "      <td>0</td>\n",
       "      <td>M</td>\n",
       "      <td>компаньон</td>\n",
       "      <td>0</td>\n",
       "      <td>NaN</td>\n",
       "      <td>сделка с автомобилем</td>\n",
       "    </tr>\n",
       "    <tr>\n",
       "      <th>21495</th>\n",
       "      <td>1</td>\n",
       "      <td>NaN</td>\n",
       "      <td>50</td>\n",
       "      <td>среднее</td>\n",
       "      <td>1</td>\n",
       "      <td>гражданский брак</td>\n",
       "      <td>1</td>\n",
       "      <td>F</td>\n",
       "      <td>сотрудник</td>\n",
       "      <td>0</td>\n",
       "      <td>NaN</td>\n",
       "      <td>свадьба</td>\n",
       "    </tr>\n",
       "    <tr>\n",
       "      <th>21497</th>\n",
       "      <td>0</td>\n",
       "      <td>NaN</td>\n",
       "      <td>48</td>\n",
       "      <td>ВЫСШЕЕ</td>\n",
       "      <td>0</td>\n",
       "      <td>женат / замужем</td>\n",
       "      <td>0</td>\n",
       "      <td>F</td>\n",
       "      <td>компаньон</td>\n",
       "      <td>0</td>\n",
       "      <td>NaN</td>\n",
       "      <td>строительство недвижимости</td>\n",
       "    </tr>\n",
       "    <tr>\n",
       "      <th>21502</th>\n",
       "      <td>1</td>\n",
       "      <td>NaN</td>\n",
       "      <td>42</td>\n",
       "      <td>среднее</td>\n",
       "      <td>1</td>\n",
       "      <td>женат / замужем</td>\n",
       "      <td>0</td>\n",
       "      <td>F</td>\n",
       "      <td>сотрудник</td>\n",
       "      <td>0</td>\n",
       "      <td>NaN</td>\n",
       "      <td>строительство жилой недвижимости</td>\n",
       "    </tr>\n",
       "    <tr>\n",
       "      <th>21510</th>\n",
       "      <td>2</td>\n",
       "      <td>NaN</td>\n",
       "      <td>28</td>\n",
       "      <td>среднее</td>\n",
       "      <td>1</td>\n",
       "      <td>женат / замужем</td>\n",
       "      <td>0</td>\n",
       "      <td>F</td>\n",
       "      <td>сотрудник</td>\n",
       "      <td>0</td>\n",
       "      <td>NaN</td>\n",
       "      <td>приобретение автомобиля</td>\n",
       "    </tr>\n",
       "  </tbody>\n",
       "</table>\n",
       "<p>2174 rows × 12 columns</p>\n",
       "</div>"
      ],
      "text/plain": [
       "       children  days_employed  dob_years education  education_id  \\\n",
       "12            0            NaN         65   среднее             1   \n",
       "26            0            NaN         41   среднее             1   \n",
       "29            0            NaN         63   среднее             1   \n",
       "41            0            NaN         50   среднее             1   \n",
       "55            0            NaN         54   среднее             1   \n",
       "...         ...            ...        ...       ...           ...   \n",
       "21489         2            NaN         47   Среднее             1   \n",
       "21495         1            NaN         50   среднее             1   \n",
       "21497         0            NaN         48    ВЫСШЕЕ             0   \n",
       "21502         1            NaN         42   среднее             1   \n",
       "21510         2            NaN         28   среднее             1   \n",
       "\n",
       "               family_status  family_status_id gender  income_type  debt  \\\n",
       "12          гражданский брак                 1      M    пенсионер     0   \n",
       "26           женат / замужем                 0      M  госслужащий     0   \n",
       "29     Не женат / не замужем                 4      F    пенсионер     0   \n",
       "41           женат / замужем                 0      F  госслужащий     0   \n",
       "55          гражданский брак                 1      F    пенсионер     1   \n",
       "...                      ...               ...    ...          ...   ...   \n",
       "21489        женат / замужем                 0      M    компаньон     0   \n",
       "21495       гражданский брак                 1      F    сотрудник     0   \n",
       "21497        женат / замужем                 0      F    компаньон     0   \n",
       "21502        женат / замужем                 0      F    сотрудник     0   \n",
       "21510        женат / замужем                 0      F    сотрудник     0   \n",
       "\n",
       "       total_income                           purpose  \n",
       "12              NaN                   сыграть свадьбу  \n",
       "26              NaN                       образование  \n",
       "29              NaN  строительство жилой недвижимости  \n",
       "41              NaN  сделка с подержанным автомобилем  \n",
       "55              NaN                   сыграть свадьбу  \n",
       "...             ...                               ...  \n",
       "21489           NaN              сделка с автомобилем  \n",
       "21495           NaN                           свадьба  \n",
       "21497           NaN        строительство недвижимости  \n",
       "21502           NaN  строительство жилой недвижимости  \n",
       "21510           NaN           приобретение автомобиля  \n",
       "\n",
       "[2174 rows x 12 columns]"
      ]
     },
     "execution_count": 121,
     "metadata": {},
     "output_type": "execute_result"
    }
   ],
   "source": [
    "df[df['days_employed'].isna()] #displaying gaps in the dataframe columns"
   ]
  },
  {
   "cell_type": "markdown",
   "metadata": {},
   "source": [
    "**Conclusion**\n",
    "As it was determined when studying the general information, there are missing values with the same number in the days_employed and total_income columns, and NAN were also detected.\n",
    "days_employed and total_income are the quantitative values required in calculations for subsequent data analysis. Apparently, this information was not transmitted.\n",
    "It is necessary to fill in the missing values, as well as identify duplicates and delete them."
   ]
  },
  {
   "cell_type": "code",
   "execution_count": 122,
   "metadata": {},
   "outputs": [
    {
     "data": {
      "text/plain": [
       "array([ 1,  0,  3,  2, -1,  4, 20,  5])"
      ]
     },
     "execution_count": 122,
     "metadata": {},
     "output_type": "execute_result"
    }
   ],
   "source": [
    "df['children'].unique() #identifying unique values by column children"
   ]
  },
  {
   "cell_type": "code",
   "execution_count": 123,
   "metadata": {},
   "outputs": [
    {
     "name": "stdout",
     "output_type": "stream",
     "text": [
      "[ 1  0  3  2  4 20  5]\n"
     ]
    }
   ],
   "source": [
    "df['children'] = df['children'].abs() #we replace using the abs() method, simultaneously overwriting the variable\n",
    "#df['children'] = df['children'].replace(-1, 1) #the second method\n",
    "print(df['children'].unique()) #print it out"
   ]
  },
  {
   "cell_type": "code",
   "execution_count": 124,
   "metadata": {},
   "outputs": [
    {
     "name": "stdout",
     "output_type": "stream",
     "text": [
      "[1. 0. 3. 2. 4. 5.]\n"
     ]
    }
   ],
   "source": [
    "children_median = df['children'].median() #we look for the median value in the children column not including 20 and save it to a variable\n",
    "df['children'] = df['children'].replace(20, children_median)#replace 20 with the median value\n",
    "print(df['children'].unique())#we check that the replacement has occurred"
   ]
  },
  {
   "cell_type": "markdown",
   "metadata": {},
   "source": [
    "**Conclusion**\n",
    "When searching for unique values, the digit \"-1\" was detected. this value for the number of children is incorrect. This is probably a typo. \n",
    "It was replaced by a positive number by the abs() method.\n",
    "It is likely that the family has 20 children (there may be different reasons, for example adoption or a religious family), but clearly, this is a mistake. It is better to clarify these data in the future, but for now, it has been decided to replace 20 with the median value."
   ]
  },
  {
   "cell_type": "code",
   "execution_count": 125,
   "metadata": {},
   "outputs": [
    {
     "name": "stdout",
     "output_type": "stream",
     "text": [
      "['высшее' 'среднее' 'Среднее' 'СРЕДНЕЕ' 'ВЫСШЕЕ' 'неоконченное высшее'\n",
      " 'начальное' 'Высшее' 'НЕОКОНЧЕННОЕ ВЫСШЕЕ' 'Неоконченное высшее'\n",
      " 'НАЧАЛЬНОЕ' 'Начальное' 'Ученая степень' 'УЧЕНАЯ СТЕПЕНЬ'\n",
      " 'ученая степень']\n",
      "Уникальных значений education: 15\n"
     ]
    }
   ],
   "source": [
    "education_unique = df['education'].unique() #identifying unique values by column education\n",
    "print(education_unique) #we print it out\n",
    "print('Уникальных значений education:', len(education_unique))#counting unique values with printing output"
   ]
  },
  {
   "cell_type": "code",
   "execution_count": 126,
   "metadata": {},
   "outputs": [
    {
     "data": {
      "text/plain": [
       "5"
      ]
     },
     "execution_count": 126,
     "metadata": {},
     "output_type": "execute_result"
    }
   ],
   "source": [
    "df['education'] = df['education'].str.lower() #replacing the spelling of the values of the education column in lowercase\n",
    "education_unique_str = df['education'].unique() #overwriting the variable by searching for unique values\n",
    "len(education_unique_str)#counting unique values with printing output"
   ]
  },
  {
   "cell_type": "markdown",
   "metadata": {},
   "source": [
    "**Conclusion** \n",
    "When searching for unique values, the spelling of values with different registers was revealed. These are duplicates. It can be seen that they were entered manually. Because of this, the number of values is greater than it should actually be. \n",
    "After converting to a string value and counting, we see that the unique values have decreased from 15 to 5."
   ]
  },
  {
   "cell_type": "code",
   "execution_count": 127,
   "metadata": {},
   "outputs": [
    {
     "name": "stdout",
     "output_type": "stream",
     "text": [
      "['женат / замужем' 'гражданский брак' 'вдовец / вдова' 'в разводе'\n",
      " 'не женат / не замужем']\n"
     ]
    }
   ],
   "source": [
    "df['family_status'] = df['family_status'].str.lower()#replacing the spelling of the values of the family_status column in lowercase\n",
    "print(df['family_status'].unique()) # by searching for unique values, we display on the screen"
   ]
  },
  {
   "cell_type": "markdown",
   "metadata": {},
   "source": [
    "**Conclusion** \n",
    "When searching for unique values, the spelling of values with different registers was revealed. Or is it a human factor, or an accidental error (maybe it was already \"hammered in\")\n",
    "After being translated into a string value and counting, we see a single format of writing - in a string"
   ]
  },
  {
   "cell_type": "code",
   "execution_count": 128,
   "metadata": {},
   "outputs": [
    {
     "data": {
      "text/plain": [
       "array(['F', 'M', 'XNA'], dtype=object)"
      ]
     },
     "execution_count": 128,
     "metadata": {},
     "output_type": "execute_result"
    }
   ],
   "source": [
    "df['gender'].unique() #identifying unique values by column gender"
   ]
  },
  {
   "cell_type": "code",
   "execution_count": 129,
   "metadata": {
    "scrolled": true
   },
   "outputs": [
    {
     "data": {
      "text/html": [
       "<div>\n",
       "<style scoped>\n",
       "    .dataframe tbody tr th:only-of-type {\n",
       "        vertical-align: middle;\n",
       "    }\n",
       "\n",
       "    .dataframe tbody tr th {\n",
       "        vertical-align: top;\n",
       "    }\n",
       "\n",
       "    .dataframe thead th {\n",
       "        text-align: right;\n",
       "    }\n",
       "</style>\n",
       "<table border=\"1\" class=\"dataframe\">\n",
       "  <thead>\n",
       "    <tr style=\"text-align: right;\">\n",
       "      <th></th>\n",
       "      <th>children</th>\n",
       "      <th>days_employed</th>\n",
       "      <th>dob_years</th>\n",
       "      <th>education</th>\n",
       "      <th>education_id</th>\n",
       "      <th>family_status</th>\n",
       "      <th>family_status_id</th>\n",
       "      <th>gender</th>\n",
       "      <th>income_type</th>\n",
       "      <th>debt</th>\n",
       "      <th>total_income</th>\n",
       "      <th>purpose</th>\n",
       "    </tr>\n",
       "  </thead>\n",
       "  <tbody>\n",
       "    <tr>\n",
       "      <th>10701</th>\n",
       "      <td>0.0</td>\n",
       "      <td>-2358.600502</td>\n",
       "      <td>24</td>\n",
       "      <td>неоконченное высшее</td>\n",
       "      <td>2</td>\n",
       "      <td>гражданский брак</td>\n",
       "      <td>1</td>\n",
       "      <td>XNA</td>\n",
       "      <td>компаньон</td>\n",
       "      <td>0</td>\n",
       "      <td>203905.157261</td>\n",
       "      <td>покупка недвижимости</td>\n",
       "    </tr>\n",
       "  </tbody>\n",
       "</table>\n",
       "</div>"
      ],
      "text/plain": [
       "       children  days_employed  dob_years            education  education_id  \\\n",
       "10701       0.0   -2358.600502         24  неоконченное высшее             2   \n",
       "\n",
       "          family_status  family_status_id gender income_type  debt  \\\n",
       "10701  гражданский брак                 1    XNA   компаньон     0   \n",
       "\n",
       "        total_income               purpose  \n",
       "10701  203905.157261  покупка недвижимости  "
      ]
     },
     "execution_count": 129,
     "metadata": {},
     "output_type": "execute_result"
    }
   ],
   "source": [
    "df[df['gender'] == 'XNA']#looking for what 'XNA' is in the column gender"
   ]
  },
  {
   "cell_type": "markdown",
   "metadata": {},
   "source": [
    "**Conclusion** \n",
    "The revealed value of 'XNA' in the gender column is apparently random, since only one row with this value has been determined. We can only assume that this is a woman.\n",
    "Despite the fact that it is more typical for a man not to graduate from higher education and at the same time not to have children at the age of 24, the analysis of the cross-section by gender, education, age (up to 30 years) and goals showed that there are 4 more women according to these criteria."
   ]
  },
  {
   "cell_type": "code",
   "execution_count": 130,
   "metadata": {},
   "outputs": [
    {
     "name": "stdout",
     "output_type": "stream",
     "text": [
      "0         True\n",
      "1         True\n",
      "2        False\n",
      "3        False\n",
      "4         True\n",
      "         ...  \n",
      "21520     True\n",
      "21521     True\n",
      "21522    False\n",
      "21523    False\n",
      "21524     True\n",
      "Name: gender, Length: 21525, dtype: bool\n"
     ]
    }
   ],
   "source": [
    "#First, let's put together a list where the rows with the floor M correspond to the values True, and the rest— False.\n",
    "print(df['gender'] == 'F')"
   ]
  },
  {
   "cell_type": "code",
   "execution_count": 131,
   "metadata": {},
   "outputs": [],
   "source": [
    "#select the strings with the value True and one more condition about education:\n",
    "# display(df[(df['gender'] == 'F') & (df['education'] =='неоконченное высшее') & (df['children'] < 1) & (df['dob_years'] < 30) & (df['purpose_category'] == 'недвижимость')]) # передаём булев массив как индекс датафрейма"
   ]
  },
  {
   "cell_type": "code",
   "execution_count": 132,
   "metadata": {},
   "outputs": [],
   "source": [
    "#select the strings with the value True and one more condition about education:\n",
    "# display(df[(df['gender'] != 'F') & (df['education'] =='неоконченное высшее') & (df['children'] < 1) & (df['dob_years'] < 30) & (df['purpose_category'] == 'недвижимость')]) # передаём булев массив как индекс датафрейма"
   ]
  },
  {
   "cell_type": "code",
   "execution_count": 133,
   "metadata": {},
   "outputs": [
    {
     "data": {
      "text/plain": [
       "array(['сотрудник', 'пенсионер', 'компаньон', 'госслужащий',\n",
       "       'безработный', 'предприниматель', 'студент', 'в декрете'],\n",
       "      dtype=object)"
      ]
     },
     "execution_count": 133,
     "metadata": {},
     "output_type": "execute_result"
    }
   ],
   "source": [
    "df['income_type'].unique() #identifying unique values by column income_type"
   ]
  },
  {
   "cell_type": "code",
   "execution_count": 134,
   "metadata": {},
   "outputs": [
    {
     "name": "stdout",
     "output_type": "stream",
     "text": [
      "['покупка жилья' 'приобретение автомобиля' 'дополнительное образование'\n",
      " 'сыграть свадьбу' 'операции с жильем' 'образование'\n",
      " 'на проведение свадьбы' 'покупка жилья для семьи' 'покупка недвижимости'\n",
      " 'покупка коммерческой недвижимости' 'покупка жилой недвижимости'\n",
      " 'строительство собственной недвижимости' 'недвижимость'\n",
      " 'строительство недвижимости' 'на покупку подержанного автомобиля'\n",
      " 'на покупку своего автомобиля' 'операции с коммерческой недвижимостью'\n",
      " 'строительство жилой недвижимости' 'жилье'\n",
      " 'операции со своей недвижимостью' 'автомобили' 'заняться образованием'\n",
      " 'сделка с подержанным автомобилем' 'получение образования' 'автомобиль'\n",
      " 'свадьба' 'получение дополнительного образования' 'покупка своего жилья'\n",
      " 'операции с недвижимостью' 'получение высшего образования'\n",
      " 'свой автомобиль' 'сделка с автомобилем' 'профильное образование'\n",
      " 'высшее образование' 'покупка жилья для сдачи' 'на покупку автомобиля'\n",
      " 'ремонт жилью' 'заняться высшим образованием']\n",
      "unique values purpose: 38\n"
     ]
    }
   ],
   "source": [
    "df['purpose'].unique() #identifying unique values by column purpose\n",
    "purpose_unique = df['purpose'].unique()#overwriting the variable\n",
    "print(purpose_unique)#print it out\n",
    "print('unique values purpose:', len(purpose_unique))#counting unique values with printing output"
   ]
  },
  {
   "cell_type": "markdown",
   "metadata": {},
   "source": [
    "**Conclusion** \n",
    "When searching for unique values, the same goals were identified, but with different spellings. Because of this, the number of values is greater than it should actually be. It is necessary to bring it to a single format through lemmatization."
   ]
  },
  {
   "cell_type": "code",
   "execution_count": 135,
   "metadata": {},
   "outputs": [
    {
     "name": "stdout",
     "output_type": "stream",
     "text": [
      "income_type\n",
      "безработный        131339.751676\n",
      "в декрете           53829.130729\n",
      "госслужащий        170898.309923\n",
      "компаньон          202417.461462\n",
      "пенсионер          137127.465690\n",
      "предприниматель    499163.144947\n",
      "сотрудник          161380.260488\n",
      "студент             98201.625314\n",
      "Name: total_income, dtype: float64\n"
     ]
    }
   ],
   "source": [
    "#way 1\n",
    "#1.creating a grouping for the total_income column with average values, then to combine with the main table\n",
    "total_income_group_mean = df.groupby('income_type')['total_income'].mean()\n",
    "print(total_income_group_mean) #checking the grouping"
   ]
  },
  {
   "cell_type": "code",
   "execution_count": 136,
   "metadata": {},
   "outputs": [
    {
     "data": {
      "text/html": [
       "<div>\n",
       "<style scoped>\n",
       "    .dataframe tbody tr th:only-of-type {\n",
       "        vertical-align: middle;\n",
       "    }\n",
       "\n",
       "    .dataframe tbody tr th {\n",
       "        vertical-align: top;\n",
       "    }\n",
       "\n",
       "    .dataframe thead th {\n",
       "        text-align: right;\n",
       "    }\n",
       "</style>\n",
       "<table border=\"1\" class=\"dataframe\">\n",
       "  <thead>\n",
       "    <tr style=\"text-align: right;\">\n",
       "      <th></th>\n",
       "      <th>income_type</th>\n",
       "      <th>df_income_mean</th>\n",
       "    </tr>\n",
       "  </thead>\n",
       "  <tbody>\n",
       "    <tr>\n",
       "      <th>0</th>\n",
       "      <td>безработный</td>\n",
       "      <td>131339.751676</td>\n",
       "    </tr>\n",
       "    <tr>\n",
       "      <th>1</th>\n",
       "      <td>в декрете</td>\n",
       "      <td>53829.130729</td>\n",
       "    </tr>\n",
       "    <tr>\n",
       "      <th>2</th>\n",
       "      <td>госслужащий</td>\n",
       "      <td>170898.309923</td>\n",
       "    </tr>\n",
       "    <tr>\n",
       "      <th>3</th>\n",
       "      <td>компаньон</td>\n",
       "      <td>202417.461462</td>\n",
       "    </tr>\n",
       "    <tr>\n",
       "      <th>4</th>\n",
       "      <td>пенсионер</td>\n",
       "      <td>137127.465690</td>\n",
       "    </tr>\n",
       "    <tr>\n",
       "      <th>5</th>\n",
       "      <td>предприниматель</td>\n",
       "      <td>499163.144947</td>\n",
       "    </tr>\n",
       "    <tr>\n",
       "      <th>6</th>\n",
       "      <td>сотрудник</td>\n",
       "      <td>161380.260488</td>\n",
       "    </tr>\n",
       "    <tr>\n",
       "      <th>7</th>\n",
       "      <td>студент</td>\n",
       "      <td>98201.625314</td>\n",
       "    </tr>\n",
       "  </tbody>\n",
       "</table>\n",
       "</div>"
      ],
      "text/plain": [
       "       income_type  df_income_mean\n",
       "0      безработный   131339.751676\n",
       "1        в декрете    53829.130729\n",
       "2      госслужащий   170898.309923\n",
       "3        компаньон   202417.461462\n",
       "4        пенсионер   137127.465690\n",
       "5  предприниматель   499163.144947\n",
       "6        сотрудник   161380.260488\n",
       "7          студент    98201.625314"
      ]
     },
     "execution_count": 136,
     "metadata": {},
     "output_type": "execute_result"
    }
   ],
   "source": [
    "#2.creating an income_mean dataframe with average revenue values added to the pivot table\n",
    "df_income_mean = pd.DataFrame({'df_income_mean':total_income_group_mean}).reset_index()\n",
    "df_income_mean #we display it on the screen in a beautiful table"
   ]
  },
  {
   "cell_type": "code",
   "execution_count": 137,
   "metadata": {
    "scrolled": true
   },
   "outputs": [
    {
     "name": "stdout",
     "output_type": "stream",
     "text": [
      "0\n"
     ]
    },
    {
     "data": {
      "text/html": [
       "<div>\n",
       "<style scoped>\n",
       "    .dataframe tbody tr th:only-of-type {\n",
       "        vertical-align: middle;\n",
       "    }\n",
       "\n",
       "    .dataframe tbody tr th {\n",
       "        vertical-align: top;\n",
       "    }\n",
       "\n",
       "    .dataframe thead th {\n",
       "        text-align: right;\n",
       "    }\n",
       "</style>\n",
       "<table border=\"1\" class=\"dataframe\">\n",
       "  <thead>\n",
       "    <tr style=\"text-align: right;\">\n",
       "      <th></th>\n",
       "      <th>children</th>\n",
       "      <th>days_employed</th>\n",
       "      <th>dob_years</th>\n",
       "      <th>education</th>\n",
       "      <th>education_id</th>\n",
       "      <th>family_status</th>\n",
       "      <th>family_status_id</th>\n",
       "      <th>gender</th>\n",
       "      <th>income_type</th>\n",
       "      <th>debt</th>\n",
       "      <th>total_income</th>\n",
       "      <th>purpose</th>\n",
       "      <th>df_income_mean</th>\n",
       "    </tr>\n",
       "  </thead>\n",
       "  <tbody>\n",
       "    <tr>\n",
       "      <th>0</th>\n",
       "      <td>1.0</td>\n",
       "      <td>337524.466835</td>\n",
       "      <td>31</td>\n",
       "      <td>среднее</td>\n",
       "      <td>1</td>\n",
       "      <td>женат / замужем</td>\n",
       "      <td>0</td>\n",
       "      <td>M</td>\n",
       "      <td>безработный</td>\n",
       "      <td>1</td>\n",
       "      <td>59956.991984</td>\n",
       "      <td>покупка жилья для сдачи</td>\n",
       "      <td>131339.751676</td>\n",
       "    </tr>\n",
       "    <tr>\n",
       "      <th>1</th>\n",
       "      <td>0.0</td>\n",
       "      <td>395302.838654</td>\n",
       "      <td>45</td>\n",
       "      <td>высшее</td>\n",
       "      <td>0</td>\n",
       "      <td>гражданский брак</td>\n",
       "      <td>1</td>\n",
       "      <td>F</td>\n",
       "      <td>безработный</td>\n",
       "      <td>0</td>\n",
       "      <td>202722.511368</td>\n",
       "      <td>ремонт жилью</td>\n",
       "      <td>131339.751676</td>\n",
       "    </tr>\n",
       "    <tr>\n",
       "      <th>2</th>\n",
       "      <td>2.0</td>\n",
       "      <td>-3296.759962</td>\n",
       "      <td>39</td>\n",
       "      <td>среднее</td>\n",
       "      <td>1</td>\n",
       "      <td>женат / замужем</td>\n",
       "      <td>0</td>\n",
       "      <td>F</td>\n",
       "      <td>в декрете</td>\n",
       "      <td>1</td>\n",
       "      <td>53829.130729</td>\n",
       "      <td>автомобиль</td>\n",
       "      <td>53829.130729</td>\n",
       "    </tr>\n",
       "    <tr>\n",
       "      <th>3</th>\n",
       "      <td>0.0</td>\n",
       "      <td>NaN</td>\n",
       "      <td>41</td>\n",
       "      <td>среднее</td>\n",
       "      <td>1</td>\n",
       "      <td>женат / замужем</td>\n",
       "      <td>0</td>\n",
       "      <td>M</td>\n",
       "      <td>госслужащий</td>\n",
       "      <td>0</td>\n",
       "      <td>170898.309923</td>\n",
       "      <td>образование</td>\n",
       "      <td>170898.309923</td>\n",
       "    </tr>\n",
       "    <tr>\n",
       "      <th>4</th>\n",
       "      <td>0.0</td>\n",
       "      <td>NaN</td>\n",
       "      <td>50</td>\n",
       "      <td>среднее</td>\n",
       "      <td>1</td>\n",
       "      <td>женат / замужем</td>\n",
       "      <td>0</td>\n",
       "      <td>F</td>\n",
       "      <td>госслужащий</td>\n",
       "      <td>0</td>\n",
       "      <td>170898.309923</td>\n",
       "      <td>сделка с подержанным автомобилем</td>\n",
       "      <td>170898.309923</td>\n",
       "    </tr>\n",
       "    <tr>\n",
       "      <th>...</th>\n",
       "      <td>...</td>\n",
       "      <td>...</td>\n",
       "      <td>...</td>\n",
       "      <td>...</td>\n",
       "      <td>...</td>\n",
       "      <td>...</td>\n",
       "      <td>...</td>\n",
       "      <td>...</td>\n",
       "      <td>...</td>\n",
       "      <td>...</td>\n",
       "      <td>...</td>\n",
       "      <td>...</td>\n",
       "      <td>...</td>\n",
       "    </tr>\n",
       "    <tr>\n",
       "      <th>21520</th>\n",
       "      <td>1.0</td>\n",
       "      <td>-2351.431934</td>\n",
       "      <td>37</td>\n",
       "      <td>ученая степень</td>\n",
       "      <td>4</td>\n",
       "      <td>в разводе</td>\n",
       "      <td>3</td>\n",
       "      <td>M</td>\n",
       "      <td>сотрудник</td>\n",
       "      <td>0</td>\n",
       "      <td>115949.039788</td>\n",
       "      <td>покупка коммерческой недвижимости</td>\n",
       "      <td>161380.260488</td>\n",
       "    </tr>\n",
       "    <tr>\n",
       "      <th>21521</th>\n",
       "      <td>1.0</td>\n",
       "      <td>-2113.346888</td>\n",
       "      <td>38</td>\n",
       "      <td>среднее</td>\n",
       "      <td>1</td>\n",
       "      <td>гражданский брак</td>\n",
       "      <td>1</td>\n",
       "      <td>M</td>\n",
       "      <td>сотрудник</td>\n",
       "      <td>1</td>\n",
       "      <td>89672.561153</td>\n",
       "      <td>недвижимость</td>\n",
       "      <td>161380.260488</td>\n",
       "    </tr>\n",
       "    <tr>\n",
       "      <th>21522</th>\n",
       "      <td>3.0</td>\n",
       "      <td>-3112.481705</td>\n",
       "      <td>38</td>\n",
       "      <td>среднее</td>\n",
       "      <td>1</td>\n",
       "      <td>женат / замужем</td>\n",
       "      <td>0</td>\n",
       "      <td>M</td>\n",
       "      <td>сотрудник</td>\n",
       "      <td>1</td>\n",
       "      <td>244093.050500</td>\n",
       "      <td>на покупку своего автомобиля</td>\n",
       "      <td>161380.260488</td>\n",
       "    </tr>\n",
       "    <tr>\n",
       "      <th>21523</th>\n",
       "      <td>2.0</td>\n",
       "      <td>-1984.507589</td>\n",
       "      <td>40</td>\n",
       "      <td>среднее</td>\n",
       "      <td>1</td>\n",
       "      <td>женат / замужем</td>\n",
       "      <td>0</td>\n",
       "      <td>F</td>\n",
       "      <td>сотрудник</td>\n",
       "      <td>0</td>\n",
       "      <td>82047.418899</td>\n",
       "      <td>на покупку автомобиля</td>\n",
       "      <td>161380.260488</td>\n",
       "    </tr>\n",
       "    <tr>\n",
       "      <th>21524</th>\n",
       "      <td>0.0</td>\n",
       "      <td>-578.751554</td>\n",
       "      <td>22</td>\n",
       "      <td>высшее</td>\n",
       "      <td>0</td>\n",
       "      <td>не женат / не замужем</td>\n",
       "      <td>4</td>\n",
       "      <td>M</td>\n",
       "      <td>студент</td>\n",
       "      <td>0</td>\n",
       "      <td>98201.625314</td>\n",
       "      <td>строительство собственной недвижимости</td>\n",
       "      <td>98201.625314</td>\n",
       "    </tr>\n",
       "  </tbody>\n",
       "</table>\n",
       "<p>21525 rows × 13 columns</p>\n",
       "</div>"
      ],
      "text/plain": [
       "       children  days_employed  dob_years       education  education_id  \\\n",
       "0           1.0  337524.466835         31         среднее             1   \n",
       "1           0.0  395302.838654         45          высшее             0   \n",
       "2           2.0   -3296.759962         39         среднее             1   \n",
       "3           0.0            NaN         41         среднее             1   \n",
       "4           0.0            NaN         50         среднее             1   \n",
       "...         ...            ...        ...             ...           ...   \n",
       "21520       1.0   -2351.431934         37  ученая степень             4   \n",
       "21521       1.0   -2113.346888         38         среднее             1   \n",
       "21522       3.0   -3112.481705         38         среднее             1   \n",
       "21523       2.0   -1984.507589         40         среднее             1   \n",
       "21524       0.0    -578.751554         22          высшее             0   \n",
       "\n",
       "               family_status  family_status_id gender  income_type  debt  \\\n",
       "0            женат / замужем                 0      M  безработный     1   \n",
       "1           гражданский брак                 1      F  безработный     0   \n",
       "2            женат / замужем                 0      F    в декрете     1   \n",
       "3            женат / замужем                 0      M  госслужащий     0   \n",
       "4            женат / замужем                 0      F  госслужащий     0   \n",
       "...                      ...               ...    ...          ...   ...   \n",
       "21520              в разводе                 3      M    сотрудник     0   \n",
       "21521       гражданский брак                 1      M    сотрудник     1   \n",
       "21522        женат / замужем                 0      M    сотрудник     1   \n",
       "21523        женат / замужем                 0      F    сотрудник     0   \n",
       "21524  не женат / не замужем                 4      M      студент     0   \n",
       "\n",
       "        total_income                                 purpose  df_income_mean  \n",
       "0       59956.991984                 покупка жилья для сдачи   131339.751676  \n",
       "1      202722.511368                            ремонт жилью   131339.751676  \n",
       "2       53829.130729                              автомобиль    53829.130729  \n",
       "3      170898.309923                             образование   170898.309923  \n",
       "4      170898.309923        сделка с подержанным автомобилем   170898.309923  \n",
       "...              ...                                     ...             ...  \n",
       "21520  115949.039788       покупка коммерческой недвижимости   161380.260488  \n",
       "21521   89672.561153                            недвижимость   161380.260488  \n",
       "21522  244093.050500            на покупку своего автомобиля   161380.260488  \n",
       "21523   82047.418899                   на покупку автомобиля   161380.260488  \n",
       "21524   98201.625314  строительство собственной недвижимости    98201.625314  \n",
       "\n",
       "[21525 rows x 13 columns]"
      ]
     },
     "metadata": {},
     "output_type": "display_data"
    }
   ],
   "source": [
    "#3.attaching df_income_mean to the main table\n",
    "df = df.merge(df_income_mean, on='income_type', how='right')#adding a created dataframe to the main dataframe\n",
    "df['total_income'] = df['total_income'].fillna(df['df_income_mean'])#filling in gaps with an average value\n",
    "print(df['total_income'].isna().sum())\n",
    "display(df)"
   ]
  },
  {
   "cell_type": "code",
   "execution_count": 138,
   "metadata": {},
   "outputs": [
    {
     "data": {
      "text/html": [
       "<div>\n",
       "<style scoped>\n",
       "    .dataframe tbody tr th:only-of-type {\n",
       "        vertical-align: middle;\n",
       "    }\n",
       "\n",
       "    .dataframe tbody tr th {\n",
       "        vertical-align: top;\n",
       "    }\n",
       "\n",
       "    .dataframe thead th {\n",
       "        text-align: right;\n",
       "    }\n",
       "</style>\n",
       "<table border=\"1\" class=\"dataframe\">\n",
       "  <thead>\n",
       "    <tr style=\"text-align: right;\">\n",
       "      <th></th>\n",
       "      <th>children</th>\n",
       "      <th>days_employed</th>\n",
       "      <th>dob_years</th>\n",
       "      <th>education</th>\n",
       "      <th>education_id</th>\n",
       "      <th>family_status</th>\n",
       "      <th>family_status_id</th>\n",
       "      <th>gender</th>\n",
       "      <th>income_type</th>\n",
       "      <th>debt</th>\n",
       "      <th>total_income</th>\n",
       "      <th>purpose</th>\n",
       "      <th>df_income_mean</th>\n",
       "    </tr>\n",
       "  </thead>\n",
       "  <tbody>\n",
       "    <tr>\n",
       "      <th>0</th>\n",
       "      <td>1.0</td>\n",
       "      <td>337524.466835</td>\n",
       "      <td>31</td>\n",
       "      <td>среднее</td>\n",
       "      <td>1</td>\n",
       "      <td>женат / замужем</td>\n",
       "      <td>0</td>\n",
       "      <td>M</td>\n",
       "      <td>безработный</td>\n",
       "      <td>1</td>\n",
       "      <td>59956.991984</td>\n",
       "      <td>покупка жилья для сдачи</td>\n",
       "      <td>131339.751676</td>\n",
       "    </tr>\n",
       "    <tr>\n",
       "      <th>1</th>\n",
       "      <td>0.0</td>\n",
       "      <td>395302.838654</td>\n",
       "      <td>45</td>\n",
       "      <td>высшее</td>\n",
       "      <td>0</td>\n",
       "      <td>гражданский брак</td>\n",
       "      <td>1</td>\n",
       "      <td>F</td>\n",
       "      <td>безработный</td>\n",
       "      <td>0</td>\n",
       "      <td>202722.511368</td>\n",
       "      <td>ремонт жилью</td>\n",
       "      <td>131339.751676</td>\n",
       "    </tr>\n",
       "    <tr>\n",
       "      <th>2</th>\n",
       "      <td>2.0</td>\n",
       "      <td>-3296.759962</td>\n",
       "      <td>39</td>\n",
       "      <td>среднее</td>\n",
       "      <td>1</td>\n",
       "      <td>женат / замужем</td>\n",
       "      <td>0</td>\n",
       "      <td>F</td>\n",
       "      <td>в декрете</td>\n",
       "      <td>1</td>\n",
       "      <td>53829.130729</td>\n",
       "      <td>автомобиль</td>\n",
       "      <td>53829.130729</td>\n",
       "    </tr>\n",
       "    <tr>\n",
       "      <th>3</th>\n",
       "      <td>0.0</td>\n",
       "      <td>NaN</td>\n",
       "      <td>41</td>\n",
       "      <td>среднее</td>\n",
       "      <td>1</td>\n",
       "      <td>женат / замужем</td>\n",
       "      <td>0</td>\n",
       "      <td>M</td>\n",
       "      <td>госслужащий</td>\n",
       "      <td>0</td>\n",
       "      <td>170898.309923</td>\n",
       "      <td>образование</td>\n",
       "      <td>170898.309923</td>\n",
       "    </tr>\n",
       "    <tr>\n",
       "      <th>4</th>\n",
       "      <td>0.0</td>\n",
       "      <td>NaN</td>\n",
       "      <td>50</td>\n",
       "      <td>среднее</td>\n",
       "      <td>1</td>\n",
       "      <td>женат / замужем</td>\n",
       "      <td>0</td>\n",
       "      <td>F</td>\n",
       "      <td>госслужащий</td>\n",
       "      <td>0</td>\n",
       "      <td>170898.309923</td>\n",
       "      <td>сделка с подержанным автомобилем</td>\n",
       "      <td>170898.309923</td>\n",
       "    </tr>\n",
       "    <tr>\n",
       "      <th>5</th>\n",
       "      <td>1.0</td>\n",
       "      <td>-2689.137274</td>\n",
       "      <td>33</td>\n",
       "      <td>высшее</td>\n",
       "      <td>0</td>\n",
       "      <td>гражданский брак</td>\n",
       "      <td>1</td>\n",
       "      <td>M</td>\n",
       "      <td>госслужащий</td>\n",
       "      <td>0</td>\n",
       "      <td>356277.909345</td>\n",
       "      <td>на проведение свадьбы</td>\n",
       "      <td>170898.309923</td>\n",
       "    </tr>\n",
       "    <tr>\n",
       "      <th>6</th>\n",
       "      <td>0.0</td>\n",
       "      <td>-7845.649233</td>\n",
       "      <td>48</td>\n",
       "      <td>высшее</td>\n",
       "      <td>0</td>\n",
       "      <td>не женат / не замужем</td>\n",
       "      <td>4</td>\n",
       "      <td>M</td>\n",
       "      <td>госслужащий</td>\n",
       "      <td>0</td>\n",
       "      <td>435388.195272</td>\n",
       "      <td>получение высшего образования</td>\n",
       "      <td>170898.309923</td>\n",
       "    </tr>\n",
       "    <tr>\n",
       "      <th>7</th>\n",
       "      <td>1.0</td>\n",
       "      <td>-2802.226671</td>\n",
       "      <td>28</td>\n",
       "      <td>высшее</td>\n",
       "      <td>0</td>\n",
       "      <td>женат / замужем</td>\n",
       "      <td>0</td>\n",
       "      <td>M</td>\n",
       "      <td>госслужащий</td>\n",
       "      <td>0</td>\n",
       "      <td>207561.466998</td>\n",
       "      <td>покупка коммерческой недвижимости</td>\n",
       "      <td>170898.309923</td>\n",
       "    </tr>\n",
       "    <tr>\n",
       "      <th>8</th>\n",
       "      <td>1.0</td>\n",
       "      <td>NaN</td>\n",
       "      <td>32</td>\n",
       "      <td>высшее</td>\n",
       "      <td>0</td>\n",
       "      <td>женат / замужем</td>\n",
       "      <td>0</td>\n",
       "      <td>M</td>\n",
       "      <td>госслужащий</td>\n",
       "      <td>0</td>\n",
       "      <td>170898.309923</td>\n",
       "      <td>операции с коммерческой недвижимостью</td>\n",
       "      <td>170898.309923</td>\n",
       "    </tr>\n",
       "    <tr>\n",
       "      <th>9</th>\n",
       "      <td>0.0</td>\n",
       "      <td>-7125.215028</td>\n",
       "      <td>53</td>\n",
       "      <td>среднее</td>\n",
       "      <td>1</td>\n",
       "      <td>женат / замужем</td>\n",
       "      <td>0</td>\n",
       "      <td>F</td>\n",
       "      <td>госслужащий</td>\n",
       "      <td>0</td>\n",
       "      <td>255909.172802</td>\n",
       "      <td>операции со своей недвижимостью</td>\n",
       "      <td>170898.309923</td>\n",
       "    </tr>\n",
       "    <tr>\n",
       "      <th>10</th>\n",
       "      <td>0.0</td>\n",
       "      <td>-413.982602</td>\n",
       "      <td>41</td>\n",
       "      <td>среднее</td>\n",
       "      <td>1</td>\n",
       "      <td>женат / замужем</td>\n",
       "      <td>0</td>\n",
       "      <td>M</td>\n",
       "      <td>госслужащий</td>\n",
       "      <td>0</td>\n",
       "      <td>118551.607829</td>\n",
       "      <td>покупка жилья</td>\n",
       "      <td>170898.309923</td>\n",
       "    </tr>\n",
       "    <tr>\n",
       "      <th>11</th>\n",
       "      <td>0.0</td>\n",
       "      <td>-6083.994730</td>\n",
       "      <td>52</td>\n",
       "      <td>среднее</td>\n",
       "      <td>1</td>\n",
       "      <td>женат / замужем</td>\n",
       "      <td>0</td>\n",
       "      <td>F</td>\n",
       "      <td>госслужащий</td>\n",
       "      <td>0</td>\n",
       "      <td>120655.098258</td>\n",
       "      <td>образование</td>\n",
       "      <td>170898.309923</td>\n",
       "    </tr>\n",
       "    <tr>\n",
       "      <th>12</th>\n",
       "      <td>1.0</td>\n",
       "      <td>-2523.847898</td>\n",
       "      <td>38</td>\n",
       "      <td>высшее</td>\n",
       "      <td>0</td>\n",
       "      <td>женат / замужем</td>\n",
       "      <td>0</td>\n",
       "      <td>F</td>\n",
       "      <td>госслужащий</td>\n",
       "      <td>0</td>\n",
       "      <td>97848.276611</td>\n",
       "      <td>операции с коммерческой недвижимостью</td>\n",
       "      <td>170898.309923</td>\n",
       "    </tr>\n",
       "    <tr>\n",
       "      <th>13</th>\n",
       "      <td>0.0</td>\n",
       "      <td>-2572.053173</td>\n",
       "      <td>43</td>\n",
       "      <td>среднее</td>\n",
       "      <td>1</td>\n",
       "      <td>женат / замужем</td>\n",
       "      <td>0</td>\n",
       "      <td>F</td>\n",
       "      <td>госслужащий</td>\n",
       "      <td>0</td>\n",
       "      <td>119827.654245</td>\n",
       "      <td>покупка своего жилья</td>\n",
       "      <td>170898.309923</td>\n",
       "    </tr>\n",
       "    <tr>\n",
       "      <th>14</th>\n",
       "      <td>0.0</td>\n",
       "      <td>-5772.479896</td>\n",
       "      <td>47</td>\n",
       "      <td>среднее</td>\n",
       "      <td>1</td>\n",
       "      <td>женат / замужем</td>\n",
       "      <td>0</td>\n",
       "      <td>F</td>\n",
       "      <td>госслужащий</td>\n",
       "      <td>1</td>\n",
       "      <td>74535.097331</td>\n",
       "      <td>операции с недвижимостью</td>\n",
       "      <td>170898.309923</td>\n",
       "    </tr>\n",
       "  </tbody>\n",
       "</table>\n",
       "</div>"
      ],
      "text/plain": [
       "    children  days_employed  dob_years education  education_id  \\\n",
       "0        1.0  337524.466835         31   среднее             1   \n",
       "1        0.0  395302.838654         45    высшее             0   \n",
       "2        2.0   -3296.759962         39   среднее             1   \n",
       "3        0.0            NaN         41   среднее             1   \n",
       "4        0.0            NaN         50   среднее             1   \n",
       "5        1.0   -2689.137274         33    высшее             0   \n",
       "6        0.0   -7845.649233         48    высшее             0   \n",
       "7        1.0   -2802.226671         28    высшее             0   \n",
       "8        1.0            NaN         32    высшее             0   \n",
       "9        0.0   -7125.215028         53   среднее             1   \n",
       "10       0.0    -413.982602         41   среднее             1   \n",
       "11       0.0   -6083.994730         52   среднее             1   \n",
       "12       1.0   -2523.847898         38    высшее             0   \n",
       "13       0.0   -2572.053173         43   среднее             1   \n",
       "14       0.0   -5772.479896         47   среднее             1   \n",
       "\n",
       "            family_status  family_status_id gender  income_type  debt  \\\n",
       "0         женат / замужем                 0      M  безработный     1   \n",
       "1        гражданский брак                 1      F  безработный     0   \n",
       "2         женат / замужем                 0      F    в декрете     1   \n",
       "3         женат / замужем                 0      M  госслужащий     0   \n",
       "4         женат / замужем                 0      F  госслужащий     0   \n",
       "5        гражданский брак                 1      M  госслужащий     0   \n",
       "6   не женат / не замужем                 4      M  госслужащий     0   \n",
       "7         женат / замужем                 0      M  госслужащий     0   \n",
       "8         женат / замужем                 0      M  госслужащий     0   \n",
       "9         женат / замужем                 0      F  госслужащий     0   \n",
       "10        женат / замужем                 0      M  госслужащий     0   \n",
       "11        женат / замужем                 0      F  госслужащий     0   \n",
       "12        женат / замужем                 0      F  госслужащий     0   \n",
       "13        женат / замужем                 0      F  госслужащий     0   \n",
       "14        женат / замужем                 0      F  госслужащий     1   \n",
       "\n",
       "     total_income                                purpose  df_income_mean  \n",
       "0    59956.991984                покупка жилья для сдачи   131339.751676  \n",
       "1   202722.511368                           ремонт жилью   131339.751676  \n",
       "2    53829.130729                             автомобиль    53829.130729  \n",
       "3   170898.309923                            образование   170898.309923  \n",
       "4   170898.309923       сделка с подержанным автомобилем   170898.309923  \n",
       "5   356277.909345                  на проведение свадьбы   170898.309923  \n",
       "6   435388.195272          получение высшего образования   170898.309923  \n",
       "7   207561.466998      покупка коммерческой недвижимости   170898.309923  \n",
       "8   170898.309923  операции с коммерческой недвижимостью   170898.309923  \n",
       "9   255909.172802        операции со своей недвижимостью   170898.309923  \n",
       "10  118551.607829                          покупка жилья   170898.309923  \n",
       "11  120655.098258                            образование   170898.309923  \n",
       "12   97848.276611  операции с коммерческой недвижимостью   170898.309923  \n",
       "13  119827.654245                   покупка своего жилья   170898.309923  \n",
       "14   74535.097331               операции с недвижимостью   170898.309923  "
      ]
     },
     "metadata": {},
     "output_type": "display_data"
    }
   ],
   "source": [
    "#way2\n",
    "df['total_income'] = df['total_income'].fillna(df.groupby('income_type')['total_income'].transform(lambda x : x.median()))\n",
    "display(df.head(15))"
   ]
  },
  {
   "cell_type": "markdown",
   "metadata": {},
   "source": [
    "**Conclusion** \n",
    "Omissions in the column total_income have been replaced."
   ]
  },
  {
   "cell_type": "markdown",
   "metadata": {},
   "source": [
    "\n",
    "<div class=\"alert alert-success\">\n",
    "<h3>✔ Comment</h3>\n",
    "        \n",
    "replacement by way 2 works only if the omissions are distributed randomly, i.e. the probability of a skip in a row does not depend on other values in the row. What if all the passes in the `total_income` column were only for people without education, and those people without education, where there are no passes, the income is 0? Then it would be necessary to replace the omissions with 0.\n",
    " \n",
    "You can check this in different ways, for example, for each column, you can compare the distribution of the value for the slice with the gaps in `total_income` and the slice without gaps. You can do this via `value_counts(normalize=True)`, or you can group by each column and see the proportion of omissions in each group if their equally omissions are randomly distributed (at least relative to the selected column).\n",
    "</div> "
   ]
  },
  {
   "cell_type": "code",
   "execution_count": 139,
   "metadata": {},
   "outputs": [
    {
     "data": {
      "text/plain": [
       "161380.260488    0.051336\n",
       "202417.461462    0.023600\n",
       "137127.465690    0.019187\n",
       "170898.309923    0.006829\n",
       "499163.144947    0.000093\n",
       "                   ...   \n",
       "257483.510211    0.000046\n",
       "149590.391882    0.000046\n",
       "102401.422569    0.000046\n",
       "170287.046664    0.000046\n",
       "189255.286637    0.000046\n",
       "Name: total_income, Length: 19355, dtype: float64"
      ]
     },
     "execution_count": 139,
     "metadata": {},
     "output_type": "execute_result"
    }
   ],
   "source": [
    "df['total_income'].value_counts(normalize=True)"
   ]
  },
  {
   "cell_type": "code",
   "execution_count": 140,
   "metadata": {},
   "outputs": [
    {
     "data": {
      "text/plain": [
       "income_type\n",
       "безработный        0.0\n",
       "в декрете          0.0\n",
       "госслужащий        0.0\n",
       "компаньон          0.0\n",
       "пенсионер          0.0\n",
       "предприниматель    0.0\n",
       "сотрудник          0.0\n",
       "студент            0.0\n",
       "Name: total_income, dtype: float64"
      ]
     },
     "execution_count": 140,
     "metadata": {},
     "output_type": "execute_result"
    }
   ],
   "source": [
    "df.groupby('income_type')['total_income'].apply(lambda x : x.isna().mean())"
   ]
  },
  {
   "cell_type": "code",
   "execution_count": 141,
   "metadata": {},
   "outputs": [
    {
     "name": "stdout",
     "output_type": "stream",
     "text": [
      "income_type\n",
      "безработный        366413.652744\n",
      "в декрете           -3296.759962\n",
      "госслужащий         -3399.896902\n",
      "компаньон           -2111.524398\n",
      "пенсионер          365003.491245\n",
      "предприниматель      -520.848083\n",
      "сотрудник           -2326.499216\n",
      "студент              -578.751554\n",
      "Name: days_employed, dtype: float64\n"
     ]
    }
   ],
   "source": [
    "#1.1.creating a grouping for the days_employed column with average values to then combine with the main table\n",
    "days_employed_mean = df.groupby('income_type')['days_employed'].mean()\n",
    "print(days_employed_mean) #checking the grouping"
   ]
  },
  {
   "cell_type": "code",
   "execution_count": 142,
   "metadata": {},
   "outputs": [
    {
     "data": {
      "text/html": [
       "<div>\n",
       "<style scoped>\n",
       "    .dataframe tbody tr th:only-of-type {\n",
       "        vertical-align: middle;\n",
       "    }\n",
       "\n",
       "    .dataframe tbody tr th {\n",
       "        vertical-align: top;\n",
       "    }\n",
       "\n",
       "    .dataframe thead th {\n",
       "        text-align: right;\n",
       "    }\n",
       "</style>\n",
       "<table border=\"1\" class=\"dataframe\">\n",
       "  <thead>\n",
       "    <tr style=\"text-align: right;\">\n",
       "      <th></th>\n",
       "      <th>income_type</th>\n",
       "      <th>df_days_employed_mean</th>\n",
       "    </tr>\n",
       "  </thead>\n",
       "  <tbody>\n",
       "    <tr>\n",
       "      <th>0</th>\n",
       "      <td>безработный</td>\n",
       "      <td>366413.652744</td>\n",
       "    </tr>\n",
       "    <tr>\n",
       "      <th>1</th>\n",
       "      <td>в декрете</td>\n",
       "      <td>-3296.759962</td>\n",
       "    </tr>\n",
       "    <tr>\n",
       "      <th>2</th>\n",
       "      <td>госслужащий</td>\n",
       "      <td>-3399.896902</td>\n",
       "    </tr>\n",
       "    <tr>\n",
       "      <th>3</th>\n",
       "      <td>компаньон</td>\n",
       "      <td>-2111.524398</td>\n",
       "    </tr>\n",
       "    <tr>\n",
       "      <th>4</th>\n",
       "      <td>пенсионер</td>\n",
       "      <td>365003.491245</td>\n",
       "    </tr>\n",
       "    <tr>\n",
       "      <th>5</th>\n",
       "      <td>предприниматель</td>\n",
       "      <td>-520.848083</td>\n",
       "    </tr>\n",
       "    <tr>\n",
       "      <th>6</th>\n",
       "      <td>сотрудник</td>\n",
       "      <td>-2326.499216</td>\n",
       "    </tr>\n",
       "    <tr>\n",
       "      <th>7</th>\n",
       "      <td>студент</td>\n",
       "      <td>-578.751554</td>\n",
       "    </tr>\n",
       "  </tbody>\n",
       "</table>\n",
       "</div>"
      ],
      "text/plain": [
       "       income_type  df_days_employed_mean\n",
       "0      безработный          366413.652744\n",
       "1        в декрете           -3296.759962\n",
       "2      госслужащий           -3399.896902\n",
       "3        компаньон           -2111.524398\n",
       "4        пенсионер          365003.491245\n",
       "5  предприниматель            -520.848083\n",
       "6        сотрудник           -2326.499216\n",
       "7          студент            -578.751554"
      ]
     },
     "execution_count": 142,
     "metadata": {},
     "output_type": "execute_result"
    }
   ],
   "source": [
    "#2.1. creating a dataframe days_employed_mean with average income values with addition to the summary table\n",
    "df_days_employed_mean = pd.DataFrame({'df_days_employed_mean':days_employed_mean}).reset_index()\n",
    "df_days_employed_mean #display it on the screen in a beautiful table"
   ]
  },
  {
   "cell_type": "code",
   "execution_count": 143,
   "metadata": {},
   "outputs": [
    {
     "name": "stdout",
     "output_type": "stream",
     "text": [
      "0\n"
     ]
    },
    {
     "data": {
      "text/html": [
       "<div>\n",
       "<style scoped>\n",
       "    .dataframe tbody tr th:only-of-type {\n",
       "        vertical-align: middle;\n",
       "    }\n",
       "\n",
       "    .dataframe tbody tr th {\n",
       "        vertical-align: top;\n",
       "    }\n",
       "\n",
       "    .dataframe thead th {\n",
       "        text-align: right;\n",
       "    }\n",
       "</style>\n",
       "<table border=\"1\" class=\"dataframe\">\n",
       "  <thead>\n",
       "    <tr style=\"text-align: right;\">\n",
       "      <th></th>\n",
       "      <th>children</th>\n",
       "      <th>days_employed</th>\n",
       "      <th>dob_years</th>\n",
       "      <th>education</th>\n",
       "      <th>education_id</th>\n",
       "      <th>family_status</th>\n",
       "      <th>family_status_id</th>\n",
       "      <th>gender</th>\n",
       "      <th>income_type</th>\n",
       "      <th>debt</th>\n",
       "      <th>total_income</th>\n",
       "      <th>purpose</th>\n",
       "      <th>df_income_mean</th>\n",
       "      <th>df_days_employed_mean</th>\n",
       "    </tr>\n",
       "  </thead>\n",
       "  <tbody>\n",
       "    <tr>\n",
       "      <th>0</th>\n",
       "      <td>1.0</td>\n",
       "      <td>337524.466835</td>\n",
       "      <td>31</td>\n",
       "      <td>среднее</td>\n",
       "      <td>1</td>\n",
       "      <td>женат / замужем</td>\n",
       "      <td>0</td>\n",
       "      <td>M</td>\n",
       "      <td>безработный</td>\n",
       "      <td>1</td>\n",
       "      <td>59956.991984</td>\n",
       "      <td>покупка жилья для сдачи</td>\n",
       "      <td>131339.751676</td>\n",
       "      <td>366413.652744</td>\n",
       "    </tr>\n",
       "    <tr>\n",
       "      <th>1</th>\n",
       "      <td>0.0</td>\n",
       "      <td>395302.838654</td>\n",
       "      <td>45</td>\n",
       "      <td>высшее</td>\n",
       "      <td>0</td>\n",
       "      <td>гражданский брак</td>\n",
       "      <td>1</td>\n",
       "      <td>F</td>\n",
       "      <td>безработный</td>\n",
       "      <td>0</td>\n",
       "      <td>202722.511368</td>\n",
       "      <td>ремонт жилью</td>\n",
       "      <td>131339.751676</td>\n",
       "      <td>366413.652744</td>\n",
       "    </tr>\n",
       "    <tr>\n",
       "      <th>2</th>\n",
       "      <td>2.0</td>\n",
       "      <td>-3296.759962</td>\n",
       "      <td>39</td>\n",
       "      <td>среднее</td>\n",
       "      <td>1</td>\n",
       "      <td>женат / замужем</td>\n",
       "      <td>0</td>\n",
       "      <td>F</td>\n",
       "      <td>в декрете</td>\n",
       "      <td>1</td>\n",
       "      <td>53829.130729</td>\n",
       "      <td>автомобиль</td>\n",
       "      <td>53829.130729</td>\n",
       "      <td>-3296.759962</td>\n",
       "    </tr>\n",
       "    <tr>\n",
       "      <th>3</th>\n",
       "      <td>0.0</td>\n",
       "      <td>-3399.896902</td>\n",
       "      <td>41</td>\n",
       "      <td>среднее</td>\n",
       "      <td>1</td>\n",
       "      <td>женат / замужем</td>\n",
       "      <td>0</td>\n",
       "      <td>M</td>\n",
       "      <td>госслужащий</td>\n",
       "      <td>0</td>\n",
       "      <td>170898.309923</td>\n",
       "      <td>образование</td>\n",
       "      <td>170898.309923</td>\n",
       "      <td>-3399.896902</td>\n",
       "    </tr>\n",
       "    <tr>\n",
       "      <th>4</th>\n",
       "      <td>0.0</td>\n",
       "      <td>-3399.896902</td>\n",
       "      <td>50</td>\n",
       "      <td>среднее</td>\n",
       "      <td>1</td>\n",
       "      <td>женат / замужем</td>\n",
       "      <td>0</td>\n",
       "      <td>F</td>\n",
       "      <td>госслужащий</td>\n",
       "      <td>0</td>\n",
       "      <td>170898.309923</td>\n",
       "      <td>сделка с подержанным автомобилем</td>\n",
       "      <td>170898.309923</td>\n",
       "      <td>-3399.896902</td>\n",
       "    </tr>\n",
       "    <tr>\n",
       "      <th>...</th>\n",
       "      <td>...</td>\n",
       "      <td>...</td>\n",
       "      <td>...</td>\n",
       "      <td>...</td>\n",
       "      <td>...</td>\n",
       "      <td>...</td>\n",
       "      <td>...</td>\n",
       "      <td>...</td>\n",
       "      <td>...</td>\n",
       "      <td>...</td>\n",
       "      <td>...</td>\n",
       "      <td>...</td>\n",
       "      <td>...</td>\n",
       "      <td>...</td>\n",
       "    </tr>\n",
       "    <tr>\n",
       "      <th>21520</th>\n",
       "      <td>1.0</td>\n",
       "      <td>-2351.431934</td>\n",
       "      <td>37</td>\n",
       "      <td>ученая степень</td>\n",
       "      <td>4</td>\n",
       "      <td>в разводе</td>\n",
       "      <td>3</td>\n",
       "      <td>M</td>\n",
       "      <td>сотрудник</td>\n",
       "      <td>0</td>\n",
       "      <td>115949.039788</td>\n",
       "      <td>покупка коммерческой недвижимости</td>\n",
       "      <td>161380.260488</td>\n",
       "      <td>-2326.499216</td>\n",
       "    </tr>\n",
       "    <tr>\n",
       "      <th>21521</th>\n",
       "      <td>1.0</td>\n",
       "      <td>-2113.346888</td>\n",
       "      <td>38</td>\n",
       "      <td>среднее</td>\n",
       "      <td>1</td>\n",
       "      <td>гражданский брак</td>\n",
       "      <td>1</td>\n",
       "      <td>M</td>\n",
       "      <td>сотрудник</td>\n",
       "      <td>1</td>\n",
       "      <td>89672.561153</td>\n",
       "      <td>недвижимость</td>\n",
       "      <td>161380.260488</td>\n",
       "      <td>-2326.499216</td>\n",
       "    </tr>\n",
       "    <tr>\n",
       "      <th>21522</th>\n",
       "      <td>3.0</td>\n",
       "      <td>-3112.481705</td>\n",
       "      <td>38</td>\n",
       "      <td>среднее</td>\n",
       "      <td>1</td>\n",
       "      <td>женат / замужем</td>\n",
       "      <td>0</td>\n",
       "      <td>M</td>\n",
       "      <td>сотрудник</td>\n",
       "      <td>1</td>\n",
       "      <td>244093.050500</td>\n",
       "      <td>на покупку своего автомобиля</td>\n",
       "      <td>161380.260488</td>\n",
       "      <td>-2326.499216</td>\n",
       "    </tr>\n",
       "    <tr>\n",
       "      <th>21523</th>\n",
       "      <td>2.0</td>\n",
       "      <td>-1984.507589</td>\n",
       "      <td>40</td>\n",
       "      <td>среднее</td>\n",
       "      <td>1</td>\n",
       "      <td>женат / замужем</td>\n",
       "      <td>0</td>\n",
       "      <td>F</td>\n",
       "      <td>сотрудник</td>\n",
       "      <td>0</td>\n",
       "      <td>82047.418899</td>\n",
       "      <td>на покупку автомобиля</td>\n",
       "      <td>161380.260488</td>\n",
       "      <td>-2326.499216</td>\n",
       "    </tr>\n",
       "    <tr>\n",
       "      <th>21524</th>\n",
       "      <td>0.0</td>\n",
       "      <td>-578.751554</td>\n",
       "      <td>22</td>\n",
       "      <td>высшее</td>\n",
       "      <td>0</td>\n",
       "      <td>не женат / не замужем</td>\n",
       "      <td>4</td>\n",
       "      <td>M</td>\n",
       "      <td>студент</td>\n",
       "      <td>0</td>\n",
       "      <td>98201.625314</td>\n",
       "      <td>строительство собственной недвижимости</td>\n",
       "      <td>98201.625314</td>\n",
       "      <td>-578.751554</td>\n",
       "    </tr>\n",
       "  </tbody>\n",
       "</table>\n",
       "<p>21525 rows × 14 columns</p>\n",
       "</div>"
      ],
      "text/plain": [
       "       children  days_employed  dob_years       education  education_id  \\\n",
       "0           1.0  337524.466835         31         среднее             1   \n",
       "1           0.0  395302.838654         45          высшее             0   \n",
       "2           2.0   -3296.759962         39         среднее             1   \n",
       "3           0.0   -3399.896902         41         среднее             1   \n",
       "4           0.0   -3399.896902         50         среднее             1   \n",
       "...         ...            ...        ...             ...           ...   \n",
       "21520       1.0   -2351.431934         37  ученая степень             4   \n",
       "21521       1.0   -2113.346888         38         среднее             1   \n",
       "21522       3.0   -3112.481705         38         среднее             1   \n",
       "21523       2.0   -1984.507589         40         среднее             1   \n",
       "21524       0.0    -578.751554         22          высшее             0   \n",
       "\n",
       "               family_status  family_status_id gender  income_type  debt  \\\n",
       "0            женат / замужем                 0      M  безработный     1   \n",
       "1           гражданский брак                 1      F  безработный     0   \n",
       "2            женат / замужем                 0      F    в декрете     1   \n",
       "3            женат / замужем                 0      M  госслужащий     0   \n",
       "4            женат / замужем                 0      F  госслужащий     0   \n",
       "...                      ...               ...    ...          ...   ...   \n",
       "21520              в разводе                 3      M    сотрудник     0   \n",
       "21521       гражданский брак                 1      M    сотрудник     1   \n",
       "21522        женат / замужем                 0      M    сотрудник     1   \n",
       "21523        женат / замужем                 0      F    сотрудник     0   \n",
       "21524  не женат / не замужем                 4      M      студент     0   \n",
       "\n",
       "        total_income                                 purpose  df_income_mean  \\\n",
       "0       59956.991984                 покупка жилья для сдачи   131339.751676   \n",
       "1      202722.511368                            ремонт жилью   131339.751676   \n",
       "2       53829.130729                              автомобиль    53829.130729   \n",
       "3      170898.309923                             образование   170898.309923   \n",
       "4      170898.309923        сделка с подержанным автомобилем   170898.309923   \n",
       "...              ...                                     ...             ...   \n",
       "21520  115949.039788       покупка коммерческой недвижимости   161380.260488   \n",
       "21521   89672.561153                            недвижимость   161380.260488   \n",
       "21522  244093.050500            на покупку своего автомобиля   161380.260488   \n",
       "21523   82047.418899                   на покупку автомобиля   161380.260488   \n",
       "21524   98201.625314  строительство собственной недвижимости    98201.625314   \n",
       "\n",
       "       df_days_employed_mean  \n",
       "0              366413.652744  \n",
       "1              366413.652744  \n",
       "2               -3296.759962  \n",
       "3               -3399.896902  \n",
       "4               -3399.896902  \n",
       "...                      ...  \n",
       "21520           -2326.499216  \n",
       "21521           -2326.499216  \n",
       "21522           -2326.499216  \n",
       "21523           -2326.499216  \n",
       "21524            -578.751554  \n",
       "\n",
       "[21525 rows x 14 columns]"
      ]
     },
     "metadata": {},
     "output_type": "display_data"
    }
   ],
   "source": [
    "#3.1.attaching df_days_employed_mean to the main table\n",
    "df = df.merge(df_days_employed_mean, on='income_type', how='left')#adding a created dataframe to the main dataframe\n",
    "df['days_employed'] = df['days_employed'].fillna(df['df_days_employed_mean'])#filling in gaps with an average value\n",
    "print(df['days_employed'].isna().sum())\n",
    "display(df)"
   ]
  },
  {
   "cell_type": "markdown",
   "metadata": {},
   "source": [
    "**Conclusion** \n",
    "Omissions have been replaced with average values in the days_employed column"
   ]
  },
  {
   "cell_type": "code",
   "execution_count": 144,
   "metadata": {},
   "outputs": [
    {
     "name": "stdout",
     "output_type": "stream",
     "text": [
      "<class 'pandas.core.frame.DataFrame'>\n",
      "Int64Index: 21525 entries, 0 to 21524\n",
      "Data columns (total 14 columns):\n",
      " #   Column                 Non-Null Count  Dtype  \n",
      "---  ------                 --------------  -----  \n",
      " 0   children               21525 non-null  float64\n",
      " 1   days_employed          21525 non-null  float64\n",
      " 2   dob_years              21525 non-null  int64  \n",
      " 3   education              21525 non-null  object \n",
      " 4   education_id           21525 non-null  int64  \n",
      " 5   family_status          21525 non-null  object \n",
      " 6   family_status_id       21525 non-null  int64  \n",
      " 7   gender                 21525 non-null  object \n",
      " 8   income_type            21525 non-null  object \n",
      " 9   debt                   21525 non-null  int64  \n",
      " 10  total_income           21525 non-null  float64\n",
      " 11  purpose                21525 non-null  object \n",
      " 12  df_income_mean         21525 non-null  float64\n",
      " 13  df_days_employed_mean  21525 non-null  float64\n",
      "dtypes: float64(5), int64(4), object(5)\n",
      "memory usage: 2.5+ MB\n"
     ]
    }
   ],
   "source": [
    "df.info() #estimate the amount of data in the data frame"
   ]
  },
  {
   "cell_type": "markdown",
   "metadata": {},
   "source": [
    "**Conclusion** \n",
    "The rows in all columns are the same"
   ]
  },
  {
   "cell_type": "markdown",
   "metadata": {},
   "source": [
    "**OUTPUT BY SECTION** \n",
    "- in the days_employed and total_income columns, the missing values were replaced as follows:\n",
    "1. it was necessary to find the arithmetic mean.\n",
    "2. a dataframe was created separately to record the found average values.\n",
    "3. the merge method added the created dataframe.\n",
    "3. the fillna method replaced the gaps with the found average values in the main dataframe.\n",
    "\n",
    "- the negative value in the children column has been replaced by the abs() method\n",
    "\n",
    "- replaced the spelling of the values of the education and family_status columns in lowercase"
   ]
  },
  {
   "cell_type": "markdown",
   "metadata": {},
   "source": [
    "### Replacing the data type"
   ]
  },
  {
   "cell_type": "code",
   "execution_count": 145,
   "metadata": {},
   "outputs": [
    {
     "name": "stdout",
     "output_type": "stream",
     "text": [
      "<class 'pandas.core.frame.DataFrame'>\n",
      "Int64Index: 21525 entries, 0 to 21524\n",
      "Data columns (total 14 columns):\n",
      " #   Column                 Non-Null Count  Dtype  \n",
      "---  ------                 --------------  -----  \n",
      " 0   children               21525 non-null  float64\n",
      " 1   days_employed          21525 non-null  int64  \n",
      " 2   dob_years              21525 non-null  int64  \n",
      " 3   education              21525 non-null  object \n",
      " 4   education_id           21525 non-null  int64  \n",
      " 5   family_status          21525 non-null  object \n",
      " 6   family_status_id       21525 non-null  int64  \n",
      " 7   gender                 21525 non-null  object \n",
      " 8   income_type            21525 non-null  object \n",
      " 9   debt                   21525 non-null  int64  \n",
      " 10  total_income           21525 non-null  int64  \n",
      " 11  purpose                21525 non-null  object \n",
      " 12  df_income_mean         21525 non-null  float64\n",
      " 13  df_days_employed_mean  21525 non-null  float64\n",
      "dtypes: float64(3), int64(6), object(5)\n",
      "memory usage: 2.5+ MB\n"
     ]
    }
   ],
   "source": [
    "#assign an integer value to the days_employed column due to the atypical nature of decimal places\n",
    "df['days_employed'] = df['days_employed'].astype('int')\n",
    "#assign an integer value to the total_income column due to the atypical nature of decimal places\n",
    "df['total_income'] = df['total_income'].astype('int')\n",
    "df.info()"
   ]
  },
  {
   "cell_type": "markdown",
   "metadata": {},
   "source": [
    "**Conclusion**\n",
    "replaced the value of the days_employed and total_income columns with an integer type (from float to int) using the method.astype() for ease of perception.\n",
    "This method is easy to use if you need to convert \"pure\" data (i.e. homogeneous) having numeric characters. You can also change both several columns and the entire dataframe. If the message is a dataframe, then .astype() passes the desired data type as an argument without a dictionary.\n"
   ]
  },
  {
   "cell_type": "markdown",
   "metadata": {},
   "source": [
    "### Processing duplicates"
   ]
  },
  {
   "cell_type": "code",
   "execution_count": 146,
   "metadata": {},
   "outputs": [
    {
     "name": "stdout",
     "output_type": "stream",
     "text": [
      "Duplicates in the table: 71\n"
     ]
    }
   ],
   "source": [
    "#identify the amount of duplicates in the dataframe\n",
    "print('Duplicates in the table:', df.duplicated().sum())"
   ]
  },
  {
   "cell_type": "code",
   "execution_count": 147,
   "metadata": {},
   "outputs": [
    {
     "name": "stdout",
     "output_type": "stream",
     "text": [
      "<class 'pandas.core.frame.DataFrame'>\n",
      "RangeIndex: 21454 entries, 0 to 21453\n",
      "Data columns (total 14 columns):\n",
      " #   Column                 Non-Null Count  Dtype  \n",
      "---  ------                 --------------  -----  \n",
      " 0   children               21454 non-null  float64\n",
      " 1   days_employed          21454 non-null  int64  \n",
      " 2   dob_years              21454 non-null  int64  \n",
      " 3   education              21454 non-null  object \n",
      " 4   education_id           21454 non-null  int64  \n",
      " 5   family_status          21454 non-null  object \n",
      " 6   family_status_id       21454 non-null  int64  \n",
      " 7   gender                 21454 non-null  object \n",
      " 8   income_type            21454 non-null  object \n",
      " 9   debt                   21454 non-null  int64  \n",
      " 10  total_income           21454 non-null  int64  \n",
      " 11  purpose                21454 non-null  object \n",
      " 12  df_income_mean         21454 non-null  float64\n",
      " 13  df_days_employed_mean  21454 non-null  float64\n",
      "dtypes: float64(3), int64(6), object(5)\n",
      "memory usage: 2.3+ MB\n",
      "Duplicates in the table: 0\n"
     ]
    }
   ],
   "source": [
    "#remove the identified duplicates\n",
    "df = df.drop_duplicates().reset_index(drop=True)\n",
    "#checking for duplicates in the dataframe\n",
    "df.info()\n",
    "print('Duplicates in the table:', df.duplicated().sum())"
   ]
  },
  {
   "cell_type": "markdown",
   "metadata": {},
   "source": [
    "**Conclusion**\n",
    "\n",
    "Duplicates were found using the method .duplicates() followed by their summation .sum()\n",
    "\n",
    "Removed by the method .drop_duplicates() simultaneously with the use of .reset_index, since their indexes are deleted along with the removal of duplicates. Therefore, the indexes of the dataframe must be \"reset\""
   ]
  },
  {
   "cell_type": "markdown",
   "metadata": {},
   "source": [
    "### Lemmatization"
   ]
  },
  {
   "cell_type": "code",
   "execution_count": 148,
   "metadata": {},
   "outputs": [
    {
     "name": "stdout",
     "output_type": "stream",
     "text": [
      "['покупка жилья для сдачи' 'ремонт жилью' 'автомобиль' 'образование'\n",
      " 'сделка с подержанным автомобилем' 'на проведение свадьбы'\n",
      " 'получение высшего образования' 'покупка коммерческой недвижимости'\n",
      " 'операции с коммерческой недвижимостью' 'операции со своей недвижимостью'\n",
      " 'покупка жилья' 'покупка своего жилья' 'операции с недвижимостью'\n",
      " 'приобретение автомобиля' 'дополнительное образование'\n",
      " 'покупка жилья для семьи' 'покупка недвижимости' 'жилье'\n",
      " 'профильное образование' 'заняться высшим образованием'\n",
      " 'сделка с автомобилем' 'на покупку автомобиля' 'операции с жильем'\n",
      " 'недвижимость' 'заняться образованием' 'покупка жилой недвижимости'\n",
      " 'строительство собственной недвижимости' 'получение образования'\n",
      " 'строительство жилой недвижимости' 'на покупку своего автомобиля'\n",
      " 'свадьба' 'на покупку подержанного автомобиля'\n",
      " 'строительство недвижимости' 'автомобили'\n",
      " 'получение дополнительного образования' 'сыграть свадьбу'\n",
      " 'свой автомобиль' 'высшее образование']\n"
     ]
    },
    {
     "data": {
      "text/plain": [
       "'покупка жилья для сдачи ремонт жилью автомобиль образование сделка с подержанным автомобилем на проведение свадьбы получение высшего образования покупка коммерческой недвижимости операции с коммерческой недвижимостью операции со своей недвижимостью покупка жилья покупка своего жилья операции с недвижимостью приобретение автомобиля дополнительное образование покупка жилья для семьи покупка недвижимости жилье профильное образование заняться высшим образованием сделка с автомобилем на покупку автомобиля операции с жильем недвижимость заняться образованием покупка жилой недвижимости строительство собственной недвижимости получение образования строительство жилой недвижимости на покупку своего автомобиля свадьба на покупку подержанного автомобиля строительство недвижимости автомобили получение дополнительного образования сыграть свадьбу свой автомобиль высшее образование'"
      ]
     },
     "metadata": {},
     "output_type": "display_data"
    },
    {
     "data": {
      "text/html": [
       "<div>\n",
       "<style scoped>\n",
       "    .dataframe tbody tr th:only-of-type {\n",
       "        vertical-align: middle;\n",
       "    }\n",
       "\n",
       "    .dataframe tbody tr th {\n",
       "        vertical-align: top;\n",
       "    }\n",
       "\n",
       "    .dataframe thead th {\n",
       "        text-align: right;\n",
       "    }\n",
       "</style>\n",
       "<table border=\"1\" class=\"dataframe\">\n",
       "  <thead>\n",
       "    <tr style=\"text-align: right;\">\n",
       "      <th></th>\n",
       "      <th>item</th>\n",
       "      <th>count</th>\n",
       "    </tr>\n",
       "  </thead>\n",
       "  <tbody>\n",
       "    <tr>\n",
       "      <th>0</th>\n",
       "      <td>высокий</td>\n",
       "      <td>1</td>\n",
       "    </tr>\n",
       "    <tr>\n",
       "      <th>1</th>\n",
       "      <td></td>\n",
       "      <td>1</td>\n",
       "    </tr>\n",
       "    <tr>\n",
       "      <th>2</th>\n",
       "      <td>образование</td>\n",
       "      <td>1</td>\n",
       "    </tr>\n",
       "    <tr>\n",
       "      <th>3</th>\n",
       "      <td>\\n</td>\n",
       "      <td>1</td>\n",
       "    </tr>\n",
       "  </tbody>\n",
       "</table>\n",
       "</div>"
      ],
      "text/plain": [
       "          item  count\n",
       "0      высокий      1\n",
       "1                   1\n",
       "2  образование      1\n",
       "3           \\n      1"
      ]
     },
     "metadata": {},
     "output_type": "display_data"
    },
    {
     "name": "stdout",
     "output_type": "stream",
     "text": [
      "0             недвижимость\n",
      "1                   ремонт\n",
      "2               автомобиль\n",
      "3              образование\n",
      "4               автомобиль\n",
      "5                  свадьба\n",
      "6              образование\n",
      "7     недвижимость / жилье\n",
      "8     недвижимость / жилье\n",
      "9     недвижимость / жилье\n",
      "10            недвижимость\n",
      "11             образование\n",
      "12    недвижимость / жилье\n",
      "13            недвижимость\n",
      "14    недвижимость / жилье\n",
      "Name: purpose_category, dtype: object\n"
     ]
    }
   ],
   "source": [
    "from pymystem3 import Mystem\n",
    "m = Mystem()\n",
    "\n",
    "unique_purpose = df['purpose'].unique() #creating a variable to lemmatize the unique values of the purpose column\n",
    "print(unique_purpose)#output to the screen\n",
    "\n",
    "purpose_all = [] #creating a variable where we will save all the values from the unique_purpose list\n",
    "\n",
    "lemmas_purpose_list = ' '.join(unique_purpose) #creating a variable for gluing the string\n",
    "lemmas = m.lemmatize(lemmas_purpose_list) #creating a variable for lemmatization\n",
    "display(lemmas_purpose_list) #output to the screen lemmas_purpose_list in which everything is glued together in one line\n",
    "\n",
    "#Lemmatize each line in 'purpose_all', get a list of lemmas and add values to the empty list of 'lemmas'\n",
    "for index in unique_purpose: # we pass a filter for a separate record of each unique value\n",
    "    lemmas = m.lemmatize(index) #lemmatize queries \n",
    "purpose_all.append(lemmas) #adding from each line\n",
    "\n",
    "#You need to break it down into categories (real estate, car, wedding, repair, education, etc.) for this you need a function\n",
    "def purpose_category(purpose):#writing a function\n",
    "    purpose_all_row = m.lemmatize(purpose) #string variables - lemmatize\n",
    "    for index in purpose_all_row: #we pass the filter\n",
    "        if 'жил' in index:#we prescribe the conditions, if there is one,\n",
    "            return 'недвижимость' #then we return the correct value\n",
    "        if 'недвиж' in index:\n",
    "            return 'недвижимость / жилье'\n",
    "        if 'авто' in index:\n",
    "            return 'автомобиль'\n",
    "        if 'свадьб' in index:\n",
    "            return 'свадьба'\n",
    "        if 'ремонт' in index:\n",
    "            return 'ремонт'\n",
    "        if 'образов' in index:\n",
    "            return 'образование'\n",
    "    else:\n",
    "        'не является целью получения кредита'\n",
    "\n",
    "from collections import Counter #calling a special container Counter from the collections module\n",
    "df_lemmas_purpose = Counter(lemmas).most_common(31) #I save the result of the calculation in a variable df_lemmas_purpose\n",
    "df_df_lemmas_purpose = pd.DataFrame(df_lemmas_purpose, columns = ['item', 'count']) #creating a new table using the DatdFrame method with the 'count' column. The descending order is already set automatically \n",
    "display(df_df_lemmas_purpose) #output to the screen df_df_lemmas_purpose\n",
    "\n",
    "df['purpose_category'] = df['purpose'].apply(purpose_category)#overwriting with the function apply\n",
    "print(df['purpose_category'].head(15))"
   ]
  },
  {
   "cell_type": "markdown",
   "metadata": {},
   "source": [
    "**Conclusion**\n",
    "By breaking the goals into lemmas for each row in the column, we were able to allow the program to find keywords and sort them into groups, according to the conditions that we prescribed, the values were grouped into the expected number of 4-6 values,"
   ]
  },
  {
   "cell_type": "markdown",
   "metadata": {},
   "source": [
    "**OUTPUT BY SECTION** \n",
    "\n",
    "By means of a filter, the lemmas of words are distributed into groups.\n",
    "The group \"is not the purpose of obtaining a loan\" - includes everything that does not fit the key \"query-words\" - which means it will not be taken into account."
   ]
  },
  {
   "cell_type": "code",
   "execution_count": 149,
   "metadata": {
    "scrolled": false
   },
   "outputs": [
    {
     "data": {
      "text/html": [
       "<div>\n",
       "<style scoped>\n",
       "    .dataframe tbody tr th:only-of-type {\n",
       "        vertical-align: middle;\n",
       "    }\n",
       "\n",
       "    .dataframe tbody tr th {\n",
       "        vertical-align: top;\n",
       "    }\n",
       "\n",
       "    .dataframe thead th {\n",
       "        text-align: right;\n",
       "    }\n",
       "</style>\n",
       "<table border=\"1\" class=\"dataframe\">\n",
       "  <thead>\n",
       "    <tr style=\"text-align: right;\">\n",
       "      <th></th>\n",
       "      <th>children</th>\n",
       "      <th>days_employed</th>\n",
       "      <th>dob_years</th>\n",
       "      <th>education</th>\n",
       "      <th>education_id</th>\n",
       "      <th>family_status</th>\n",
       "      <th>family_status_id</th>\n",
       "      <th>gender</th>\n",
       "      <th>income_type</th>\n",
       "      <th>debt</th>\n",
       "      <th>total_income</th>\n",
       "      <th>purpose</th>\n",
       "      <th>df_income_mean</th>\n",
       "      <th>df_days_employed_mean</th>\n",
       "      <th>purpose_category</th>\n",
       "    </tr>\n",
       "  </thead>\n",
       "  <tbody>\n",
       "    <tr>\n",
       "      <th>0</th>\n",
       "      <td>1.0</td>\n",
       "      <td>337524</td>\n",
       "      <td>31</td>\n",
       "      <td>среднее</td>\n",
       "      <td>1</td>\n",
       "      <td>женат / замужем</td>\n",
       "      <td>0</td>\n",
       "      <td>M</td>\n",
       "      <td>безработный</td>\n",
       "      <td>1</td>\n",
       "      <td>59956</td>\n",
       "      <td>покупка жилья для сдачи</td>\n",
       "      <td>131339.751676</td>\n",
       "      <td>366413.652744</td>\n",
       "      <td>недвижимость</td>\n",
       "    </tr>\n",
       "    <tr>\n",
       "      <th>7</th>\n",
       "      <td>1.0</td>\n",
       "      <td>-2802</td>\n",
       "      <td>28</td>\n",
       "      <td>высшее</td>\n",
       "      <td>0</td>\n",
       "      <td>женат / замужем</td>\n",
       "      <td>0</td>\n",
       "      <td>M</td>\n",
       "      <td>госслужащий</td>\n",
       "      <td>0</td>\n",
       "      <td>207561</td>\n",
       "      <td>покупка коммерческой недвижимости</td>\n",
       "      <td>170898.309923</td>\n",
       "      <td>-3399.896902</td>\n",
       "      <td>недвижимость / жилье</td>\n",
       "    </tr>\n",
       "    <tr>\n",
       "      <th>8</th>\n",
       "      <td>1.0</td>\n",
       "      <td>-3399</td>\n",
       "      <td>32</td>\n",
       "      <td>высшее</td>\n",
       "      <td>0</td>\n",
       "      <td>женат / замужем</td>\n",
       "      <td>0</td>\n",
       "      <td>M</td>\n",
       "      <td>госслужащий</td>\n",
       "      <td>0</td>\n",
       "      <td>170898</td>\n",
       "      <td>операции с коммерческой недвижимостью</td>\n",
       "      <td>170898.309923</td>\n",
       "      <td>-3399.896902</td>\n",
       "      <td>недвижимость / жилье</td>\n",
       "    </tr>\n",
       "  </tbody>\n",
       "</table>\n",
       "</div>"
      ],
      "text/plain": [
       "   children  days_employed  dob_years education  education_id  \\\n",
       "0       1.0         337524         31   среднее             1   \n",
       "7       1.0          -2802         28    высшее             0   \n",
       "8       1.0          -3399         32    высшее             0   \n",
       "\n",
       "     family_status  family_status_id gender  income_type  debt  total_income  \\\n",
       "0  женат / замужем                 0      M  безработный     1         59956   \n",
       "7  женат / замужем                 0      M  госслужащий     0        207561   \n",
       "8  женат / замужем                 0      M  госслужащий     0        170898   \n",
       "\n",
       "                                 purpose  df_income_mean  \\\n",
       "0                покупка жилья для сдачи   131339.751676   \n",
       "7      покупка коммерческой недвижимости   170898.309923   \n",
       "8  операции с коммерческой недвижимостью   170898.309923   \n",
       "\n",
       "   df_days_employed_mean      purpose_category  \n",
       "0          366413.652744          недвижимость  \n",
       "7           -3399.896902  недвижимость / жилье  \n",
       "8           -3399.896902  недвижимость / жилье  "
      ]
     },
     "execution_count": 149,
     "metadata": {},
     "output_type": "execute_result"
    }
   ],
   "source": [
    "# Код ревьюра\n",
    "df[df['purpose_category'].str.contains('не')].head(3)"
   ]
  },
  {
   "cell_type": "code",
   "execution_count": 150,
   "metadata": {},
   "outputs": [
    {
     "data": {
      "text/plain": [
       "недвижимость / жилье    5121\n",
       "недвижимость            5083\n",
       "автомобиль              4306\n",
       "образование             4013\n",
       "свадьба                 2324\n",
       "ремонт                   607\n",
       "Name: purpose_category, dtype: int64"
      ]
     },
     "execution_count": 150,
     "metadata": {},
     "output_type": "execute_result"
    }
   ],
   "source": [
    "df['purpose_category'].value_counts()"
   ]
  },
  {
   "cell_type": "markdown",
   "metadata": {},
   "source": [
    "### Categorization of data"
   ]
  },
  {
   "cell_type": "code",
   "execution_count": 151,
   "metadata": {
    "scrolled": true
   },
   "outputs": [
    {
     "name": "stdout",
     "output_type": "stream",
     "text": [
      "0        1.0\n",
      "1        0.0\n",
      "2        2.0\n",
      "3        0.0\n",
      "4        0.0\n",
      "        ... \n",
      "21449    1.0\n",
      "21450    1.0\n",
      "21451    3.0\n",
      "21452    2.0\n",
      "21453    0.0\n",
      "Name: children, Length: 21454, dtype: float64\n"
     ]
    },
    {
     "data": {
      "text/plain": [
       "no children     14167\n",
       "small family     6907\n",
       "large family      380\n",
       "Name: category_children, dtype: int64"
      ]
     },
     "execution_count": 151,
     "metadata": {},
     "output_type": "execute_result"
    }
   ],
   "source": [
    "\"\"\"distribute the data into the following categories:\n",
    "- children\n",
    "- marital status\n",
    "- income\n",
    "- purpose of the loan\n",
    "- loan repayment\n",
    "\"\"\"\n",
    "\n",
    "#creating a category \"for children\"\n",
    "print(df['children'])#counting children by number in the column in descending order\n",
    "def category_children(row):#prescribing the function\n",
    "    if row == 0:\n",
    "        return 'no children'\n",
    "    elif row < 3:\n",
    "        return 'small family'\n",
    "    else:\n",
    "        return 'large family'\n",
    "\n",
    "df['category_children'] = df['children'].apply(category_children)#\n",
    "df['category_children'].value_counts()"
   ]
  },
  {
   "cell_type": "code",
   "execution_count": 152,
   "metadata": {},
   "outputs": [
    {
     "name": "stdout",
     "output_type": "stream",
     "text": [
      "0.0    14167\n",
      "1.0     4855\n",
      "2.0     2052\n",
      "3.0      330\n",
      "4.0       41\n",
      "5.0        9\n",
      "Name: children, dtype: int64\n"
     ]
    },
    {
     "data": {
      "text/plain": [
       "no children      14167\n",
       "have children     7287\n",
       "Name: category_children_yes, dtype: int64"
      ]
     },
     "execution_count": 152,
     "metadata": {},
     "output_type": "execute_result"
    }
   ],
   "source": [
    "#creating a category \"by children - \"yes-no\"\n",
    "print(df['children'].value_counts())#counting children by the number in the column in descending order\n",
    "def category_children_yes(row):#prescribing the function\n",
    "    if row == 0:\n",
    "        return 'no children'\n",
    "    elif row < 20:\n",
    "        return 'have children'\n",
    "\n",
    "df['category_children_yes'] = df['children'].apply(category_children_yes)#\n",
    "df['category_children_yes'].value_counts()"
   ]
  },
  {
   "cell_type": "code",
   "execution_count": 153,
   "metadata": {},
   "outputs": [
    {
     "name": "stdout",
     "output_type": "stream",
     "text": [
      "женат / замужем          12339\n",
      "гражданский брак          4151\n",
      "не женат / не замужем     2810\n",
      "в разводе                 1195\n",
      "вдовец / вдова             959\n",
      "Name: family_status, dtype: int64\n"
     ]
    },
    {
     "data": {
      "text/plain": [
       "в браке      12339\n",
       "вне брака     9115\n",
       "Name: family_status_count, dtype: int64"
      ]
     },
     "execution_count": 153,
     "metadata": {},
     "output_type": "execute_result"
    }
   ],
   "source": [
    "#creating a category \"by status\"\n",
    "print(df['family_status'].value_counts())#counting statuses by number in the column in descending order\n",
    "def family_status_count(row):#prescribing the function\n",
    "    if row == 'женат / замужем':\n",
    "        return 'в браке'\n",
    "    elif row != 'женат / замужем':\n",
    "        return 'вне брака'\n",
    "\n",
    "df['family_status_count'] = df['family_status'].apply(family_status_count)#\n",
    "df['family_status_count'].value_counts()"
   ]
  },
  {
   "cell_type": "code",
   "execution_count": 154,
   "metadata": {},
   "outputs": [
    {
     "name": "stdout",
     "output_type": "stream",
     "text": [
      "9162       20667\n",
      "8855       21205\n",
      "18681      21367\n",
      "6811       21695\n",
      "9092       21895\n",
      "          ...   \n",
      "5526     1711309\n",
      "21082    1715018\n",
      "15087    1726276\n",
      "6078     2200852\n",
      "4380     2265604\n",
      "Name: total_income, Length: 21454, dtype: int64\n"
     ]
    },
    {
     "data": {
      "text/plain": [
       "3 income from 150000 up to 300000    9418\n",
       "2 income from 100000 up to 150000    6090\n",
       "1 income up to 100 000               4463\n",
       "4 income above 300000                1483\n",
       "Name: category_total_income, dtype: int64"
      ]
     },
     "execution_count": 154,
     "metadata": {},
     "output_type": "execute_result"
    }
   ],
   "source": [
    "#creating a category \"by income\"\n",
    "df['total_income'].median()\n",
    "#round the median value and equate it to 1 median = 150,000\n",
    "#we will make subgroups: 1 - up to 100,000, 2 - up to 150,000, 3 - up to 300,000, 4 - over 300,000\n",
    "\n",
    "print(df['total_income'].sort_values())#counting the statuses in the column in descending order\n",
    "def category_total_income(row):#prescribing the function\n",
    "    if row <= 100000:\n",
    "        return '1 income up to 100 000'\n",
    "    elif row <= 150000:\n",
    "        return '2 income from 100000 up to 150000'\n",
    "    elif row <= 300000:\n",
    "        return '3 income from 150000 up to 300000'\n",
    "    else:\n",
    "        return '4 income above 300000'\n",
    "\n",
    "df['category_total_income'] = df['total_income'].apply(category_total_income)#\n",
    "df['category_total_income'].value_counts()"
   ]
  },
  {
   "cell_type": "code",
   "execution_count": 155,
   "metadata": {},
   "outputs": [
    {
     "name": "stdout",
     "output_type": "stream",
     "text": [
      "0    19713\n",
      "1     1741\n",
      "Name: debt, dtype: int64\n"
     ]
    },
    {
     "data": {
      "text/plain": [
       "no debt    19713\n",
       "debt        1741\n",
       "Name: debt_count, dtype: int64"
      ]
     },
     "execution_count": 155,
     "metadata": {},
     "output_type": "execute_result"
    }
   ],
   "source": [
    "print(df['debt'].value_counts())#count the debt by the number in the column in descending order\n",
    "def debt_count(row):#prescribing the function\n",
    "    if row == 0:\n",
    "        return 'no debt'\n",
    "    elif row == 1:\n",
    "        return 'debt'\n",
    "\n",
    "df['debt_count'] = df['debt'].apply(debt_count)#\n",
    "df['debt_count'].value_counts()"
   ]
  },
  {
   "cell_type": "markdown",
   "metadata": {},
   "source": [
    "**Conclusion**\n",
    "\n",
    "According to the categorization principle, it was necessary to identify groups of different data and distribute them according to the specified criteria. So, defined:\n",
    "\n",
    "1. The distribution of data by category \"children\" is made depending on the presence of children and the probability of repayment of the loan. \n",
    "So, the category_children grouping was formed by three groups of families, where:\n",
    "- there are no children\n",
    "- small family (up to 3 children)\n",
    "- large family (over 3 children)\n",
    "\n",
    "At the same time, another grouping category_children_yes was formed, depending on the fact of having children. Namely:\n",
    "- there are children\n",
    "- no children\n",
    "Clients without children make up most of the total.\n",
    "\n",
    "2. The family_status_count grouping has also been formed - by family status, depending on whether there is a marriage or not, since the official status of the borrower is legally taken into account when calculating the financial burden on each family member.\n",
    "\n",
    "\n",
    "3. The distribution of data by the \"income\" category is grouped into the category_total_income grouping by 4 categories: 1 - up to 100 000, 2 - up to 150 000, 3 - up to 300 000, 4 - above 300 000\n",
    "\n",
    "5. The debt_count grouping has also been formed, depending on whether there is a debt or not.\n",
    "0 - no debt\n",
    "1 -debt"
   ]
  },
  {
   "cell_type": "markdown",
   "metadata": {},
   "source": [
    "## Step 3. Answer the questions"
   ]
  },
  {
   "cell_type": "markdown",
   "metadata": {},
   "source": [
    "- Is there a relationship between having children and repayment of the loan on time?"
   ]
  },
  {
   "cell_type": "code",
   "execution_count": 156,
   "metadata": {},
   "outputs": [
    {
     "data": {
      "text/html": [
       "<style  type=\"text/css\" >\n",
       "</style><table id=\"T_f7318_\" ><thead>    <tr>        <th class=\"index_name level0\" >debt</th>        <th class=\"col_heading level0 col0\" >0</th>        <th class=\"col_heading level0 col1\" >1</th>        <th class=\"col_heading level0 col2\" >ratio</th>    </tr>    <tr>        <th class=\"index_name level0\" >category_children</th>        <th class=\"blank\" ></th>        <th class=\"blank\" ></th>        <th class=\"blank\" ></th>    </tr></thead><tbody>\n",
       "                <tr>\n",
       "                        <th id=\"T_f7318_level0_row0\" class=\"row_heading level0 row0\" >large family</th>\n",
       "                        <td id=\"T_f7318_row0_col0\" class=\"data row0 col0\" >349</td>\n",
       "                        <td id=\"T_f7318_row0_col1\" class=\"data row0 col1\" >31</td>\n",
       "                        <td id=\"T_f7318_row0_col2\" class=\"data row0 col2\" >8.16%</td>\n",
       "            </tr>\n",
       "            <tr>\n",
       "                        <th id=\"T_f7318_level0_row1\" class=\"row_heading level0 row1\" >no children</th>\n",
       "                        <td id=\"T_f7318_row1_col0\" class=\"data row1 col0\" >13096</td>\n",
       "                        <td id=\"T_f7318_row1_col1\" class=\"data row1 col1\" >1071</td>\n",
       "                        <td id=\"T_f7318_row1_col2\" class=\"data row1 col2\" >7.56%</td>\n",
       "            </tr>\n",
       "            <tr>\n",
       "                        <th id=\"T_f7318_level0_row2\" class=\"row_heading level0 row2\" >small family</th>\n",
       "                        <td id=\"T_f7318_row2_col0\" class=\"data row2 col0\" >6268</td>\n",
       "                        <td id=\"T_f7318_row2_col1\" class=\"data row2 col1\" >639</td>\n",
       "                        <td id=\"T_f7318_row2_col2\" class=\"data row2 col2\" >9.25%</td>\n",
       "            </tr>\n",
       "    </tbody></table>"
      ],
      "text/plain": [
       "<pandas.io.formats.style.Styler at 0x7ff1cc4e4f10>"
      ]
     },
     "metadata": {},
     "output_type": "display_data"
    }
   ],
   "source": [
    "#creating a pivot table\n",
    "df_svod = df.pivot_table(index=['category_children'], columns='debt', values='total_income', aggfunc='count')#creating a pivot table by grouping category_children\n",
    "df_svod['ratio'] = df_svod[1] / (df_svod[0] + df_svod[1]) #adding the % non-return indicator\n",
    "display(df_svod.style.format({'ratio' : '{:.2%}'.format}))#output to the screen\n",
    "\n",
    "#import seaborn\n",
    "#seaborn.barplot(x=category_children, y=debt)\n",
    "#пока нет возможности вывести диаграмму"
   ]
  },
  {
   "cell_type": "code",
   "execution_count": 157,
   "metadata": {},
   "outputs": [
    {
     "data": {
      "text/html": [
       "<style  type=\"text/css\" >\n",
       "</style><table id=\"T_1b877_\" ><thead>    <tr>        <th class=\"index_name level0\" >debt</th>        <th class=\"col_heading level0 col0\" >0</th>        <th class=\"col_heading level0 col1\" >1</th>        <th class=\"col_heading level0 col2\" >ratio</th>    </tr>    <tr>        <th class=\"index_name level0\" >category_children_yes</th>        <th class=\"blank\" ></th>        <th class=\"blank\" ></th>        <th class=\"blank\" ></th>    </tr></thead><tbody>\n",
       "                <tr>\n",
       "                        <th id=\"T_1b877_level0_row0\" class=\"row_heading level0 row0\" >have children</th>\n",
       "                        <td id=\"T_1b877_row0_col0\" class=\"data row0 col0\" >6617</td>\n",
       "                        <td id=\"T_1b877_row0_col1\" class=\"data row0 col1\" >670</td>\n",
       "                        <td id=\"T_1b877_row0_col2\" class=\"data row0 col2\" >9.19%</td>\n",
       "            </tr>\n",
       "            <tr>\n",
       "                        <th id=\"T_1b877_level0_row1\" class=\"row_heading level0 row1\" >no children</th>\n",
       "                        <td id=\"T_1b877_row1_col0\" class=\"data row1 col0\" >13096</td>\n",
       "                        <td id=\"T_1b877_row1_col1\" class=\"data row1 col1\" >1071</td>\n",
       "                        <td id=\"T_1b877_row1_col2\" class=\"data row1 col2\" >7.56%</td>\n",
       "            </tr>\n",
       "    </tbody></table>"
      ],
      "text/plain": [
       "<pandas.io.formats.style.Styler at 0x7ff1cd0ecc40>"
      ]
     },
     "metadata": {},
     "output_type": "display_data"
    }
   ],
   "source": [
    "df_svod = df.pivot_table(index=['category_children_yes'], columns='debt', values='total_income', aggfunc='count')#creating a pivot table by grouping category_children\n",
    "df_svod['ratio'] = df_svod[1] / (df_svod[0] + df_svod[1]) #adding the % non-return indicator\n",
    "display(df_svod.style.format({'ratio' : '{:.2%}'.format})) #output to the screen"
   ]
  },
  {
   "cell_type": "markdown",
   "metadata": {},
   "source": [
    "**Conclusion**"
   ]
  },
  {
   "cell_type": "markdown",
   "metadata": {},
   "source": [
    "The dependence of the presence of children and the risk of debt is determined.\n",
    "The \"no children\" group has the smallest share of debt occurrence.\n",
    "\n",
    "The \"small family\" group (with children up to 3 people), in contrast to the \"large family\" group (with children over 3 people), has the largest share of loan arrears. However, this is probably due to the fact that this group exceeds the \"large family\" group by about 18 times, and the number of non-refunds has also increased. it is possible that with a similar number, a \"large family\" would have higher debt risks."
   ]
  },
  {
   "cell_type": "markdown",
   "metadata": {},
   "source": [
    "- Is there a relationship between marital status and repayment of the loan on time?"
   ]
  },
  {
   "cell_type": "code",
   "execution_count": 158,
   "metadata": {},
   "outputs": [
    {
     "data": {
      "text/html": [
       "<style  type=\"text/css\" >\n",
       "</style><table id=\"T_35016_\" ><thead>    <tr>        <th class=\"index_name level0\" >debt</th>        <th class=\"col_heading level0 col0\" >0</th>        <th class=\"col_heading level0 col1\" >1</th>        <th class=\"col_heading level0 col2\" >ratio</th>    </tr>    <tr>        <th class=\"index_name level0\" >family_status_count</th>        <th class=\"blank\" ></th>        <th class=\"blank\" ></th>        <th class=\"blank\" ></th>    </tr></thead><tbody>\n",
       "                <tr>\n",
       "                        <th id=\"T_35016_level0_row0\" class=\"row_heading level0 row0\" >в браке</th>\n",
       "                        <td id=\"T_35016_row0_col0\" class=\"data row0 col0\" >11408</td>\n",
       "                        <td id=\"T_35016_row0_col1\" class=\"data row0 col1\" >931</td>\n",
       "                        <td id=\"T_35016_row0_col2\" class=\"data row0 col2\" >7.55%</td>\n",
       "            </tr>\n",
       "            <tr>\n",
       "                        <th id=\"T_35016_level0_row1\" class=\"row_heading level0 row1\" >вне брака</th>\n",
       "                        <td id=\"T_35016_row1_col0\" class=\"data row1 col0\" >8305</td>\n",
       "                        <td id=\"T_35016_row1_col1\" class=\"data row1 col1\" >810</td>\n",
       "                        <td id=\"T_35016_row1_col2\" class=\"data row1 col2\" >8.89%</td>\n",
       "            </tr>\n",
       "    </tbody></table>"
      ],
      "text/plain": [
       "<pandas.io.formats.style.Styler at 0x7ff1cc90ba00>"
      ]
     },
     "metadata": {},
     "output_type": "display_data"
    }
   ],
   "source": [
    "#creating a pivot table\n",
    "df_svod = df.pivot_table(index=['family_status_count'], columns='debt', values='total_income', aggfunc='count')#creating a pivot table by grouping category_children\n",
    "df_svod['ratio'] = df_svod[1] / (df_svod[0] + df_svod[1]) #adding the % non-return indicator\n",
    "display(df_svod.style.format({'ratio' : '{:.2%}'.format})) #output to the screen\n"
   ]
  },
  {
   "cell_type": "markdown",
   "metadata": {},
   "source": [
    "**Conclusion**"
   ]
  },
  {
   "cell_type": "markdown",
   "metadata": {},
   "source": [
    "People in marriage tend to be more responsible. Apparently, therefore, the ratio of non-repayment of loans on time is lower for them than for clients outside of marriage."
   ]
  },
  {
   "cell_type": "markdown",
   "metadata": {},
   "source": [
    "- Is there a relationship between the level of income and repayment of the loan on time?"
   ]
  },
  {
   "cell_type": "code",
   "execution_count": 159,
   "metadata": {
    "scrolled": true
   },
   "outputs": [
    {
     "data": {
      "text/html": [
       "<style  type=\"text/css\" >\n",
       "</style><table id=\"T_b320b_\" ><thead>    <tr>        <th class=\"index_name level0\" >debt</th>        <th class=\"col_heading level0 col0\" >0</th>        <th class=\"col_heading level0 col1\" >1</th>        <th class=\"col_heading level0 col2\" >ratio</th>    </tr>    <tr>        <th class=\"index_name level0\" >category_total_income</th>        <th class=\"blank\" ></th>        <th class=\"blank\" ></th>        <th class=\"blank\" ></th>    </tr></thead><tbody>\n",
       "                <tr>\n",
       "                        <th id=\"T_b320b_level0_row0\" class=\"row_heading level0 row0\" >1 income up to 100 000</th>\n",
       "                        <td id=\"T_b320b_row0_col0\" class=\"data row0 col0\" >4109</td>\n",
       "                        <td id=\"T_b320b_row0_col1\" class=\"data row0 col1\" >354</td>\n",
       "                        <td id=\"T_b320b_row0_col2\" class=\"data row0 col2\" >7.93%</td>\n",
       "            </tr>\n",
       "            <tr>\n",
       "                        <th id=\"T_b320b_level0_row1\" class=\"row_heading level0 row1\" >2 income from 100000 up to 150000</th>\n",
       "                        <td id=\"T_b320b_row1_col0\" class=\"data row1 col0\" >5564</td>\n",
       "                        <td id=\"T_b320b_row1_col1\" class=\"data row1 col1\" >526</td>\n",
       "                        <td id=\"T_b320b_row1_col2\" class=\"data row1 col2\" >8.64%</td>\n",
       "            </tr>\n",
       "            <tr>\n",
       "                        <th id=\"T_b320b_level0_row2\" class=\"row_heading level0 row2\" >3 income from 150000 up to 300000</th>\n",
       "                        <td id=\"T_b320b_row2_col0\" class=\"data row2 col0\" >8663</td>\n",
       "                        <td id=\"T_b320b_row2_col1\" class=\"data row2 col1\" >755</td>\n",
       "                        <td id=\"T_b320b_row2_col2\" class=\"data row2 col2\" >8.02%</td>\n",
       "            </tr>\n",
       "            <tr>\n",
       "                        <th id=\"T_b320b_level0_row3\" class=\"row_heading level0 row3\" >4 income above 300000</th>\n",
       "                        <td id=\"T_b320b_row3_col0\" class=\"data row3 col0\" >1377</td>\n",
       "                        <td id=\"T_b320b_row3_col1\" class=\"data row3 col1\" >106</td>\n",
       "                        <td id=\"T_b320b_row3_col2\" class=\"data row3 col2\" >7.15%</td>\n",
       "            </tr>\n",
       "    </tbody></table>"
      ],
      "text/plain": [
       "<pandas.io.formats.style.Styler at 0x7ff1cce5c5e0>"
      ]
     },
     "metadata": {},
     "output_type": "display_data"
    }
   ],
   "source": [
    "#creating a pivot table\n",
    "df_svod = df.pivot_table(index=['category_total_income'], columns='debt', values='total_income', aggfunc='count')#creating a pivot table by grouping category_children\n",
    "df_svod['ratio'] = df_svod[1] / (df_svod[0] + df_svod[1]) #adding the % non-return indicator\n",
    "display(df_svod.style.format({'ratio' : '{:.2%}'.format})) #output to the screen"
   ]
  },
  {
   "cell_type": "markdown",
   "metadata": {},
   "source": [
    "**Conclusion**"
   ]
  },
  {
   "cell_type": "markdown",
   "metadata": {},
   "source": [
    "There is a relationship between the income level and the repayment of the loan on time, but it is not significant. \n",
    "Moreover, the groups with both the lowest and the highest income do not repay loans on time."
   ]
  },
  {
   "cell_type": "markdown",
   "metadata": {},
   "source": [
    "- How do different loan goals affect its repayment on time?"
   ]
  },
  {
   "cell_type": "code",
   "execution_count": 160,
   "metadata": {},
   "outputs": [
    {
     "data": {
      "text/html": [
       "<div>\n",
       "<style scoped>\n",
       "    .dataframe tbody tr th:only-of-type {\n",
       "        vertical-align: middle;\n",
       "    }\n",
       "\n",
       "    .dataframe tbody tr th {\n",
       "        vertical-align: top;\n",
       "    }\n",
       "\n",
       "    .dataframe thead th {\n",
       "        text-align: right;\n",
       "    }\n",
       "</style>\n",
       "<table border=\"1\" class=\"dataframe\">\n",
       "  <thead>\n",
       "    <tr style=\"text-align: right;\">\n",
       "      <th>debt_count</th>\n",
       "      <th>debt</th>\n",
       "      <th>no debt</th>\n",
       "    </tr>\n",
       "    <tr>\n",
       "      <th>purpose_category</th>\n",
       "      <th></th>\n",
       "      <th></th>\n",
       "    </tr>\n",
       "  </thead>\n",
       "  <tbody>\n",
       "    <tr>\n",
       "      <th>автомобиль</th>\n",
       "      <td>403</td>\n",
       "      <td>3903</td>\n",
       "    </tr>\n",
       "    <tr>\n",
       "      <th>недвижимость</th>\n",
       "      <td>362</td>\n",
       "      <td>4721</td>\n",
       "    </tr>\n",
       "    <tr>\n",
       "      <th>недвижимость / жилье</th>\n",
       "      <td>385</td>\n",
       "      <td>4736</td>\n",
       "    </tr>\n",
       "    <tr>\n",
       "      <th>образование</th>\n",
       "      <td>370</td>\n",
       "      <td>3643</td>\n",
       "    </tr>\n",
       "    <tr>\n",
       "      <th>ремонт</th>\n",
       "      <td>35</td>\n",
       "      <td>572</td>\n",
       "    </tr>\n",
       "    <tr>\n",
       "      <th>свадьба</th>\n",
       "      <td>186</td>\n",
       "      <td>2138</td>\n",
       "    </tr>\n",
       "  </tbody>\n",
       "</table>\n",
       "</div>"
      ],
      "text/plain": [
       "debt_count            debt  no debt\n",
       "purpose_category                   \n",
       "автомобиль             403     3903\n",
       "недвижимость           362     4721\n",
       "недвижимость / жилье   385     4736\n",
       "образование            370     3643\n",
       "ремонт                  35      572\n",
       "свадьба                186     2138"
      ]
     },
     "metadata": {},
     "output_type": "display_data"
    }
   ],
   "source": [
    "#creating a pivot table\n",
    "df_svod = df.pivot_table(index=['purpose_category'], columns='debt_count', values='total_income', aggfunc='count')#creating a pivot table by grouping category_children\n",
    "display(df_svod.head(15)) #output to the screen\n"
   ]
  },
  {
   "cell_type": "code",
   "execution_count": 165,
   "metadata": {},
   "outputs": [
    {
     "data": {
      "text/html": [
       "<style  type=\"text/css\" >\n",
       "</style><table id=\"T_97555_\" ><thead>    <tr>        <th class=\"index_name level0\" >debt</th>        <th class=\"col_heading level0 col0\" >0</th>        <th class=\"col_heading level0 col1\" >1</th>        <th class=\"col_heading level0 col2\" >ratio</th>    </tr>    <tr>        <th class=\"index_name level0\" >purpose_category</th>        <th class=\"blank\" ></th>        <th class=\"blank\" ></th>        <th class=\"blank\" ></th>    </tr></thead><tbody>\n",
       "                <tr>\n",
       "                        <th id=\"T_97555_level0_row0\" class=\"row_heading level0 row0\" >автомобиль</th>\n",
       "                        <td id=\"T_97555_row0_col0\" class=\"data row0 col0\" >3903</td>\n",
       "                        <td id=\"T_97555_row0_col1\" class=\"data row0 col1\" >403</td>\n",
       "                        <td id=\"T_97555_row0_col2\" class=\"data row0 col2\" >9.36%</td>\n",
       "            </tr>\n",
       "            <tr>\n",
       "                        <th id=\"T_97555_level0_row1\" class=\"row_heading level0 row1\" >недвижимость</th>\n",
       "                        <td id=\"T_97555_row1_col0\" class=\"data row1 col0\" >4721</td>\n",
       "                        <td id=\"T_97555_row1_col1\" class=\"data row1 col1\" >362</td>\n",
       "                        <td id=\"T_97555_row1_col2\" class=\"data row1 col2\" >7.12%</td>\n",
       "            </tr>\n",
       "            <tr>\n",
       "                        <th id=\"T_97555_level0_row2\" class=\"row_heading level0 row2\" >недвижимость / жилье</th>\n",
       "                        <td id=\"T_97555_row2_col0\" class=\"data row2 col0\" >4736</td>\n",
       "                        <td id=\"T_97555_row2_col1\" class=\"data row2 col1\" >385</td>\n",
       "                        <td id=\"T_97555_row2_col2\" class=\"data row2 col2\" >7.52%</td>\n",
       "            </tr>\n",
       "            <tr>\n",
       "                        <th id=\"T_97555_level0_row3\" class=\"row_heading level0 row3\" >образование</th>\n",
       "                        <td id=\"T_97555_row3_col0\" class=\"data row3 col0\" >3643</td>\n",
       "                        <td id=\"T_97555_row3_col1\" class=\"data row3 col1\" >370</td>\n",
       "                        <td id=\"T_97555_row3_col2\" class=\"data row3 col2\" >9.22%</td>\n",
       "            </tr>\n",
       "            <tr>\n",
       "                        <th id=\"T_97555_level0_row4\" class=\"row_heading level0 row4\" >ремонт</th>\n",
       "                        <td id=\"T_97555_row4_col0\" class=\"data row4 col0\" >572</td>\n",
       "                        <td id=\"T_97555_row4_col1\" class=\"data row4 col1\" >35</td>\n",
       "                        <td id=\"T_97555_row4_col2\" class=\"data row4 col2\" >5.77%</td>\n",
       "            </tr>\n",
       "            <tr>\n",
       "                        <th id=\"T_97555_level0_row5\" class=\"row_heading level0 row5\" >свадьба</th>\n",
       "                        <td id=\"T_97555_row5_col0\" class=\"data row5 col0\" >2138</td>\n",
       "                        <td id=\"T_97555_row5_col1\" class=\"data row5 col1\" >186</td>\n",
       "                        <td id=\"T_97555_row5_col2\" class=\"data row5 col2\" >8.00%</td>\n",
       "            </tr>\n",
       "    </tbody></table>"
      ],
      "text/plain": [
       "<pandas.io.formats.style.Styler at 0x7ff1cd3a2bb0>"
      ]
     },
     "metadata": {},
     "output_type": "display_data"
    }
   ],
   "source": [
    "df_svod = df.pivot_table(index=['purpose_category'], columns='debt', values='total_income', aggfunc='count')#creating a pivot table by grouping category_children\n",
    "#display(df_svod.head(15))\n",
    "df_svod['ratio'] = df_svod[1] / (df_svod[0] + df_svod[1]) #adding the % non-return indicator\n",
    "display(df_svod.style.format({'ratio' : '{:.2%}'.format})) #output to the screen"
   ]
  },
  {
   "cell_type": "markdown",
   "metadata": {},
   "source": [
    "There is a clear relationship between the objectives of the loan.\n",
    "So, the smallest debt is traced by the category of repair, and the largest is a car"
   ]
  },
  {
   "cell_type": "markdown",
   "metadata": {},
   "source": [
    "## Step 4. General conclusion"
   ]
  },
  {
   "cell_type": "markdown",
   "metadata": {},
   "source": [
    "The study of the reliability of borrowers showed that the marital status and the number of children of the client affects the fact of repayment of the loan on time.\n",
    "\n",
    "Customers in marriage are more responsible and they have the smallest share of non-refunds.\n",
    "\n",
    "While the non-repayment of the loan on time, depending on the amount of income, does not differ significantly from each other.\n",
    "\n",
    "A loan for the purpose of \"repair\" is the most refundable, which is not to say about a loan for the purpose of \"car\", which has the most common cases of non-repayment on time.\n",
    "\n",
    "When preparing answers to these questions, anomalies such as omissions, negative values, duplicates were identified and processed.\n",
    "\n",
    "Some of the data did not affect the analysis, so it was ignored, for example, gender (one value was omitted, work experience and employment status).\n",
    "\n",
    "Lemmatization was performed, which made it possible to group goals and discard what was not needed. Categorization of groups according to a certain criterion (availability of children, income level, marital status and goals) made it possible to clearly see the dependencies on the likelihood."
   ]
  },
  {
   "cell_type": "code",
   "execution_count": null,
   "metadata": {},
   "outputs": [],
   "source": []
  }
 ],
 "metadata": {
  "ExecuteTimeLog": [
   {
    "duration": 972,
    "start_time": "2022-01-27T21:58:58.019Z"
   },
   {
    "duration": 14,
    "start_time": "2022-01-27T22:11:27.328Z"
   },
   {
    "duration": 8,
    "start_time": "2022-01-27T22:15:16.227Z"
   },
   {
    "duration": 14,
    "start_time": "2022-01-27T22:17:47.137Z"
   },
   {
    "duration": 5,
    "start_time": "2022-01-27T22:19:15.537Z"
   },
   {
    "duration": 13,
    "start_time": "2022-01-27T22:28:24.112Z"
   },
   {
    "duration": 34,
    "start_time": "2022-01-27T22:30:28.504Z"
   },
   {
    "duration": 5,
    "start_time": "2022-01-27T22:32:47.435Z"
   },
   {
    "duration": 5,
    "start_time": "2022-01-27T22:36:38.287Z"
   },
   {
    "duration": 6,
    "start_time": "2022-01-27T22:36:42.858Z"
   },
   {
    "duration": 5,
    "start_time": "2022-01-27T22:36:43.966Z"
   },
   {
    "duration": 6,
    "start_time": "2022-01-27T22:37:01.552Z"
   },
   {
    "duration": 72,
    "start_time": "2022-01-27T22:37:18.471Z"
   },
   {
    "duration": 6,
    "start_time": "2022-01-27T22:37:18.802Z"
   },
   {
    "duration": 7,
    "start_time": "2022-01-27T22:37:19.321Z"
   },
   {
    "duration": 5,
    "start_time": "2022-01-27T22:37:19.683Z"
   },
   {
    "duration": 15,
    "start_time": "2022-01-27T22:37:19.981Z"
   },
   {
    "duration": 18,
    "start_time": "2022-01-27T22:37:24.571Z"
   },
   {
    "duration": 33,
    "start_time": "2022-01-27T22:37:25.588Z"
   },
   {
    "duration": 4,
    "start_time": "2022-01-27T22:37:31.082Z"
   },
   {
    "duration": 5,
    "start_time": "2022-01-27T22:37:49.063Z"
   },
   {
    "duration": 5,
    "start_time": "2022-01-27T22:37:54.492Z"
   },
   {
    "duration": 8,
    "start_time": "2022-01-27T22:42:27.728Z"
   },
   {
    "duration": 6,
    "start_time": "2022-01-27T23:00:08.144Z"
   },
   {
    "duration": 356,
    "start_time": "2022-01-27T23:00:39.744Z"
   },
   {
    "duration": 9,
    "start_time": "2022-01-27T23:00:47.794Z"
   },
   {
    "duration": 7,
    "start_time": "2022-01-27T23:03:44.818Z"
   },
   {
    "duration": 7,
    "start_time": "2022-01-27T23:04:14.426Z"
   },
   {
    "duration": 8,
    "start_time": "2022-01-27T23:05:29.471Z"
   },
   {
    "duration": 9,
    "start_time": "2022-01-27T23:06:03.296Z"
   },
   {
    "duration": 7,
    "start_time": "2022-01-27T23:06:36.190Z"
   },
   {
    "duration": 7,
    "start_time": "2022-01-27T23:06:49.081Z"
   },
   {
    "duration": 7,
    "start_time": "2022-01-27T23:07:02.251Z"
   },
   {
    "duration": 7,
    "start_time": "2022-01-27T23:07:10.760Z"
   },
   {
    "duration": 7,
    "start_time": "2022-01-27T23:08:01.501Z"
   },
   {
    "duration": 7,
    "start_time": "2022-01-27T23:08:52.280Z"
   },
   {
    "duration": 9,
    "start_time": "2022-01-27T23:09:11.180Z"
   },
   {
    "duration": 7,
    "start_time": "2022-01-27T23:10:11.571Z"
   },
   {
    "duration": 7,
    "start_time": "2022-01-27T23:10:13.168Z"
   },
   {
    "duration": 7,
    "start_time": "2022-01-27T23:10:13.760Z"
   },
   {
    "duration": 10,
    "start_time": "2022-01-27T23:11:45.831Z"
   },
   {
    "duration": 266,
    "start_time": "2022-01-27T23:17:10.609Z"
   },
   {
    "duration": 10,
    "start_time": "2022-01-27T23:17:44.039Z"
   },
   {
    "duration": 11,
    "start_time": "2022-01-27T23:18:19.689Z"
   },
   {
    "duration": 6,
    "start_time": "2022-01-27T23:22:01.787Z"
   },
   {
    "duration": 10,
    "start_time": "2022-01-27T23:22:05.871Z"
   },
   {
    "duration": 17,
    "start_time": "2022-01-27T23:23:47.203Z"
   },
   {
    "duration": 9,
    "start_time": "2022-01-27T23:24:16.261Z"
   },
   {
    "duration": 5,
    "start_time": "2022-01-27T23:24:51.111Z"
   },
   {
    "duration": 7,
    "start_time": "2022-01-27T23:25:01.411Z"
   },
   {
    "duration": 83,
    "start_time": "2022-01-27T23:26:36.604Z"
   },
   {
    "duration": 6,
    "start_time": "2022-01-27T23:26:55.860Z"
   },
   {
    "duration": 7,
    "start_time": "2022-01-27T23:27:09.063Z"
   },
   {
    "duration": 3,
    "start_time": "2022-01-27T23:27:09.571Z"
   },
   {
    "duration": 5,
    "start_time": "2022-01-27T23:27:09.620Z"
   },
   {
    "duration": 68,
    "start_time": "2022-01-27T23:27:24.788Z"
   },
   {
    "duration": 5,
    "start_time": "2022-01-27T23:27:26.831Z"
   },
   {
    "duration": 7,
    "start_time": "2022-01-27T23:27:27.841Z"
   },
   {
    "duration": 5,
    "start_time": "2022-01-27T23:27:29.630Z"
   },
   {
    "duration": 16,
    "start_time": "2022-01-27T23:27:30.981Z"
   },
   {
    "duration": 14,
    "start_time": "2022-01-27T23:27:35.781Z"
   },
   {
    "duration": 34,
    "start_time": "2022-01-27T23:27:36.451Z"
   },
   {
    "duration": 5,
    "start_time": "2022-01-27T23:27:37.911Z"
   },
   {
    "duration": 4,
    "start_time": "2022-01-27T23:27:38.851Z"
   },
   {
    "duration": 7,
    "start_time": "2022-01-27T23:27:42.190Z"
   },
   {
    "duration": 3,
    "start_time": "2022-01-27T23:27:51.190Z"
   },
   {
    "duration": 6,
    "start_time": "2022-01-27T23:28:26.348Z"
   },
   {
    "duration": 7,
    "start_time": "2022-01-27T23:28:47.678Z"
   },
   {
    "duration": 8,
    "start_time": "2022-01-27T23:28:49.048Z"
   },
   {
    "duration": 74,
    "start_time": "2022-01-27T23:29:05.313Z"
   },
   {
    "duration": 6,
    "start_time": "2022-01-27T23:29:06.309Z"
   },
   {
    "duration": 7,
    "start_time": "2022-01-27T23:29:07.439Z"
   },
   {
    "duration": 5,
    "start_time": "2022-01-27T23:29:08.499Z"
   },
   {
    "duration": 15,
    "start_time": "2022-01-27T23:29:10.050Z"
   },
   {
    "duration": 14,
    "start_time": "2022-01-27T23:29:14.848Z"
   },
   {
    "duration": 34,
    "start_time": "2022-01-27T23:29:15.872Z"
   },
   {
    "duration": 6,
    "start_time": "2022-01-27T23:29:18.438Z"
   },
   {
    "duration": 7,
    "start_time": "2022-01-27T23:29:24.300Z"
   },
   {
    "duration": 6,
    "start_time": "2022-01-27T23:29:59.647Z"
   },
   {
    "duration": 7,
    "start_time": "2022-01-27T23:30:06.289Z"
   },
   {
    "duration": 7,
    "start_time": "2022-01-27T23:30:18.728Z"
   },
   {
    "duration": 7,
    "start_time": "2022-01-27T23:30:48.167Z"
   },
   {
    "duration": 7,
    "start_time": "2022-01-27T23:30:55.090Z"
   },
   {
    "duration": 7,
    "start_time": "2022-01-27T23:31:17.971Z"
   },
   {
    "duration": 9,
    "start_time": "2022-01-27T23:32:13.293Z"
   },
   {
    "duration": 8,
    "start_time": "2022-01-27T23:34:33.512Z"
   },
   {
    "duration": 7,
    "start_time": "2022-01-27T23:34:54.477Z"
   },
   {
    "duration": 6,
    "start_time": "2022-01-27T23:35:27.231Z"
   },
   {
    "duration": 6,
    "start_time": "2022-01-27T23:35:37.747Z"
   },
   {
    "duration": 9,
    "start_time": "2022-01-27T23:36:13.244Z"
   },
   {
    "duration": 7,
    "start_time": "2022-01-27T23:36:25.283Z"
   },
   {
    "duration": 7,
    "start_time": "2022-01-27T23:36:57.503Z"
   },
   {
    "duration": 18,
    "start_time": "2022-01-27T23:37:49.443Z"
   },
   {
    "duration": 5,
    "start_time": "2022-01-27T23:38:04.453Z"
   },
   {
    "duration": 18,
    "start_time": "2022-01-27T23:40:13.219Z"
   },
   {
    "duration": 9,
    "start_time": "2022-01-27T23:40:22.078Z"
   },
   {
    "duration": 7,
    "start_time": "2022-01-27T23:41:03.102Z"
   },
   {
    "duration": 272,
    "start_time": "2022-01-27T23:41:22.241Z"
   },
   {
    "duration": 272,
    "start_time": "2022-01-27T23:41:44.942Z"
   },
   {
    "duration": 90,
    "start_time": "2022-01-27T23:42:31.449Z"
   },
   {
    "duration": 88,
    "start_time": "2022-01-27T23:43:14.774Z"
   },
   {
    "duration": 277,
    "start_time": "2022-01-27T23:43:52.925Z"
   },
   {
    "duration": 7,
    "start_time": "2022-01-27T23:44:10.004Z"
   },
   {
    "duration": 7,
    "start_time": "2022-01-27T23:44:31.921Z"
   },
   {
    "duration": 7,
    "start_time": "2022-01-27T23:44:50.702Z"
   },
   {
    "duration": 70,
    "start_time": "2022-01-27T23:45:03.525Z"
   },
   {
    "duration": 5,
    "start_time": "2022-01-27T23:45:03.598Z"
   },
   {
    "duration": 7,
    "start_time": "2022-01-27T23:45:03.866Z"
   },
   {
    "duration": 6,
    "start_time": "2022-01-27T23:45:03.875Z"
   },
   {
    "duration": 16,
    "start_time": "2022-01-27T23:45:04.191Z"
   },
   {
    "duration": 14,
    "start_time": "2022-01-27T23:45:05.031Z"
   },
   {
    "duration": 37,
    "start_time": "2022-01-27T23:45:05.921Z"
   },
   {
    "duration": 7,
    "start_time": "2022-01-27T23:45:08.161Z"
   },
   {
    "duration": 6,
    "start_time": "2022-01-27T23:45:09.541Z"
   },
   {
    "duration": 6,
    "start_time": "2022-01-27T23:45:11.781Z"
   },
   {
    "duration": 70,
    "start_time": "2022-01-27T23:45:33.555Z"
   },
   {
    "duration": 6,
    "start_time": "2022-01-27T23:45:34.095Z"
   },
   {
    "duration": 7,
    "start_time": "2022-01-27T23:45:34.706Z"
   },
   {
    "duration": 6,
    "start_time": "2022-01-27T23:45:35.125Z"
   },
   {
    "duration": 15,
    "start_time": "2022-01-27T23:45:35.535Z"
   },
   {
    "duration": 13,
    "start_time": "2022-01-27T23:45:37.686Z"
   },
   {
    "duration": 33,
    "start_time": "2022-01-27T23:45:38.245Z"
   },
   {
    "duration": 6,
    "start_time": "2022-01-27T23:45:40.166Z"
   },
   {
    "duration": 7,
    "start_time": "2022-01-27T23:45:41.155Z"
   },
   {
    "duration": 6,
    "start_time": "2022-01-27T23:45:45.655Z"
   },
   {
    "duration": 6,
    "start_time": "2022-01-27T23:46:07.235Z"
   },
   {
    "duration": 6,
    "start_time": "2022-01-27T23:46:22.264Z"
   },
   {
    "duration": 6,
    "start_time": "2022-01-27T23:46:34.986Z"
   },
   {
    "duration": 5,
    "start_time": "2022-01-27T23:48:52.568Z"
   },
   {
    "duration": 4,
    "start_time": "2022-01-27T23:49:00.204Z"
   },
   {
    "duration": 6,
    "start_time": "2022-01-27T23:49:10.604Z"
   },
   {
    "duration": 6,
    "start_time": "2022-01-27T23:49:21.634Z"
   },
   {
    "duration": 18,
    "start_time": "2022-01-27T23:50:05.474Z"
   },
   {
    "duration": 17,
    "start_time": "2022-01-27T23:51:03.838Z"
   },
   {
    "duration": 15,
    "start_time": "2022-01-27T23:51:24.464Z"
   },
   {
    "duration": 15,
    "start_time": "2022-01-27T23:51:29.681Z"
   },
   {
    "duration": 15,
    "start_time": "2022-01-27T23:52:04.472Z"
   },
   {
    "duration": 17,
    "start_time": "2022-01-27T23:52:15.962Z"
   },
   {
    "duration": 5,
    "start_time": "2022-01-27T23:52:40.171Z"
   },
   {
    "duration": 16,
    "start_time": "2022-01-27T23:56:45.214Z"
   },
   {
    "duration": 17,
    "start_time": "2022-01-27T23:57:17.086Z"
   },
   {
    "duration": 18,
    "start_time": "2022-01-27T23:57:56.609Z"
   },
   {
    "duration": 15,
    "start_time": "2022-01-27T23:58:04.389Z"
   },
   {
    "duration": 22,
    "start_time": "2022-01-27T23:58:26.010Z"
   },
   {
    "duration": 17,
    "start_time": "2022-01-27T23:58:55.680Z"
   },
   {
    "duration": 17,
    "start_time": "2022-01-27T23:59:44.427Z"
   },
   {
    "duration": 120,
    "start_time": "2022-01-28T00:00:03.593Z"
   },
   {
    "duration": 1717,
    "start_time": "2022-01-28T00:00:47.839Z"
   },
   {
    "duration": 17,
    "start_time": "2022-01-28T00:01:16.651Z"
   },
   {
    "duration": 17,
    "start_time": "2022-01-28T00:01:27.919Z"
   },
   {
    "duration": 8,
    "start_time": "2022-01-28T00:03:43.527Z"
   },
   {
    "duration": 7,
    "start_time": "2022-01-28T00:03:45.382Z"
   },
   {
    "duration": 10,
    "start_time": "2022-01-28T00:03:52.019Z"
   },
   {
    "duration": 19,
    "start_time": "2022-01-28T00:06:19.406Z"
   },
   {
    "duration": 19,
    "start_time": "2022-01-28T00:07:56.075Z"
   },
   {
    "duration": 21,
    "start_time": "2022-01-28T00:08:48.092Z"
   },
   {
    "duration": 25,
    "start_time": "2022-01-28T00:09:21.262Z"
   },
   {
    "duration": 26,
    "start_time": "2022-01-28T00:10:57.298Z"
   },
   {
    "duration": 9,
    "start_time": "2022-01-28T00:14:35.623Z"
   },
   {
    "duration": 8,
    "start_time": "2022-01-28T00:17:06.694Z"
   },
   {
    "duration": 284,
    "start_time": "2022-01-28T00:17:26.573Z"
   },
   {
    "duration": 9,
    "start_time": "2022-01-28T00:17:55.224Z"
   },
   {
    "duration": 272,
    "start_time": "2022-01-28T00:17:56.384Z"
   },
   {
    "duration": 279,
    "start_time": "2022-01-28T00:18:46.413Z"
   },
   {
    "duration": 11,
    "start_time": "2022-01-28T00:19:02.500Z"
   },
   {
    "duration": 14,
    "start_time": "2022-01-28T00:19:03.780Z"
   },
   {
    "duration": 62,
    "start_time": "2022-01-28T00:19:37.195Z"
   },
   {
    "duration": 16,
    "start_time": "2022-01-28T00:23:35.139Z"
   },
   {
    "duration": 18,
    "start_time": "2022-01-28T00:23:51.489Z"
   },
   {
    "duration": 64,
    "start_time": "2022-01-28T00:24:11.278Z"
   },
   {
    "duration": 15,
    "start_time": "2022-01-28T00:24:26.535Z"
   },
   {
    "duration": 12,
    "start_time": "2022-01-28T00:24:26.590Z"
   },
   {
    "duration": 6698,
    "start_time": "2022-01-28T00:24:27.071Z"
   },
   {
    "duration": 13,
    "start_time": "2022-01-28T00:24:54.029Z"
   },
   {
    "duration": 14,
    "start_time": "2022-01-28T00:25:08.370Z"
   },
   {
    "duration": 12,
    "start_time": "2022-01-28T00:25:09.772Z"
   },
   {
    "duration": 64,
    "start_time": "2022-01-28T00:25:28.380Z"
   },
   {
    "duration": 23,
    "start_time": "2022-01-28T00:27:17.244Z"
   },
   {
    "duration": 84,
    "start_time": "2022-01-28T00:28:09.734Z"
   },
   {
    "duration": 19,
    "start_time": "2022-01-28T00:36:32.740Z"
   },
   {
    "duration": -609,
    "start_time": "2022-01-28T00:42:54.911Z"
   },
   {
    "duration": 69,
    "start_time": "2022-01-28T00:43:02.890Z"
   },
   {
    "duration": -607,
    "start_time": "2022-01-28T00:46:53.334Z"
   },
   {
    "duration": 77,
    "start_time": "2022-01-28T00:46:56.509Z"
   },
   {
    "duration": 13,
    "start_time": "2022-01-28T00:50:53.055Z"
   },
   {
    "duration": 11,
    "start_time": "2022-01-28T00:50:55.254Z"
   },
   {
    "duration": 13,
    "start_time": "2022-01-28T00:50:58.814Z"
   },
   {
    "duration": 6300,
    "start_time": "2022-01-28T00:51:00.564Z"
   },
   {
    "duration": -619,
    "start_time": "2022-01-28T00:51:07.485Z"
   },
   {
    "duration": 13,
    "start_time": "2022-01-28T00:51:07.645Z"
   },
   {
    "duration": 107,
    "start_time": "2022-01-28T00:51:19.864Z"
   },
   {
    "duration": 76,
    "start_time": "2022-01-28T00:51:42.874Z"
   },
   {
    "duration": 5,
    "start_time": "2022-01-28T00:51:44.214Z"
   },
   {
    "duration": 8,
    "start_time": "2022-01-28T00:51:45.523Z"
   },
   {
    "duration": 5,
    "start_time": "2022-01-28T00:51:46.734Z"
   },
   {
    "duration": 16,
    "start_time": "2022-01-28T00:51:48.655Z"
   },
   {
    "duration": 15,
    "start_time": "2022-01-28T00:51:54.974Z"
   },
   {
    "duration": 35,
    "start_time": "2022-01-28T00:51:56.834Z"
   },
   {
    "duration": 7,
    "start_time": "2022-01-28T00:52:00.414Z"
   },
   {
    "duration": 7,
    "start_time": "2022-01-28T00:52:01.544Z"
   },
   {
    "duration": 8,
    "start_time": "2022-01-28T00:52:03.964Z"
   },
   {
    "duration": 18,
    "start_time": "2022-01-28T00:52:05.384Z"
   },
   {
    "duration": 7,
    "start_time": "2022-01-28T00:52:10.684Z"
   },
   {
    "duration": 41,
    "start_time": "2022-01-28T00:52:14.495Z"
   },
   {
    "duration": 19,
    "start_time": "2022-01-28T00:52:19.414Z"
   },
   {
    "duration": 20,
    "start_time": "2022-01-28T00:52:51.413Z"
   },
   {
    "duration": 8,
    "start_time": "2022-01-28T00:53:02.583Z"
   },
   {
    "duration": 28,
    "start_time": "2022-01-28T00:53:04.592Z"
   },
   {
    "duration": 25,
    "start_time": "2022-01-28T00:53:45.359Z"
   },
   {
    "duration": 7,
    "start_time": "2022-01-28T00:53:49.806Z"
   },
   {
    "duration": 19,
    "start_time": "2022-01-28T00:53:54.598Z"
   },
   {
    "duration": 24,
    "start_time": "2022-01-28T00:54:19.016Z"
   },
   {
    "duration": 9,
    "start_time": "2022-01-28T00:54:22.527Z"
   },
   {
    "duration": 26,
    "start_time": "2022-01-28T00:55:13.620Z"
   },
   {
    "duration": 295,
    "start_time": "2022-01-28T00:55:35.242Z"
   },
   {
    "duration": 27,
    "start_time": "2022-01-28T00:55:43.628Z"
   },
   {
    "duration": 21,
    "start_time": "2022-01-28T00:55:46.605Z"
   },
   {
    "duration": 7,
    "start_time": "2022-01-28T00:55:48.232Z"
   },
   {
    "duration": 26,
    "start_time": "2022-01-28T00:55:49.631Z"
   },
   {
    "duration": 27,
    "start_time": "2022-01-28T00:56:05.022Z"
   },
   {
    "duration": 7,
    "start_time": "2022-01-28T01:01:25.315Z"
   },
   {
    "duration": 26,
    "start_time": "2022-01-28T01:01:26.403Z"
   },
   {
    "duration": 27,
    "start_time": "2022-01-28T01:01:46.963Z"
   },
   {
    "duration": 24,
    "start_time": "2022-01-28T01:02:51.142Z"
   },
   {
    "duration": 25,
    "start_time": "2022-01-28T01:03:07.422Z"
   },
   {
    "duration": 25,
    "start_time": "2022-01-28T01:03:48.679Z"
   },
   {
    "duration": 6,
    "start_time": "2022-01-28T01:03:52.261Z"
   },
   {
    "duration": 11,
    "start_time": "2022-01-28T01:03:53.229Z"
   },
   {
    "duration": 9,
    "start_time": "2022-01-28T01:03:56.517Z"
   },
   {
    "duration": 12,
    "start_time": "2022-01-28T01:03:57.519Z"
   },
   {
    "duration": 60,
    "start_time": "2022-01-28T01:03:59.098Z"
   },
   {
    "duration": 14,
    "start_time": "2022-01-28T01:04:06.509Z"
   },
   {
    "duration": 13,
    "start_time": "2022-01-28T01:04:07.759Z"
   },
   {
    "duration": 63,
    "start_time": "2022-01-28T01:04:10.049Z"
   },
   {
    "duration": 19,
    "start_time": "2022-01-28T01:04:21.699Z"
   },
   {
    "duration": 3,
    "start_time": "2022-01-28T01:04:33.253Z"
   },
   {
    "duration": 19,
    "start_time": "2022-01-28T01:04:37.949Z"
   },
   {
    "duration": 24,
    "start_time": "2022-01-28T01:07:02.680Z"
   },
   {
    "duration": 3,
    "start_time": "2022-01-28T01:09:38.348Z"
   },
   {
    "duration": 268,
    "start_time": "2022-01-28T01:10:45.708Z"
   },
   {
    "duration": 28,
    "start_time": "2022-01-28T01:11:19.127Z"
   },
   {
    "duration": 50,
    "start_time": "2022-01-28T01:11:41.669Z"
   },
   {
    "duration": 102,
    "start_time": "2022-01-28T01:12:37.776Z"
   },
   {
    "duration": 47,
    "start_time": "2022-01-28T01:22:36.120Z"
   },
   {
    "duration": 959,
    "start_time": "2022-01-28T01:28:14.016Z"
   },
   {
    "duration": 3387,
    "start_time": "2022-01-28T01:29:45.173Z"
   },
   {
    "duration": -826,
    "start_time": "2022-01-28T01:30:06.126Z"
   },
   {
    "duration": 22,
    "start_time": "2022-01-28T01:31:13.263Z"
   },
   {
    "duration": 19,
    "start_time": "2022-01-28T01:31:43.954Z"
   },
   {
    "duration": 47,
    "start_time": "2022-01-28T01:40:57.891Z"
   },
   {
    "duration": 15,
    "start_time": "2022-01-28T01:41:39.050Z"
   },
   {
    "duration": 12,
    "start_time": "2022-01-28T01:42:30.790Z"
   },
   {
    "duration": 12,
    "start_time": "2022-01-28T01:44:03.603Z"
   },
   {
    "duration": 74,
    "start_time": "2022-01-28T01:44:15.654Z"
   },
   {
    "duration": 7,
    "start_time": "2022-01-28T01:44:16.814Z"
   },
   {
    "duration": 25,
    "start_time": "2022-01-28T01:44:17.773Z"
   },
   {
    "duration": 7,
    "start_time": "2022-01-28T02:25:20.440Z"
   },
   {
    "duration": 19,
    "start_time": "2022-01-28T02:28:47.125Z"
   },
   {
    "duration": 19,
    "start_time": "2022-01-28T02:30:51.845Z"
   },
   {
    "duration": 93,
    "start_time": "2022-01-28T02:42:27.605Z"
   },
   {
    "duration": 298,
    "start_time": "2022-01-28T02:44:06.315Z"
   },
   {
    "duration": 69,
    "start_time": "2022-01-28T02:44:22.564Z"
   },
   {
    "duration": 6,
    "start_time": "2022-01-28T02:44:23.615Z"
   },
   {
    "duration": 23,
    "start_time": "2022-01-28T02:44:24.265Z"
   },
   {
    "duration": 7,
    "start_time": "2022-01-28T02:44:25.365Z"
   },
   {
    "duration": 6,
    "start_time": "2022-01-28T02:44:26.274Z"
   },
   {
    "duration": 15,
    "start_time": "2022-01-28T02:44:26.914Z"
   },
   {
    "duration": 13,
    "start_time": "2022-01-28T02:44:30.184Z"
   },
   {
    "duration": 34,
    "start_time": "2022-01-28T02:44:31.034Z"
   },
   {
    "duration": 8,
    "start_time": "2022-01-28T02:44:33.045Z"
   },
   {
    "duration": 7,
    "start_time": "2022-01-28T02:44:34.074Z"
   },
   {
    "duration": 7,
    "start_time": "2022-01-28T02:44:35.844Z"
   },
   {
    "duration": 24,
    "start_time": "2022-01-28T02:44:36.538Z"
   },
   {
    "duration": 26,
    "start_time": "2022-01-28T02:44:37.995Z"
   },
   {
    "duration": 7,
    "start_time": "2022-01-28T02:44:39.875Z"
   },
   {
    "duration": 19,
    "start_time": "2022-01-28T02:44:40.816Z"
   },
   {
    "duration": 7,
    "start_time": "2022-01-28T02:44:42.734Z"
   },
   {
    "duration": 12,
    "start_time": "2022-01-28T02:44:43.604Z"
   },
   {
    "duration": 11,
    "start_time": "2022-01-28T02:44:45.464Z"
   },
   {
    "duration": 12,
    "start_time": "2022-01-28T02:44:46.535Z"
   },
   {
    "duration": 60,
    "start_time": "2022-01-28T02:44:47.322Z"
   },
   {
    "duration": 17,
    "start_time": "2022-01-28T02:44:48.965Z"
   },
   {
    "duration": 12,
    "start_time": "2022-01-28T02:44:49.734Z"
   },
   {
    "duration": 63,
    "start_time": "2022-01-28T02:44:50.684Z"
   },
   {
    "duration": 22,
    "start_time": "2022-01-28T02:44:52.306Z"
   },
   {
    "duration": 20,
    "start_time": "2022-01-28T02:44:58.504Z"
   },
   {
    "duration": 20,
    "start_time": "2022-01-28T02:45:53.858Z"
   },
   {
    "duration": 62,
    "start_time": "2022-01-28T02:50:31.135Z"
   },
   {
    "duration": 97,
    "start_time": "2022-01-28T02:58:53.632Z"
   },
   {
    "duration": 37,
    "start_time": "2022-01-28T03:01:52.055Z"
   },
   {
    "duration": 46,
    "start_time": "2022-01-28T03:03:04.162Z"
   },
   {
    "duration": 84,
    "start_time": "2022-01-28T03:03:25.588Z"
   },
   {
    "duration": 26,
    "start_time": "2022-01-28T03:03:57.537Z"
   },
   {
    "duration": 94,
    "start_time": "2022-01-28T03:37:36.585Z"
   },
   {
    "duration": 360,
    "start_time": "2022-01-28T03:41:08.896Z"
   },
   {
    "duration": 970,
    "start_time": "2022-01-28T03:41:16.385Z"
   },
   {
    "duration": 265,
    "start_time": "2022-01-28T03:41:21.181Z"
   },
   {
    "duration": 961,
    "start_time": "2022-01-28T03:51:18.316Z"
   },
   {
    "duration": 271,
    "start_time": "2022-01-28T03:53:03.224Z"
   },
   {
    "duration": 289,
    "start_time": "2022-01-28T03:53:43.026Z"
   },
   {
    "duration": 280,
    "start_time": "2022-01-28T03:55:50.075Z"
   },
   {
    "duration": 282,
    "start_time": "2022-01-28T03:56:07.585Z"
   },
   {
    "duration": 84,
    "start_time": "2022-01-28T04:07:53.564Z"
   },
   {
    "duration": 20,
    "start_time": "2022-01-28T04:08:31.135Z"
   },
   {
    "duration": 7,
    "start_time": "2022-01-28T04:16:56.917Z"
   },
   {
    "duration": 8,
    "start_time": "2022-01-28T04:17:08.662Z"
   },
   {
    "duration": 6,
    "start_time": "2022-01-28T04:17:57.803Z"
   },
   {
    "duration": 14,
    "start_time": "2022-01-28T04:18:07.543Z"
   },
   {
    "duration": 19,
    "start_time": "2022-01-28T04:18:18.143Z"
   },
   {
    "duration": 22,
    "start_time": "2022-01-28T04:18:46.533Z"
   },
   {
    "duration": 279,
    "start_time": "2022-01-28T04:24:46.099Z"
   },
   {
    "duration": 24,
    "start_time": "2022-01-28T04:26:19.949Z"
   },
   {
    "duration": 22,
    "start_time": "2022-01-28T04:27:06.421Z"
   },
   {
    "duration": 32,
    "start_time": "2022-01-28T04:27:49.239Z"
   },
   {
    "duration": 22,
    "start_time": "2022-01-28T04:27:52.150Z"
   },
   {
    "duration": 22,
    "start_time": "2022-01-28T04:28:20.737Z"
   },
   {
    "duration": 410,
    "start_time": "2022-01-28T04:29:40.690Z"
   },
   {
    "duration": 7,
    "start_time": "2022-01-28T04:30:00.890Z"
   },
   {
    "duration": 104,
    "start_time": "2022-01-28T04:34:26.452Z"
   },
   {
    "duration": 90,
    "start_time": "2022-01-28T04:35:09.773Z"
   },
   {
    "duration": 11,
    "start_time": "2022-01-28T04:35:17.133Z"
   },
   {
    "duration": 26,
    "start_time": "2022-01-28T04:40:00.070Z"
   },
   {
    "duration": 28,
    "start_time": "2022-01-28T04:42:03.998Z"
   },
   {
    "duration": 73,
    "start_time": "2022-01-28T04:42:20.283Z"
   },
   {
    "duration": 5,
    "start_time": "2022-01-28T04:42:20.359Z"
   },
   {
    "duration": 25,
    "start_time": "2022-01-28T04:42:20.604Z"
   },
   {
    "duration": 6,
    "start_time": "2022-01-28T04:42:20.664Z"
   },
   {
    "duration": 6,
    "start_time": "2022-01-28T04:42:20.933Z"
   },
   {
    "duration": 15,
    "start_time": "2022-01-28T04:42:21.004Z"
   },
   {
    "duration": 13,
    "start_time": "2022-01-28T04:42:21.973Z"
   },
   {
    "duration": 33,
    "start_time": "2022-01-28T04:42:22.034Z"
   },
   {
    "duration": 6,
    "start_time": "2022-01-28T04:42:22.354Z"
   },
   {
    "duration": 7,
    "start_time": "2022-01-28T04:42:22.684Z"
   },
   {
    "duration": 8,
    "start_time": "2022-01-28T04:42:23.043Z"
   },
   {
    "duration": 25,
    "start_time": "2022-01-28T04:42:23.084Z"
   },
   {
    "duration": 28,
    "start_time": "2022-01-28T04:42:23.452Z"
   },
   {
    "duration": 7,
    "start_time": "2022-01-28T04:42:23.774Z"
   },
   {
    "duration": 21,
    "start_time": "2022-01-28T04:42:24.091Z"
   },
   {
    "duration": 8,
    "start_time": "2022-01-28T04:42:24.453Z"
   },
   {
    "duration": 12,
    "start_time": "2022-01-28T04:42:24.513Z"
   },
   {
    "duration": 11,
    "start_time": "2022-01-28T04:42:24.854Z"
   },
   {
    "duration": 6,
    "start_time": "2022-01-28T04:44:12.170Z"
   },
   {
    "duration": 25,
    "start_time": "2022-01-28T04:44:18.608Z"
   },
   {
    "duration": 7,
    "start_time": "2022-01-28T04:44:19.738Z"
   },
   {
    "duration": 4,
    "start_time": "2022-01-28T04:44:20.349Z"
   },
   {
    "duration": 15,
    "start_time": "2022-01-28T04:44:20.778Z"
   },
   {
    "duration": 15,
    "start_time": "2022-01-28T04:44:22.519Z"
   },
   {
    "duration": 36,
    "start_time": "2022-01-28T04:44:22.927Z"
   },
   {
    "duration": 6,
    "start_time": "2022-01-28T04:44:23.448Z"
   },
   {
    "duration": 7,
    "start_time": "2022-01-28T04:44:23.828Z"
   },
   {
    "duration": 8,
    "start_time": "2022-01-28T04:44:24.216Z"
   },
   {
    "duration": 22,
    "start_time": "2022-01-28T04:44:24.749Z"
   },
   {
    "duration": 26,
    "start_time": "2022-01-28T04:44:25.189Z"
   },
   {
    "duration": 7,
    "start_time": "2022-01-28T04:44:25.618Z"
   },
   {
    "duration": 19,
    "start_time": "2022-01-28T04:44:25.678Z"
   },
   {
    "duration": 7,
    "start_time": "2022-01-28T04:44:26.049Z"
   },
   {
    "duration": 11,
    "start_time": "2022-01-28T04:44:26.438Z"
   },
   {
    "duration": 8,
    "start_time": "2022-01-28T04:44:26.888Z"
   },
   {
    "duration": 12,
    "start_time": "2022-01-28T04:44:26.928Z"
   },
   {
    "duration": 62,
    "start_time": "2022-01-28T04:44:27.249Z"
   },
   {
    "duration": 15,
    "start_time": "2022-01-28T04:44:27.687Z"
   },
   {
    "duration": 12,
    "start_time": "2022-01-28T04:44:27.726Z"
   },
   {
    "duration": 61,
    "start_time": "2022-01-28T04:44:28.090Z"
   },
   {
    "duration": 21,
    "start_time": "2022-01-28T04:44:28.478Z"
   },
   {
    "duration": 19,
    "start_time": "2022-01-28T04:44:30.209Z"
   },
   {
    "duration": 48,
    "start_time": "2022-01-28T04:44:30.639Z"
   },
   {
    "duration": 25,
    "start_time": "2022-01-28T04:44:32.449Z"
   },
   {
    "duration": 59,
    "start_time": "2022-01-28T04:44:33.671Z"
   },
   {
    "duration": 982,
    "start_time": "2022-01-28T04:44:35.258Z"
   },
   {
    "duration": 327,
    "start_time": "2022-01-28T04:44:36.244Z"
   },
   {
    "duration": 26,
    "start_time": "2022-01-28T04:44:39.010Z"
   },
   {
    "duration": 31,
    "start_time": "2022-01-28T04:44:40.009Z"
   },
   {
    "duration": 316,
    "start_time": "2022-01-28T12:37:37.896Z"
   },
   {
    "duration": 263,
    "start_time": "2022-01-28T12:38:14.545Z"
   },
   {
    "duration": 855,
    "start_time": "2022-01-28T12:38:45.145Z"
   },
   {
    "duration": 14,
    "start_time": "2022-01-28T12:38:46.545Z"
   },
   {
    "duration": 28,
    "start_time": "2022-01-28T12:38:47.266Z"
   },
   {
    "duration": 7,
    "start_time": "2022-01-28T12:38:47.336Z"
   },
   {
    "duration": 6,
    "start_time": "2022-01-28T12:38:47.724Z"
   },
   {
    "duration": 15,
    "start_time": "2022-01-28T12:38:47.765Z"
   },
   {
    "duration": 13,
    "start_time": "2022-01-28T12:38:48.945Z"
   },
   {
    "duration": 33,
    "start_time": "2022-01-28T12:38:50.079Z"
   },
   {
    "duration": 7,
    "start_time": "2022-01-28T12:38:51.294Z"
   },
   {
    "duration": 7,
    "start_time": "2022-01-28T12:38:51.800Z"
   },
   {
    "duration": 7,
    "start_time": "2022-01-28T12:38:52.785Z"
   },
   {
    "duration": 25,
    "start_time": "2022-01-28T12:38:53.214Z"
   },
   {
    "duration": 322,
    "start_time": "2022-01-28T12:38:53.833Z"
   },
   {
    "duration": 7,
    "start_time": "2022-01-28T12:38:54.514Z"
   },
   {
    "duration": 22,
    "start_time": "2022-01-28T12:38:54.939Z"
   },
   {
    "duration": 8,
    "start_time": "2022-01-28T12:38:56.482Z"
   },
   {
    "duration": 12,
    "start_time": "2022-01-28T12:39:09.393Z"
   },
   {
    "duration": 9,
    "start_time": "2022-01-28T12:39:10.354Z"
   },
   {
    "duration": 12,
    "start_time": "2022-01-28T12:39:10.881Z"
   },
   {
    "duration": 62,
    "start_time": "2022-01-28T12:39:11.286Z"
   },
   {
    "duration": 17,
    "start_time": "2022-01-28T12:39:11.654Z"
   },
   {
    "duration": 12,
    "start_time": "2022-01-28T12:39:12.006Z"
   },
   {
    "duration": 61,
    "start_time": "2022-01-28T12:39:12.066Z"
   },
   {
    "duration": 21,
    "start_time": "2022-01-28T12:39:12.467Z"
   },
   {
    "duration": 19,
    "start_time": "2022-01-28T12:39:17.841Z"
   },
   {
    "duration": 25,
    "start_time": "2022-01-28T12:39:22.005Z"
   },
   {
    "duration": 57,
    "start_time": "2022-01-28T12:39:23.086Z"
   },
   {
    "duration": 1053,
    "start_time": "2022-01-28T12:39:25.528Z"
   },
   {
    "duration": 299,
    "start_time": "2022-01-28T12:39:26.584Z"
   },
   {
    "duration": 26,
    "start_time": "2022-01-28T12:39:30.963Z"
   },
   {
    "duration": 29,
    "start_time": "2022-01-28T12:39:32.016Z"
   },
   {
    "duration": 33,
    "start_time": "2022-01-28T12:39:32.754Z"
   },
   {
    "duration": 29,
    "start_time": "2022-01-28T12:41:55.184Z"
   },
   {
    "duration": 28,
    "start_time": "2022-01-28T12:42:18.024Z"
   },
   {
    "duration": 26,
    "start_time": "2022-01-28T12:46:01.474Z"
   },
   {
    "duration": 26,
    "start_time": "2022-01-28T12:48:40.714Z"
   },
   {
    "duration": 29,
    "start_time": "2022-01-28T12:49:33.932Z"
   },
   {
    "duration": 285,
    "start_time": "2022-01-28T14:14:35.459Z"
   },
   {
    "duration": 302,
    "start_time": "2022-01-28T14:15:29.484Z"
   },
   {
    "duration": 717,
    "start_time": "2022-01-28T14:15:44.895Z"
   },
   {
    "duration": 11,
    "start_time": "2022-01-28T14:15:45.644Z"
   },
   {
    "duration": 19,
    "start_time": "2022-01-28T14:15:46.454Z"
   },
   {
    "duration": 6,
    "start_time": "2022-01-28T14:15:46.984Z"
   },
   {
    "duration": 4,
    "start_time": "2022-01-28T14:15:47.034Z"
   },
   {
    "duration": 13,
    "start_time": "2022-01-28T14:15:47.394Z"
   },
   {
    "duration": 11,
    "start_time": "2022-01-28T14:15:48.115Z"
   },
   {
    "duration": 24,
    "start_time": "2022-01-28T14:15:48.433Z"
   },
   {
    "duration": 5,
    "start_time": "2022-01-28T14:15:48.791Z"
   },
   {
    "duration": 5,
    "start_time": "2022-01-28T14:15:48.834Z"
   },
   {
    "duration": 5,
    "start_time": "2022-01-28T14:15:49.174Z"
   },
   {
    "duration": 18,
    "start_time": "2022-01-28T14:15:49.561Z"
   },
   {
    "duration": 278,
    "start_time": "2022-01-28T14:15:49.835Z"
   },
   {
    "duration": 5,
    "start_time": "2022-01-28T14:15:50.214Z"
   },
   {
    "duration": 13,
    "start_time": "2022-01-28T14:15:50.264Z"
   },
   {
    "duration": 6,
    "start_time": "2022-01-28T14:15:50.614Z"
   },
   {
    "duration": 9,
    "start_time": "2022-01-28T14:15:50.933Z"
   },
   {
    "duration": 8,
    "start_time": "2022-01-28T14:15:51.324Z"
   },
   {
    "duration": 10,
    "start_time": "2022-01-28T14:15:51.364Z"
   },
   {
    "duration": 48,
    "start_time": "2022-01-28T14:15:51.702Z"
   },
   {
    "duration": 13,
    "start_time": "2022-01-28T14:15:52.085Z"
   },
   {
    "duration": 9,
    "start_time": "2022-01-28T14:15:53.025Z"
   },
   {
    "duration": 43,
    "start_time": "2022-01-28T14:15:53.664Z"
   },
   {
    "duration": 17,
    "start_time": "2022-01-28T14:15:54.313Z"
   },
   {
    "duration": 16,
    "start_time": "2022-01-28T14:15:58.854Z"
   },
   {
    "duration": 19,
    "start_time": "2022-01-28T14:16:00.971Z"
   },
   {
    "duration": 54,
    "start_time": "2022-01-28T14:16:01.534Z"
   },
   {
    "duration": 709,
    "start_time": "2022-01-28T14:16:05.145Z"
   },
   {
    "duration": 263,
    "start_time": "2022-01-28T14:16:06.423Z"
   },
   {
    "duration": 18,
    "start_time": "2022-01-28T14:16:10.134Z"
   },
   {
    "duration": 17,
    "start_time": "2022-01-28T14:16:15.975Z"
   },
   {
    "duration": 24,
    "start_time": "2022-01-28T14:16:19.285Z"
   },
   {
    "duration": 368,
    "start_time": "2022-01-28T14:17:36.629Z"
   },
   {
    "duration": 834,
    "start_time": "2022-01-29T06:47:45.090Z"
   },
   {
    "duration": 13,
    "start_time": "2022-01-29T06:47:45.926Z"
   },
   {
    "duration": 29,
    "start_time": "2022-01-29T06:47:46.468Z"
   },
   {
    "duration": 7,
    "start_time": "2022-01-29T06:47:47.507Z"
   },
   {
    "duration": 5,
    "start_time": "2022-01-29T06:47:48.667Z"
   },
   {
    "duration": 14,
    "start_time": "2022-01-29T06:47:49.477Z"
   },
   {
    "duration": 13,
    "start_time": "2022-01-29T06:48:49.157Z"
   },
   {
    "duration": 35,
    "start_time": "2022-01-29T06:48:50.068Z"
   },
   {
    "duration": 6,
    "start_time": "2022-01-29T07:00:59.773Z"
   },
   {
    "duration": 7,
    "start_time": "2022-01-29T07:01:00.283Z"
   },
   {
    "duration": 6,
    "start_time": "2022-01-29T07:01:01.518Z"
   },
   {
    "duration": 20,
    "start_time": "2022-01-29T07:01:02.235Z"
   },
   {
    "duration": 372,
    "start_time": "2022-01-29T07:01:03.753Z"
   },
   {
    "duration": 6,
    "start_time": "2022-01-29T07:01:04.711Z"
   },
   {
    "duration": 19,
    "start_time": "2022-01-29T07:01:05.253Z"
   },
   {
    "duration": 8,
    "start_time": "2022-01-29T07:01:07.304Z"
   },
   {
    "duration": 11,
    "start_time": "2022-01-29T07:01:07.944Z"
   },
   {
    "duration": 10,
    "start_time": "2022-01-29T07:01:09.503Z"
   },
   {
    "duration": 13,
    "start_time": "2022-01-29T07:01:10.134Z"
   },
   {
    "duration": 61,
    "start_time": "2022-01-29T07:01:11.448Z"
   },
   {
    "duration": 17,
    "start_time": "2022-01-29T07:01:14.584Z"
   },
   {
    "duration": 12,
    "start_time": "2022-01-29T07:01:15.434Z"
   },
   {
    "duration": 58,
    "start_time": "2022-01-29T07:01:16.423Z"
   },
   {
    "duration": 20,
    "start_time": "2022-01-29T07:01:18.264Z"
   },
   {
    "duration": 20,
    "start_time": "2022-01-29T07:01:21.493Z"
   },
   {
    "duration": 23,
    "start_time": "2022-01-29T07:01:59.179Z"
   },
   {
    "duration": 58,
    "start_time": "2022-01-29T07:02:04.308Z"
   },
   {
    "duration": 888,
    "start_time": "2022-01-29T07:11:15.844Z"
   },
   {
    "duration": 305,
    "start_time": "2022-01-29T07:11:16.735Z"
   },
   {
    "duration": 24,
    "start_time": "2022-01-29T07:11:24.512Z"
   },
   {
    "duration": 23,
    "start_time": "2022-01-29T07:11:31.105Z"
   },
   {
    "duration": 29,
    "start_time": "2022-01-29T07:11:33.066Z"
   },
   {
    "duration": 20,
    "start_time": "2022-01-29T07:14:18.837Z"
   },
   {
    "duration": 24,
    "start_time": "2022-01-29T08:22:46.883Z"
   },
   {
    "duration": 1528,
    "start_time": "2022-01-29T08:23:08.883Z"
   },
   {
    "duration": 26,
    "start_time": "2022-01-29T08:23:55.614Z"
   },
   {
    "duration": 27,
    "start_time": "2022-01-29T08:28:09.391Z"
   },
   {
    "duration": 85,
    "start_time": "2022-01-29T09:47:28.069Z"
   },
   {
    "duration": 11,
    "start_time": "2022-01-29T09:47:28.359Z"
   },
   {
    "duration": 31,
    "start_time": "2022-01-29T09:47:28.442Z"
   },
   {
    "duration": 8,
    "start_time": "2022-01-29T09:47:28.779Z"
   },
   {
    "duration": 5,
    "start_time": "2022-01-29T09:47:28.899Z"
   },
   {
    "duration": 20,
    "start_time": "2022-01-29T09:47:29.129Z"
   },
   {
    "duration": 18,
    "start_time": "2022-01-29T09:47:29.819Z"
   },
   {
    "duration": 48,
    "start_time": "2022-01-29T09:47:29.919Z"
   },
   {
    "duration": 6,
    "start_time": "2022-01-29T09:47:30.300Z"
   },
   {
    "duration": 8,
    "start_time": "2022-01-29T09:47:30.554Z"
   },
   {
    "duration": 8,
    "start_time": "2022-01-29T09:47:30.879Z"
   },
   {
    "duration": 24,
    "start_time": "2022-01-29T09:47:30.989Z"
   },
   {
    "duration": 454,
    "start_time": "2022-01-29T09:47:31.350Z"
   },
   {
    "duration": 283,
    "start_time": "2022-01-29T09:47:31.524Z"
   },
   {
    "duration": 23,
    "start_time": "2022-01-29T09:47:31.959Z"
   },
   {
    "duration": 8,
    "start_time": "2022-01-29T09:47:32.334Z"
   },
   {
    "duration": 12,
    "start_time": "2022-01-29T09:47:32.379Z"
   },
   {
    "duration": 11,
    "start_time": "2022-01-29T09:47:32.750Z"
   },
   {
    "duration": 13,
    "start_time": "2022-01-29T09:47:33.089Z"
   },
   {
    "duration": 94,
    "start_time": "2022-01-29T09:47:33.139Z"
   },
   {
    "duration": 28,
    "start_time": "2022-01-29T09:47:33.542Z"
   },
   {
    "duration": 13,
    "start_time": "2022-01-29T09:47:33.860Z"
   },
   {
    "duration": 87,
    "start_time": "2022-01-29T09:47:33.919Z"
   },
   {
    "duration": 28,
    "start_time": "2022-01-29T09:47:34.350Z"
   },
   {
    "duration": 20,
    "start_time": "2022-01-29T09:47:35.200Z"
   },
   {
    "duration": 24,
    "start_time": "2022-01-29T09:47:37.090Z"
   },
   {
    "duration": 59,
    "start_time": "2022-01-29T09:47:37.460Z"
   },
   {
    "duration": 1153,
    "start_time": "2022-01-29T09:47:38.740Z"
   },
   {
    "duration": 651,
    "start_time": "2022-01-29T09:47:39.897Z"
   },
   {
    "duration": 37,
    "start_time": "2022-01-29T09:47:42.219Z"
   },
   {
    "duration": 27,
    "start_time": "2022-01-29T09:47:48.707Z"
   },
   {
    "duration": 175,
    "start_time": "2022-01-29T09:50:26.420Z"
   },
   {
    "duration": 40,
    "start_time": "2022-01-29T09:50:40.820Z"
   },
   {
    "duration": 33,
    "start_time": "2022-01-29T09:50:51.651Z"
   },
   {
    "duration": 37,
    "start_time": "2022-01-29T09:52:11.911Z"
   },
   {
    "duration": 33,
    "start_time": "2022-01-29T09:55:54.037Z"
   },
   {
    "duration": 24,
    "start_time": "2022-01-29T09:56:49.293Z"
   },
   {
    "duration": 335,
    "start_time": "2022-01-29T09:57:09.524Z"
   },
   {
    "duration": 57,
    "start_time": "2022-01-29T09:57:24.015Z"
   },
   {
    "duration": 355,
    "start_time": "2022-01-29T09:57:47.955Z"
   },
   {
    "duration": 30,
    "start_time": "2022-01-29T09:58:16.402Z"
   },
   {
    "duration": 27,
    "start_time": "2022-01-29T09:59:51.164Z"
   },
   {
    "duration": 42,
    "start_time": "2022-01-29T10:01:07.168Z"
   },
   {
    "duration": 31,
    "start_time": "2022-01-29T10:01:22.003Z"
   },
   {
    "duration": 1107,
    "start_time": "2022-01-29T10:02:49.373Z"
   },
   {
    "duration": 351,
    "start_time": "2022-01-29T10:03:27.449Z"
   },
   {
    "duration": 381,
    "start_time": "2022-01-29T10:08:31.300Z"
   },
   {
    "duration": 1338,
    "start_time": "2022-01-29T10:09:14.313Z"
   },
   {
    "duration": 1318,
    "start_time": "2022-01-29T10:09:37.803Z"
   },
   {
    "duration": 413,
    "start_time": "2022-01-29T10:09:53.422Z"
   },
   {
    "duration": 398,
    "start_time": "2022-01-29T10:10:15.800Z"
   },
   {
    "duration": 368,
    "start_time": "2022-01-29T10:10:51.945Z"
   },
   {
    "duration": 302,
    "start_time": "2022-01-29T10:11:17.705Z"
   },
   {
    "duration": 25,
    "start_time": "2022-01-29T10:12:07.082Z"
   },
   {
    "duration": 7,
    "start_time": "2022-01-29T10:12:18.534Z"
   },
   {
    "duration": 27,
    "start_time": "2022-01-29T10:12:26.462Z"
   },
   {
    "duration": 614,
    "start_time": "2022-01-30T01:32:13.080Z"
   },
   {
    "duration": 8,
    "start_time": "2022-01-30T01:32:13.708Z"
   },
   {
    "duration": 16,
    "start_time": "2022-01-30T01:32:14.339Z"
   },
   {
    "duration": 5,
    "start_time": "2022-01-30T01:32:14.880Z"
   },
   {
    "duration": 4,
    "start_time": "2022-01-30T01:32:15.890Z"
   },
   {
    "duration": 12,
    "start_time": "2022-01-30T01:32:16.679Z"
   },
   {
    "duration": 10,
    "start_time": "2022-01-30T01:32:20.002Z"
   },
   {
    "duration": 20,
    "start_time": "2022-01-30T01:32:20.560Z"
   },
   {
    "duration": 4,
    "start_time": "2022-01-30T01:32:21.840Z"
   },
   {
    "duration": 4,
    "start_time": "2022-01-30T01:32:22.349Z"
   },
   {
    "duration": 5,
    "start_time": "2022-01-30T01:32:23.709Z"
   },
   {
    "duration": 14,
    "start_time": "2022-01-30T01:32:24.200Z"
   },
   {
    "duration": 377,
    "start_time": "2022-01-30T01:32:26.400Z"
   },
   {
    "duration": 5,
    "start_time": "2022-01-30T01:32:33.760Z"
   },
   {
    "duration": 11,
    "start_time": "2022-01-30T01:32:34.549Z"
   },
   {
    "duration": 5,
    "start_time": "2022-01-30T01:32:36.270Z"
   },
   {
    "duration": 7,
    "start_time": "2022-01-30T01:32:36.961Z"
   },
   {
    "duration": 6,
    "start_time": "2022-01-30T01:32:39.460Z"
   },
   {
    "duration": 8,
    "start_time": "2022-01-30T01:32:40.029Z"
   },
   {
    "duration": 38,
    "start_time": "2022-01-30T01:32:40.970Z"
   },
   {
    "duration": 11,
    "start_time": "2022-01-30T01:32:44.520Z"
   },
   {
    "duration": 9,
    "start_time": "2022-01-30T01:32:45.159Z"
   },
   {
    "duration": 36,
    "start_time": "2022-01-30T01:32:46.169Z"
   },
   {
    "duration": 14,
    "start_time": "2022-01-30T01:32:47.740Z"
   },
   {
    "duration": 14,
    "start_time": "2022-01-30T01:32:56.048Z"
   },
   {
    "duration": 15,
    "start_time": "2022-01-30T01:32:58.560Z"
   },
   {
    "duration": 34,
    "start_time": "2022-01-30T01:32:59.534Z"
   },
   {
    "duration": 625,
    "start_time": "2022-01-30T01:33:01.961Z"
   },
   {
    "duration": 300,
    "start_time": "2022-01-30T01:33:02.700Z"
   },
   {
    "duration": 15,
    "start_time": "2022-01-30T01:33:38.592Z"
   },
   {
    "duration": 14,
    "start_time": "2022-01-30T01:33:41.030Z"
   },
   {
    "duration": 20,
    "start_time": "2022-01-30T01:33:51.328Z"
   },
   {
    "duration": 157,
    "start_time": "2022-01-30T01:38:31.565Z"
   },
   {
    "duration": 7751,
    "start_time": "2022-01-30T01:38:59.135Z"
   },
   {
    "duration": 8,
    "start_time": "2022-01-30T01:39:22.389Z"
   },
   {
    "duration": 316,
    "start_time": "2022-01-30T01:44:40.910Z"
   },
   {
    "duration": 17,
    "start_time": "2022-01-30T01:45:38.027Z"
   },
   {
    "duration": 17,
    "start_time": "2022-01-30T01:46:13.495Z"
   },
   {
    "duration": 14,
    "start_time": "2022-01-30T01:54:00.937Z"
   },
   {
    "duration": 24,
    "start_time": "2022-01-30T01:56:27.079Z"
   },
   {
    "duration": 17,
    "start_time": "2022-01-30T01:56:38.140Z"
   },
   {
    "duration": 18,
    "start_time": "2022-01-30T01:56:55.279Z"
   },
   {
    "duration": 311,
    "start_time": "2022-01-30T02:05:20.539Z"
   },
   {
    "duration": 321,
    "start_time": "2022-01-30T02:05:53.563Z"
   },
   {
    "duration": 330,
    "start_time": "2022-01-30T02:06:00.614Z"
   },
   {
    "duration": 600,
    "start_time": "2022-01-30T02:38:57.881Z"
   },
   {
    "duration": 109,
    "start_time": "2022-01-30T02:40:42.331Z"
   },
   {
    "duration": 4,
    "start_time": "2022-01-30T02:41:40.561Z"
   },
   {
    "duration": 11,
    "start_time": "2022-01-30T02:42:39.336Z"
   },
   {
    "duration": 941,
    "start_time": "2022-01-30T02:42:56.146Z"
   },
   {
    "duration": 296,
    "start_time": "2022-01-30T02:43:02.386Z"
   },
   {
    "duration": 9,
    "start_time": "2022-01-30T02:45:44.255Z"
   },
   {
    "duration": 35,
    "start_time": "2022-01-30T02:45:44.266Z"
   },
   {
    "duration": 10,
    "start_time": "2022-01-30T02:45:44.303Z"
   },
   {
    "duration": 7,
    "start_time": "2022-01-30T02:45:44.315Z"
   },
   {
    "duration": 50,
    "start_time": "2022-01-30T02:45:44.323Z"
   },
   {
    "duration": 11,
    "start_time": "2022-01-30T02:45:44.375Z"
   },
   {
    "duration": 18,
    "start_time": "2022-01-30T02:45:44.755Z"
   },
   {
    "duration": 15,
    "start_time": "2022-01-30T02:45:47.385Z"
   },
   {
    "duration": 44,
    "start_time": "2022-01-30T02:45:48.154Z"
   },
   {
    "duration": 54,
    "start_time": "2022-01-30T02:47:38.784Z"
   },
   {
    "duration": 4,
    "start_time": "2022-01-30T02:47:39.953Z"
   },
   {
    "duration": 15,
    "start_time": "2022-01-30T02:47:40.682Z"
   },
   {
    "duration": 4,
    "start_time": "2022-01-30T02:47:42.906Z"
   },
   {
    "duration": 4,
    "start_time": "2022-01-30T02:47:45.204Z"
   },
   {
    "duration": 10,
    "start_time": "2022-01-30T02:47:48.564Z"
   },
   {
    "duration": 9,
    "start_time": "2022-01-30T02:59:11.101Z"
   },
   {
    "duration": 19,
    "start_time": "2022-01-30T02:59:12.023Z"
   },
   {
    "duration": 4,
    "start_time": "2022-01-30T02:59:13.703Z"
   },
   {
    "duration": 4,
    "start_time": "2022-01-30T02:59:14.283Z"
   },
   {
    "duration": 5,
    "start_time": "2022-01-30T02:59:15.065Z"
   },
   {
    "duration": 15,
    "start_time": "2022-01-30T02:59:15.424Z"
   },
   {
    "duration": 374,
    "start_time": "2022-01-30T02:59:16.435Z"
   },
   {
    "duration": 5,
    "start_time": "2022-01-30T02:59:17.715Z"
   },
   {
    "duration": 12,
    "start_time": "2022-01-30T02:59:18.465Z"
   },
   {
    "duration": 5,
    "start_time": "2022-01-30T02:59:19.434Z"
   },
   {
    "duration": 7,
    "start_time": "2022-01-30T02:59:20.175Z"
   },
   {
    "duration": 6,
    "start_time": "2022-01-30T02:59:21.755Z"
   },
   {
    "duration": 9,
    "start_time": "2022-01-30T02:59:22.374Z"
   },
   {
    "duration": 36,
    "start_time": "2022-01-30T02:59:25.803Z"
   },
   {
    "duration": 12,
    "start_time": "2022-01-30T02:59:28.143Z"
   },
   {
    "duration": 8,
    "start_time": "2022-01-30T02:59:28.796Z"
   },
   {
    "duration": 37,
    "start_time": "2022-01-30T02:59:30.072Z"
   },
   {
    "duration": 14,
    "start_time": "2022-01-30T02:59:36.544Z"
   },
   {
    "duration": 14,
    "start_time": "2022-01-30T02:59:39.975Z"
   },
   {
    "duration": 15,
    "start_time": "2022-01-30T02:59:43.095Z"
   },
   {
    "duration": 35,
    "start_time": "2022-01-30T02:59:44.425Z"
   },
   {
    "duration": 6,
    "start_time": "2022-01-30T03:03:38.087Z"
   },
   {
    "duration": 7640,
    "start_time": "2022-01-30T03:05:11.598Z"
   },
   {
    "duration": 309,
    "start_time": "2022-01-30T03:05:27.099Z"
   },
   {
    "duration": 4278,
    "start_time": "2022-01-30T03:27:19.506Z"
   },
   {
    "duration": 5,
    "start_time": "2022-01-30T03:37:58.098Z"
   },
   {
    "duration": 100,
    "start_time": "2022-01-30T03:38:03.238Z"
   },
   {
    "duration": 4589,
    "start_time": "2022-01-30T03:38:37.927Z"
   },
   {
    "duration": 3857,
    "start_time": "2022-01-30T03:41:26.920Z"
   },
   {
    "duration": 3779,
    "start_time": "2022-01-30T03:41:31.191Z"
   },
   {
    "duration": 55,
    "start_time": "2022-01-30T03:42:06.921Z"
   },
   {
    "duration": 4,
    "start_time": "2022-01-30T03:42:07.750Z"
   },
   {
    "duration": 15,
    "start_time": "2022-01-30T03:42:08.210Z"
   },
   {
    "duration": 4,
    "start_time": "2022-01-30T03:42:08.279Z"
   },
   {
    "duration": 4,
    "start_time": "2022-01-30T03:42:08.620Z"
   },
   {
    "duration": 10,
    "start_time": "2022-01-30T03:42:08.680Z"
   },
   {
    "duration": 9,
    "start_time": "2022-01-30T03:42:09.350Z"
   },
   {
    "duration": 19,
    "start_time": "2022-01-30T03:42:09.660Z"
   },
   {
    "duration": 4,
    "start_time": "2022-01-30T03:42:10.031Z"
   },
   {
    "duration": 4,
    "start_time": "2022-01-30T03:42:10.080Z"
   },
   {
    "duration": 3899,
    "start_time": "2022-01-30T03:42:10.428Z"
   },
   {
    "duration": 5,
    "start_time": "2022-01-30T03:43:57.400Z"
   },
   {
    "duration": 4,
    "start_time": "2022-01-30T03:44:15.151Z"
   },
   {
    "duration": 3840,
    "start_time": "2022-01-30T03:44:42.421Z"
   },
   {
    "duration": 3838,
    "start_time": "2022-01-30T03:45:26.554Z"
   },
   {
    "duration": 107,
    "start_time": "2022-01-30T03:45:55.886Z"
   },
   {
    "duration": 10,
    "start_time": "2022-01-30T03:46:25.990Z"
   },
   {
    "duration": 309,
    "start_time": "2022-01-30T03:47:18.066Z"
   },
   {
    "duration": 352,
    "start_time": "2022-01-30T03:48:45.317Z"
   },
   {
    "duration": 8,
    "start_time": "2022-01-30T03:49:34.792Z"
   },
   {
    "duration": 8,
    "start_time": "2022-01-30T03:50:57.933Z"
   },
   {
    "duration": 8,
    "start_time": "2022-01-30T03:52:20.344Z"
   },
   {
    "duration": 5,
    "start_time": "2022-01-30T03:52:22.914Z"
   },
   {
    "duration": 14,
    "start_time": "2022-01-30T03:52:24.043Z"
   },
   {
    "duration": 314,
    "start_time": "2022-01-30T03:52:25.375Z"
   },
   {
    "duration": 16,
    "start_time": "2022-01-30T03:53:24.627Z"
   },
   {
    "duration": 16,
    "start_time": "2022-01-30T03:53:38.007Z"
   },
   {
    "duration": 5,
    "start_time": "2022-01-30T03:53:39.138Z"
   },
   {
    "duration": 16,
    "start_time": "2022-01-30T03:53:39.769Z"
   },
   {
    "duration": 5,
    "start_time": "2022-01-30T03:53:41.219Z"
   },
   {
    "duration": 7,
    "start_time": "2022-01-30T03:53:41.789Z"
   },
   {
    "duration": 6,
    "start_time": "2022-01-30T03:53:43.548Z"
   },
   {
    "duration": 8,
    "start_time": "2022-01-30T03:53:44.209Z"
   },
   {
    "duration": 35,
    "start_time": "2022-01-30T03:53:44.718Z"
   },
   {
    "duration": 12,
    "start_time": "2022-01-30T03:53:46.048Z"
   },
   {
    "duration": 10,
    "start_time": "2022-01-30T03:53:46.899Z"
   },
   {
    "duration": 38,
    "start_time": "2022-01-30T03:53:47.740Z"
   },
   {
    "duration": 14,
    "start_time": "2022-01-30T03:53:49.309Z"
   },
   {
    "duration": 14,
    "start_time": "2022-01-30T03:53:52.909Z"
   },
   {
    "duration": 22,
    "start_time": "2022-01-30T03:53:55.649Z"
   },
   {
    "duration": 39,
    "start_time": "2022-01-30T03:53:56.409Z"
   },
   {
    "duration": 6,
    "start_time": "2022-01-30T04:00:10.235Z"
   },
   {
    "duration": 11,
    "start_time": "2022-01-30T04:06:06.466Z"
   },
   {
    "duration": 14,
    "start_time": "2022-01-30T04:06:59.298Z"
   },
   {
    "duration": 25,
    "start_time": "2022-01-30T04:08:30.628Z"
   },
   {
    "duration": 3180,
    "start_time": "2022-01-30T04:37:55.301Z"
   },
   {
    "duration": 2687,
    "start_time": "2022-01-30T04:38:32.331Z"
   },
   {
    "duration": 807,
    "start_time": "2022-01-30T07:04:02.817Z"
   },
   {
    "duration": 13,
    "start_time": "2022-01-30T07:04:03.627Z"
   },
   {
    "duration": 35,
    "start_time": "2022-01-30T07:04:03.643Z"
   },
   {
    "duration": 7,
    "start_time": "2022-01-30T07:04:03.680Z"
   },
   {
    "duration": 19,
    "start_time": "2022-01-30T07:04:03.689Z"
   },
   {
    "duration": 34,
    "start_time": "2022-01-30T07:04:03.710Z"
   },
   {
    "duration": 13,
    "start_time": "2022-01-30T07:04:04.565Z"
   },
   {
    "duration": 34,
    "start_time": "2022-01-30T07:04:04.926Z"
   },
   {
    "duration": 6,
    "start_time": "2022-01-30T07:04:05.366Z"
   },
   {
    "duration": 6,
    "start_time": "2022-01-30T07:04:05.396Z"
   },
   {
    "duration": 12,
    "start_time": "2022-01-30T07:04:05.756Z"
   },
   {
    "duration": 6,
    "start_time": "2022-01-30T07:04:06.242Z"
   },
   {
    "duration": 22,
    "start_time": "2022-01-30T07:04:06.289Z"
   },
   {
    "duration": 24,
    "start_time": "2022-01-30T07:04:06.766Z"
   },
   {
    "duration": 7,
    "start_time": "2022-01-30T07:04:07.196Z"
   },
   {
    "duration": 18,
    "start_time": "2022-01-30T07:04:07.546Z"
   },
   {
    "duration": 6,
    "start_time": "2022-01-30T07:04:07.996Z"
   },
   {
    "duration": 13,
    "start_time": "2022-01-30T07:04:08.036Z"
   },
   {
    "duration": 9,
    "start_time": "2022-01-30T07:04:08.486Z"
   },
   {
    "duration": 12,
    "start_time": "2022-01-30T07:04:08.846Z"
   },
   {
    "duration": 57,
    "start_time": "2022-01-30T07:04:08.916Z"
   },
   {
    "duration": 14,
    "start_time": "2022-01-30T07:04:09.376Z"
   },
   {
    "duration": 12,
    "start_time": "2022-01-30T07:04:09.726Z"
   },
   {
    "duration": 57,
    "start_time": "2022-01-30T07:04:09.776Z"
   },
   {
    "duration": 19,
    "start_time": "2022-01-30T07:04:10.246Z"
   },
   {
    "duration": 20,
    "start_time": "2022-01-30T07:04:11.086Z"
   },
   {
    "duration": 25,
    "start_time": "2022-01-30T07:04:12.455Z"
   },
   {
    "duration": 55,
    "start_time": "2022-01-30T07:04:12.846Z"
   },
   {
    "duration": 9,
    "start_time": "2022-01-30T07:04:14.926Z"
   },
   {
    "duration": 384,
    "start_time": "2022-01-30T07:04:14.938Z"
   },
   {
    "duration": 300,
    "start_time": "2022-01-30T08:25:03.897Z"
   },
   {
    "duration": 69,
    "start_time": "2022-01-30T08:43:17.096Z"
   },
   {
    "duration": 5,
    "start_time": "2022-01-30T08:43:17.624Z"
   },
   {
    "duration": 25,
    "start_time": "2022-01-30T08:43:18.080Z"
   },
   {
    "duration": 7,
    "start_time": "2022-01-30T08:43:18.408Z"
   },
   {
    "duration": 5,
    "start_time": "2022-01-30T08:43:18.467Z"
   },
   {
    "duration": 14,
    "start_time": "2022-01-30T08:43:18.777Z"
   },
   {
    "duration": 13,
    "start_time": "2022-01-30T08:43:19.586Z"
   },
   {
    "duration": 31,
    "start_time": "2022-01-30T08:43:19.656Z"
   },
   {
    "duration": 7,
    "start_time": "2022-01-30T08:43:20.027Z"
   },
   {
    "duration": 7,
    "start_time": "2022-01-30T08:43:20.306Z"
   },
   {
    "duration": 13,
    "start_time": "2022-01-30T08:43:20.377Z"
   },
   {
    "duration": 6,
    "start_time": "2022-01-30T08:43:21.038Z"
   },
   {
    "duration": 21,
    "start_time": "2022-01-30T08:43:21.077Z"
   },
   {
    "duration": 24,
    "start_time": "2022-01-30T08:43:21.845Z"
   },
   {
    "duration": 6,
    "start_time": "2022-01-30T08:43:22.256Z"
   },
   {
    "duration": 19,
    "start_time": "2022-01-30T08:43:22.616Z"
   },
   {
    "duration": 7,
    "start_time": "2022-01-30T08:43:22.986Z"
   },
   {
    "duration": 10,
    "start_time": "2022-01-30T08:43:23.048Z"
   },
   {
    "duration": 11,
    "start_time": "2022-01-30T08:43:23.392Z"
   },
   {
    "duration": 12,
    "start_time": "2022-01-30T08:43:23.717Z"
   },
   {
    "duration": 59,
    "start_time": "2022-01-30T08:43:23.776Z"
   },
   {
    "duration": 16,
    "start_time": "2022-01-30T08:43:24.266Z"
   },
   {
    "duration": 12,
    "start_time": "2022-01-30T08:43:24.466Z"
   },
   {
    "duration": 70,
    "start_time": "2022-01-30T08:43:24.518Z"
   },
   {
    "duration": 20,
    "start_time": "2022-01-30T08:43:24.927Z"
   },
   {
    "duration": 20,
    "start_time": "2022-01-30T08:43:26.087Z"
   },
   {
    "duration": 23,
    "start_time": "2022-01-30T08:43:27.305Z"
   },
   {
    "duration": 57,
    "start_time": "2022-01-30T08:43:28.097Z"
   },
   {
    "duration": 4,
    "start_time": "2022-01-30T08:43:29.926Z"
   },
   {
    "duration": 284,
    "start_time": "2022-01-30T08:43:32.698Z"
   },
   {
    "duration": 247,
    "start_time": "2022-01-30T08:44:41.974Z"
   },
   {
    "duration": 4,
    "start_time": "2022-01-30T08:45:20.170Z"
   },
   {
    "duration": 241,
    "start_time": "2022-01-30T08:45:22.204Z"
   },
   {
    "duration": 5114,
    "start_time": "2022-01-30T08:46:26.877Z"
   },
   {
    "duration": 345,
    "start_time": "2022-01-30T10:05:49.495Z"
   },
   {
    "duration": 70,
    "start_time": "2022-01-30T10:06:12.460Z"
   },
   {
    "duration": 6,
    "start_time": "2022-01-30T10:06:12.923Z"
   },
   {
    "duration": 25,
    "start_time": "2022-01-30T10:06:12.994Z"
   },
   {
    "duration": 7,
    "start_time": "2022-01-30T10:06:13.283Z"
   },
   {
    "duration": 6,
    "start_time": "2022-01-30T10:06:13.344Z"
   },
   {
    "duration": 15,
    "start_time": "2022-01-30T10:06:13.603Z"
   },
   {
    "duration": 14,
    "start_time": "2022-01-30T10:06:14.244Z"
   },
   {
    "duration": 36,
    "start_time": "2022-01-30T10:06:14.284Z"
   },
   {
    "duration": 7,
    "start_time": "2022-01-30T10:06:14.614Z"
   },
   {
    "duration": 6,
    "start_time": "2022-01-30T10:06:14.903Z"
   },
   {
    "duration": 13,
    "start_time": "2022-01-30T10:06:14.966Z"
   },
   {
    "duration": 6,
    "start_time": "2022-01-30T10:06:15.264Z"
   },
   {
    "duration": 22,
    "start_time": "2022-01-30T10:06:15.535Z"
   },
   {
    "duration": 22,
    "start_time": "2022-01-30T10:06:15.871Z"
   },
   {
    "duration": 7,
    "start_time": "2022-01-30T10:06:16.233Z"
   },
   {
    "duration": 18,
    "start_time": "2022-01-30T10:06:16.283Z"
   },
   {
    "duration": 8,
    "start_time": "2022-01-30T10:06:16.613Z"
   },
   {
    "duration": 11,
    "start_time": "2022-01-30T10:06:16.922Z"
   },
   {
    "duration": 11,
    "start_time": "2022-01-30T10:06:17.253Z"
   },
   {
    "duration": 11,
    "start_time": "2022-01-30T10:06:17.304Z"
   },
   {
    "duration": 58,
    "start_time": "2022-01-30T10:06:17.614Z"
   },
   {
    "duration": 16,
    "start_time": "2022-01-30T10:06:17.943Z"
   },
   {
    "duration": 12,
    "start_time": "2022-01-30T10:06:17.993Z"
   },
   {
    "duration": 60,
    "start_time": "2022-01-30T10:06:18.294Z"
   },
   {
    "duration": 19,
    "start_time": "2022-01-30T10:06:18.652Z"
   },
   {
    "duration": 20,
    "start_time": "2022-01-30T10:06:20.299Z"
   },
   {
    "duration": 24,
    "start_time": "2022-01-30T10:06:21.483Z"
   },
   {
    "duration": 62,
    "start_time": "2022-01-30T10:06:22.293Z"
   },
   {
    "duration": 25,
    "start_time": "2022-01-30T10:06:24.424Z"
   },
   {
    "duration": 5077,
    "start_time": "2022-01-30T10:06:25.018Z"
   },
   {
    "duration": 42,
    "start_time": "2022-01-30T10:06:30.099Z"
   },
   {
    "duration": 21,
    "start_time": "2022-01-30T10:06:30.144Z"
   },
   {
    "duration": 27,
    "start_time": "2022-01-30T10:06:30.167Z"
   },
   {
    "duration": 62,
    "start_time": "2022-01-30T10:06:30.197Z"
   },
   {
    "duration": 21,
    "start_time": "2022-01-30T10:06:30.262Z"
   },
   {
    "duration": 38,
    "start_time": "2022-01-30T10:06:36.137Z"
   },
   {
    "duration": 31,
    "start_time": "2022-01-30T10:06:37.104Z"
   },
   {
    "duration": 29,
    "start_time": "2022-01-30T10:06:44.224Z"
   },
   {
    "duration": 29,
    "start_time": "2022-01-30T10:06:50.333Z"
   },
   {
    "duration": 29,
    "start_time": "2022-01-30T10:07:51.277Z"
   },
   {
    "duration": 718,
    "start_time": "2022-01-30T15:04:50.713Z"
   },
   {
    "duration": 12,
    "start_time": "2022-01-30T15:04:51.433Z"
   },
   {
    "duration": 24,
    "start_time": "2022-01-30T15:04:51.447Z"
   },
   {
    "duration": 7,
    "start_time": "2022-01-30T15:04:51.474Z"
   },
   {
    "duration": 25,
    "start_time": "2022-01-30T15:04:51.484Z"
   },
   {
    "duration": 11,
    "start_time": "2022-01-30T15:04:51.511Z"
   },
   {
    "duration": 12,
    "start_time": "2022-01-30T15:04:52.194Z"
   },
   {
    "duration": 24,
    "start_time": "2022-01-30T15:04:52.533Z"
   },
   {
    "duration": 6,
    "start_time": "2022-01-30T15:04:52.901Z"
   },
   {
    "duration": 6,
    "start_time": "2022-01-30T15:04:52.953Z"
   },
   {
    "duration": 10,
    "start_time": "2022-01-30T15:04:53.276Z"
   },
   {
    "duration": 5,
    "start_time": "2022-01-30T15:04:54.914Z"
   },
   {
    "duration": 18,
    "start_time": "2022-01-30T15:04:55.661Z"
   },
   {
    "duration": 20,
    "start_time": "2022-01-30T15:04:56.473Z"
   },
   {
    "duration": 5,
    "start_time": "2022-01-30T15:04:56.854Z"
   },
   {
    "duration": 14,
    "start_time": "2022-01-30T15:04:56.893Z"
   },
   {
    "duration": 7,
    "start_time": "2022-01-30T15:04:57.253Z"
   },
   {
    "duration": 9,
    "start_time": "2022-01-30T15:04:57.573Z"
   },
   {
    "duration": 7,
    "start_time": "2022-01-30T15:04:57.975Z"
   },
   {
    "duration": 11,
    "start_time": "2022-01-30T15:04:58.083Z"
   },
   {
    "duration": 48,
    "start_time": "2022-01-30T15:04:58.335Z"
   },
   {
    "duration": 14,
    "start_time": "2022-01-30T15:04:58.713Z"
   },
   {
    "duration": 13,
    "start_time": "2022-01-30T15:04:58.774Z"
   },
   {
    "duration": 51,
    "start_time": "2022-01-30T15:04:59.115Z"
   },
   {
    "duration": 17,
    "start_time": "2022-01-30T15:04:59.494Z"
   },
   {
    "duration": 20,
    "start_time": "2022-01-30T15:05:01.133Z"
   },
   {
    "duration": 20,
    "start_time": "2022-01-30T15:05:02.034Z"
   },
   {
    "duration": 49,
    "start_time": "2022-01-30T15:05:02.535Z"
   },
   {
    "duration": 8,
    "start_time": "2022-01-30T15:05:03.495Z"
   },
   {
    "duration": 3895,
    "start_time": "2022-01-30T15:05:04.422Z"
   },
   {
    "duration": 17,
    "start_time": "2022-01-30T15:05:12.221Z"
   },
   {
    "duration": 16,
    "start_time": "2022-01-30T15:05:13.096Z"
   },
   {
    "duration": 21,
    "start_time": "2022-01-30T15:05:14.194Z"
   },
   {
    "duration": 21,
    "start_time": "2022-01-30T15:05:15.375Z"
   },
   {
    "duration": 18,
    "start_time": "2022-01-30T15:05:16.414Z"
   },
   {
    "duration": 29,
    "start_time": "2022-01-30T15:05:24.214Z"
   },
   {
    "duration": 21,
    "start_time": "2022-01-30T15:05:25.343Z"
   },
   {
    "duration": 22,
    "start_time": "2022-01-30T15:05:28.094Z"
   },
   {
    "duration": 22,
    "start_time": "2022-01-30T15:05:31.573Z"
   },
   {
    "duration": 22,
    "start_time": "2022-01-30T15:05:35.294Z"
   },
   {
    "duration": 145,
    "start_time": "2022-01-30T20:21:00.152Z"
   },
   {
    "duration": 515,
    "start_time": "2022-01-30T20:21:30.537Z"
   },
   {
    "duration": 1015,
    "start_time": "2022-01-30T20:21:38.461Z"
   },
   {
    "duration": 15,
    "start_time": "2022-01-30T20:21:39.480Z"
   },
   {
    "duration": 27,
    "start_time": "2022-01-30T20:21:39.873Z"
   },
   {
    "duration": 7,
    "start_time": "2022-01-30T20:21:40.281Z"
   },
   {
    "duration": 7,
    "start_time": "2022-01-30T20:21:40.616Z"
   },
   {
    "duration": 16,
    "start_time": "2022-01-30T20:21:40.966Z"
   },
   {
    "duration": 13,
    "start_time": "2022-01-30T20:21:42.836Z"
   },
   {
    "duration": 35,
    "start_time": "2022-01-30T20:21:43.252Z"
   },
   {
    "duration": 7,
    "start_time": "2022-01-30T20:21:43.730Z"
   },
   {
    "duration": 7,
    "start_time": "2022-01-30T20:21:43.777Z"
   },
   {
    "duration": 13,
    "start_time": "2022-01-30T20:21:44.176Z"
   },
   {
    "duration": 6,
    "start_time": "2022-01-30T20:21:45.459Z"
   },
   {
    "duration": 23,
    "start_time": "2022-01-30T20:21:45.768Z"
   },
   {
    "duration": 24,
    "start_time": "2022-01-30T20:21:46.971Z"
   },
   {
    "duration": 7,
    "start_time": "2022-01-30T20:21:48.370Z"
   },
   {
    "duration": 25,
    "start_time": "2022-01-30T20:21:48.830Z"
   },
   {
    "duration": 7,
    "start_time": "2022-01-30T20:21:49.560Z"
   },
   {
    "duration": 11,
    "start_time": "2022-01-30T20:21:49.964Z"
   },
   {
    "duration": 10,
    "start_time": "2022-01-30T20:21:50.880Z"
   },
   {
    "duration": 14,
    "start_time": "2022-01-30T20:21:51.240Z"
   },
   {
    "duration": 62,
    "start_time": "2022-01-30T20:21:51.790Z"
   },
   {
    "duration": 16,
    "start_time": "2022-01-30T20:21:53.230Z"
   },
   {
    "duration": 13,
    "start_time": "2022-01-30T20:21:53.680Z"
   },
   {
    "duration": 62,
    "start_time": "2022-01-30T20:21:54.060Z"
   },
   {
    "duration": 21,
    "start_time": "2022-01-30T20:21:55.080Z"
   },
   {
    "duration": 20,
    "start_time": "2022-01-30T20:21:58.850Z"
   },
   {
    "duration": 23,
    "start_time": "2022-01-30T20:22:01.478Z"
   },
   {
    "duration": 55,
    "start_time": "2022-01-30T20:22:04.051Z"
   },
   {
    "duration": 11,
    "start_time": "2022-01-30T20:22:09.931Z"
   },
   {
    "duration": 897,
    "start_time": "2022-01-30T20:22:11.799Z"
   },
   {
    "duration": 967,
    "start_time": "2022-01-30T20:32:55.392Z"
   },
   {
    "duration": 962,
    "start_time": "2022-01-30T20:33:25.978Z"
   },
   {
    "duration": 1188,
    "start_time": "2022-01-30T20:37:45.410Z"
   },
   {
    "duration": 1016,
    "start_time": "2022-01-30T20:38:40.562Z"
   },
   {
    "duration": 1064,
    "start_time": "2022-01-30T20:39:02.272Z"
   },
   {
    "duration": 45,
    "start_time": "2022-01-30T20:40:37.967Z"
   },
   {
    "duration": 1005,
    "start_time": "2022-01-30T20:56:59.829Z"
   },
   {
    "duration": 1017,
    "start_time": "2022-01-30T20:57:35.171Z"
   },
   {
    "duration": 1058,
    "start_time": "2022-01-30T20:57:56.329Z"
   },
   {
    "duration": 1273,
    "start_time": "2022-01-30T20:58:51.738Z"
   },
   {
    "duration": 977,
    "start_time": "2022-01-30T21:10:14.646Z"
   },
   {
    "duration": 1418,
    "start_time": "2022-01-30T21:11:52.301Z"
   },
   {
    "duration": 968,
    "start_time": "2022-01-30T21:12:02.334Z"
   },
   {
    "duration": 993,
    "start_time": "2022-01-30T21:13:04.841Z"
   },
   {
    "duration": 5006,
    "start_time": "2022-01-30T21:13:47.630Z"
   },
   {
    "duration": 4881,
    "start_time": "2022-01-30T21:16:09.889Z"
   },
   {
    "duration": 107,
    "start_time": "2022-01-30T21:17:57.400Z"
   },
   {
    "duration": 1104,
    "start_time": "2022-01-30T21:23:41.721Z"
   },
   {
    "duration": 4907,
    "start_time": "2022-01-30T21:25:50.888Z"
   },
   {
    "duration": 352,
    "start_time": "2022-01-30T21:35:49.124Z"
   },
   {
    "duration": 78,
    "start_time": "2022-01-30T21:35:58.744Z"
   },
   {
    "duration": 6,
    "start_time": "2022-01-30T21:35:59.929Z"
   },
   {
    "duration": 25,
    "start_time": "2022-01-30T21:35:59.989Z"
   },
   {
    "duration": 8,
    "start_time": "2022-01-30T21:36:00.336Z"
   },
   {
    "duration": 5,
    "start_time": "2022-01-30T21:36:00.388Z"
   },
   {
    "duration": 16,
    "start_time": "2022-01-30T21:36:00.729Z"
   },
   {
    "duration": 13,
    "start_time": "2022-01-30T21:36:01.418Z"
   },
   {
    "duration": 37,
    "start_time": "2022-01-30T21:36:01.478Z"
   },
   {
    "duration": 6,
    "start_time": "2022-01-30T21:36:01.809Z"
   },
   {
    "duration": 7,
    "start_time": "2022-01-30T21:36:02.117Z"
   },
   {
    "duration": 13,
    "start_time": "2022-01-30T21:36:02.179Z"
   },
   {
    "duration": 7,
    "start_time": "2022-01-30T21:36:02.538Z"
   },
   {
    "duration": 25,
    "start_time": "2022-01-30T21:36:02.859Z"
   },
   {
    "duration": 24,
    "start_time": "2022-01-30T21:36:03.227Z"
   },
   {
    "duration": 8,
    "start_time": "2022-01-30T21:36:03.597Z"
   },
   {
    "duration": 21,
    "start_time": "2022-01-30T21:36:03.648Z"
   },
   {
    "duration": 16,
    "start_time": "2022-01-30T21:36:04.040Z"
   },
   {
    "duration": 10,
    "start_time": "2022-01-30T21:36:04.338Z"
   },
   {
    "duration": 10,
    "start_time": "2022-01-30T21:36:04.688Z"
   },
   {
    "duration": 22,
    "start_time": "2022-01-30T21:36:04.746Z"
   },
   {
    "duration": 69,
    "start_time": "2022-01-30T21:36:05.049Z"
   },
   {
    "duration": 21,
    "start_time": "2022-01-30T21:36:05.450Z"
   },
   {
    "duration": 12,
    "start_time": "2022-01-30T21:36:05.487Z"
   },
   {
    "duration": 66,
    "start_time": "2022-01-30T21:36:05.799Z"
   },
   {
    "duration": 23,
    "start_time": "2022-01-30T21:36:06.158Z"
   },
   {
    "duration": 30,
    "start_time": "2022-01-30T21:36:06.937Z"
   },
   {
    "duration": 26,
    "start_time": "2022-01-30T21:36:07.367Z"
   },
   {
    "duration": 66,
    "start_time": "2022-01-30T21:36:07.738Z"
   },
   {
    "duration": 1147,
    "start_time": "2022-01-30T21:36:08.796Z"
   },
   {
    "duration": 5116,
    "start_time": "2022-01-30T21:36:10.547Z"
   },
   {
    "duration": 23,
    "start_time": "2022-01-30T21:36:15.666Z"
   },
   {
    "duration": 21,
    "start_time": "2022-01-30T21:36:15.692Z"
   },
   {
    "duration": 55,
    "start_time": "2022-01-30T21:36:15.715Z"
   },
   {
    "duration": 30,
    "start_time": "2022-01-30T21:36:16.188Z"
   },
   {
    "duration": 30,
    "start_time": "2022-01-30T21:36:17.437Z"
   },
   {
    "duration": 7366,
    "start_time": "2022-01-30T21:36:26.739Z"
   },
   {
    "duration": 42,
    "start_time": "2022-01-30T21:37:50.209Z"
   },
   {
    "duration": 6979,
    "start_time": "2022-01-30T21:44:06.585Z"
   },
   {
    "duration": 30,
    "start_time": "2022-01-30T21:44:24.426Z"
   },
   {
    "duration": 10027,
    "start_time": "2022-01-30T21:44:44.648Z"
   },
   {
    "duration": 8140,
    "start_time": "2022-01-30T21:45:27.825Z"
   },
   {
    "duration": 31,
    "start_time": "2022-01-30T21:45:54.833Z"
   },
   {
    "duration": 29,
    "start_time": "2022-01-30T21:46:52.673Z"
   },
   {
    "duration": 31,
    "start_time": "2022-01-30T21:47:17.804Z"
   },
   {
    "duration": 6726,
    "start_time": "2022-01-30T21:48:38.742Z"
   },
   {
    "duration": 27,
    "start_time": "2022-01-30T21:49:10.626Z"
   },
   {
    "duration": 6809,
    "start_time": "2022-01-30T21:49:20.943Z"
   },
   {
    "duration": 7097,
    "start_time": "2022-01-30T21:49:35.166Z"
   },
   {
    "duration": 5017,
    "start_time": "2022-01-30T22:03:25.988Z"
   },
   {
    "duration": 19,
    "start_time": "2022-01-30T22:03:47.860Z"
   },
   {
    "duration": 21,
    "start_time": "2022-01-30T22:03:48.140Z"
   },
   {
    "duration": 25,
    "start_time": "2022-01-30T22:03:48.490Z"
   },
   {
    "duration": 28,
    "start_time": "2022-01-30T22:03:48.810Z"
   },
   {
    "duration": 22,
    "start_time": "2022-01-30T22:03:49.187Z"
   },
   {
    "duration": 31,
    "start_time": "2022-01-30T22:03:52.361Z"
   },
   {
    "duration": 30,
    "start_time": "2022-01-30T22:03:53.339Z"
   },
   {
    "duration": 31,
    "start_time": "2022-01-30T22:03:55.260Z"
   },
   {
    "duration": 31,
    "start_time": "2022-01-30T22:03:58.649Z"
   },
   {
    "duration": 31,
    "start_time": "2022-01-30T22:04:01.549Z"
   },
   {
    "duration": 4840,
    "start_time": "2022-01-30T22:05:51.481Z"
   },
   {
    "duration": 32,
    "start_time": "2022-01-30T22:06:11.430Z"
   },
   {
    "duration": 28,
    "start_time": "2022-01-30T22:06:47.360Z"
   },
   {
    "duration": 101,
    "start_time": "2022-01-30T22:06:50.700Z"
   },
   {
    "duration": 6982,
    "start_time": "2022-01-30T22:07:02.644Z"
   },
   {
    "duration": 5020,
    "start_time": "2022-01-30T22:16:43.512Z"
   },
   {
    "duration": 32,
    "start_time": "2022-01-30T22:17:10.570Z"
   },
   {
    "duration": 292,
    "start_time": "2022-01-30T22:19:33.568Z"
   },
   {
    "duration": 2006,
    "start_time": "2022-01-30T22:32:57.323Z"
   },
   {
    "duration": 78,
    "start_time": "2022-01-30T22:33:24.462Z"
   },
   {
    "duration": 6,
    "start_time": "2022-01-30T22:33:24.543Z"
   },
   {
    "duration": 27,
    "start_time": "2022-01-30T22:33:24.811Z"
   },
   {
    "duration": 10,
    "start_time": "2022-01-30T22:33:24.881Z"
   },
   {
    "duration": 5,
    "start_time": "2022-01-30T22:33:25.162Z"
   },
   {
    "duration": 17,
    "start_time": "2022-01-30T22:33:25.241Z"
   },
   {
    "duration": 13,
    "start_time": "2022-01-30T22:33:25.912Z"
   },
   {
    "duration": 59,
    "start_time": "2022-01-30T22:33:26.228Z"
   },
   {
    "duration": 8,
    "start_time": "2022-01-30T22:33:26.568Z"
   },
   {
    "duration": 76,
    "start_time": "2022-01-30T22:33:26.620Z"
   },
   {
    "duration": 13,
    "start_time": "2022-01-30T22:33:26.924Z"
   },
   {
    "duration": 8,
    "start_time": "2022-01-30T22:33:27.291Z"
   },
   {
    "duration": 21,
    "start_time": "2022-01-30T22:33:27.342Z"
   },
   {
    "duration": 22,
    "start_time": "2022-01-30T22:33:27.691Z"
   },
   {
    "duration": 7,
    "start_time": "2022-01-30T22:33:28.042Z"
   },
   {
    "duration": 20,
    "start_time": "2022-01-30T22:33:28.362Z"
   },
   {
    "duration": 7,
    "start_time": "2022-01-30T22:33:28.770Z"
   },
   {
    "duration": 10,
    "start_time": "2022-01-30T22:33:28.785Z"
   },
   {
    "duration": 9,
    "start_time": "2022-01-30T22:33:29.153Z"
   },
   {
    "duration": 12,
    "start_time": "2022-01-30T22:33:29.482Z"
   },
   {
    "duration": 58,
    "start_time": "2022-01-30T22:33:29.546Z"
   },
   {
    "duration": 18,
    "start_time": "2022-01-30T22:33:31.672Z"
   },
   {
    "duration": 13,
    "start_time": "2022-01-30T22:33:31.964Z"
   },
   {
    "duration": 87,
    "start_time": "2022-01-30T22:33:32.049Z"
   },
   {
    "duration": 27,
    "start_time": "2022-01-30T22:33:32.434Z"
   },
   {
    "duration": 21,
    "start_time": "2022-01-30T22:33:33.691Z"
   },
   {
    "duration": 22,
    "start_time": "2022-01-30T22:33:35.488Z"
   },
   {
    "duration": 87,
    "start_time": "2022-01-30T22:33:37.086Z"
   },
   {
    "duration": 933,
    "start_time": "2022-01-30T22:33:39.757Z"
   },
   {
    "duration": 1971,
    "start_time": "2022-01-30T22:33:54.438Z"
   },
   {
    "duration": 2171,
    "start_time": "2022-01-30T22:34:27.061Z"
   },
   {
    "duration": 5865,
    "start_time": "2022-01-30T22:35:02.954Z"
   },
   {
    "duration": 7334,
    "start_time": "2022-01-30T22:36:31.647Z"
   },
   {
    "duration": 10474,
    "start_time": "2022-01-30T22:36:56.373Z"
   },
   {
    "duration": 48,
    "start_time": "2022-01-30T22:37:16.296Z"
   },
   {
    "duration": 98,
    "start_time": "2022-01-30T22:53:41.825Z"
   },
   {
    "duration": 6,
    "start_time": "2022-01-30T22:53:41.927Z"
   },
   {
    "duration": 39,
    "start_time": "2022-01-30T22:53:42.228Z"
   },
   {
    "duration": 7,
    "start_time": "2022-01-30T22:53:42.295Z"
   },
   {
    "duration": 7,
    "start_time": "2022-01-30T22:53:42.566Z"
   },
   {
    "duration": 15,
    "start_time": "2022-01-30T22:53:42.623Z"
   },
   {
    "duration": 12,
    "start_time": "2022-01-30T22:53:43.363Z"
   },
   {
    "duration": 34,
    "start_time": "2022-01-30T22:53:43.676Z"
   },
   {
    "duration": 6,
    "start_time": "2022-01-30T22:53:44.056Z"
   },
   {
    "duration": 6,
    "start_time": "2022-01-30T22:53:44.105Z"
   },
   {
    "duration": 12,
    "start_time": "2022-01-30T22:53:44.435Z"
   },
   {
    "duration": 6,
    "start_time": "2022-01-30T22:53:44.807Z"
   },
   {
    "duration": 21,
    "start_time": "2022-01-30T22:53:44.867Z"
   },
   {
    "duration": 24,
    "start_time": "2022-01-30T22:53:45.246Z"
   },
   {
    "duration": 7,
    "start_time": "2022-01-30T22:53:45.635Z"
   },
   {
    "duration": 18,
    "start_time": "2022-01-30T22:53:45.967Z"
   },
   {
    "duration": 7,
    "start_time": "2022-01-30T22:53:46.606Z"
   },
   {
    "duration": 12,
    "start_time": "2022-01-30T22:53:46.926Z"
   },
   {
    "duration": 9,
    "start_time": "2022-01-30T22:53:47.305Z"
   },
   {
    "duration": 12,
    "start_time": "2022-01-30T22:53:47.365Z"
   },
   {
    "duration": 61,
    "start_time": "2022-01-30T22:53:47.685Z"
   },
   {
    "duration": 16,
    "start_time": "2022-01-30T22:53:48.076Z"
   },
   {
    "duration": 13,
    "start_time": "2022-01-30T22:53:48.776Z"
   },
   {
    "duration": 76,
    "start_time": "2022-01-30T22:53:48.832Z"
   },
   {
    "duration": 22,
    "start_time": "2022-01-30T22:53:49.675Z"
   },
   {
    "duration": 29,
    "start_time": "2022-01-30T22:53:50.737Z"
   },
   {
    "duration": 26,
    "start_time": "2022-01-30T22:53:52.354Z"
   },
   {
    "duration": 67,
    "start_time": "2022-01-30T22:53:53.315Z"
   },
   {
    "duration": 1206,
    "start_time": "2022-01-30T22:53:53.845Z"
   },
   {
    "duration": 5848,
    "start_time": "2022-01-30T22:53:55.055Z"
   },
   {
    "duration": 42,
    "start_time": "2022-01-30T22:54:00.906Z"
   },
   {
    "duration": 70,
    "start_time": "2022-01-30T22:54:00.951Z"
   },
   {
    "duration": 54,
    "start_time": "2022-01-30T22:54:01.024Z"
   },
   {
    "duration": 47,
    "start_time": "2022-01-30T22:54:01.080Z"
   },
   {
    "duration": 22,
    "start_time": "2022-01-30T22:54:01.130Z"
   },
   {
    "duration": 58,
    "start_time": "2022-01-30T22:54:01.154Z"
   },
   {
    "duration": 29,
    "start_time": "2022-01-30T22:54:01.985Z"
   },
   {
    "duration": 34,
    "start_time": "2022-01-30T22:54:07.787Z"
   },
   {
    "duration": 30,
    "start_time": "2022-01-30T22:54:09.680Z"
   },
   {
    "duration": 30,
    "start_time": "2022-01-30T22:54:14.816Z"
   },
   {
    "duration": 6665,
    "start_time": "2022-01-30T22:58:09.752Z"
   },
   {
    "duration": 30,
    "start_time": "2022-01-30T22:58:29.146Z"
   },
   {
    "duration": 96,
    "start_time": "2022-02-09T10:43:36.365Z"
   },
   {
    "duration": 102,
    "start_time": "2022-02-09T10:46:32.449Z"
   },
   {
    "duration": 400,
    "start_time": "2022-02-09T10:49:46.497Z"
   },
   {
    "duration": 733,
    "start_time": "2022-02-09T10:49:50.811Z"
   },
   {
    "duration": 13,
    "start_time": "2022-02-09T10:49:51.546Z"
   },
   {
    "duration": 30,
    "start_time": "2022-02-09T10:49:51.563Z"
   },
   {
    "duration": 6,
    "start_time": "2022-02-09T10:49:51.596Z"
   },
   {
    "duration": 6,
    "start_time": "2022-02-09T10:49:51.604Z"
   },
   {
    "duration": 21,
    "start_time": "2022-02-09T10:49:51.612Z"
   },
   {
    "duration": 13,
    "start_time": "2022-02-09T10:49:51.635Z"
   },
   {
    "duration": 34,
    "start_time": "2022-02-09T10:49:51.651Z"
   },
   {
    "duration": 6,
    "start_time": "2022-02-09T10:49:51.688Z"
   },
   {
    "duration": 7,
    "start_time": "2022-02-09T10:49:51.697Z"
   },
   {
    "duration": 19,
    "start_time": "2022-02-09T10:49:51.706Z"
   },
   {
    "duration": 6,
    "start_time": "2022-02-09T10:49:51.728Z"
   },
   {
    "duration": 24,
    "start_time": "2022-02-09T10:49:51.736Z"
   },
   {
    "duration": 24,
    "start_time": "2022-02-09T10:49:51.762Z"
   },
   {
    "duration": 16,
    "start_time": "2022-02-09T10:49:51.788Z"
   },
   {
    "duration": 27,
    "start_time": "2022-02-09T10:49:51.807Z"
   },
   {
    "duration": 19,
    "start_time": "2022-02-09T10:49:51.836Z"
   },
   {
    "duration": 14,
    "start_time": "2022-02-09T10:49:51.857Z"
   },
   {
    "duration": 16,
    "start_time": "2022-02-09T10:49:51.873Z"
   },
   {
    "duration": 13,
    "start_time": "2022-02-09T10:49:51.891Z"
   },
   {
    "duration": 89,
    "start_time": "2022-02-09T10:49:52.301Z"
   },
   {
    "duration": 66,
    "start_time": "2022-02-09T10:49:52.394Z"
   },
   {
    "duration": 16,
    "start_time": "2022-02-09T10:49:52.464Z"
   },
   {
    "duration": 183,
    "start_time": "2022-02-09T10:49:52.484Z"
   },
   {
    "duration": 24,
    "start_time": "2022-02-09T10:49:52.670Z"
   },
   {
    "duration": 28,
    "start_time": "2022-02-09T10:49:52.697Z"
   },
   {
    "duration": 27,
    "start_time": "2022-02-09T10:49:52.760Z"
   },
   {
    "duration": 88,
    "start_time": "2022-02-09T10:49:52.791Z"
   },
   {
    "duration": 926,
    "start_time": "2022-02-09T10:49:52.882Z"
   },
   {
    "duration": 4873,
    "start_time": "2022-02-09T10:49:53.811Z"
   },
   {
    "duration": 51,
    "start_time": "2022-02-09T10:49:58.686Z"
   },
   {
    "duration": 18,
    "start_time": "2022-02-09T10:49:58.759Z"
   },
   {
    "duration": 20,
    "start_time": "2022-02-09T10:49:58.780Z"
   },
   {
    "duration": 59,
    "start_time": "2022-02-09T10:49:58.803Z"
   },
   {
    "duration": 26,
    "start_time": "2022-02-09T10:49:58.865Z"
   },
   {
    "duration": 17,
    "start_time": "2022-02-09T10:49:58.893Z"
   },
   {
    "duration": 77,
    "start_time": "2022-02-09T10:49:58.913Z"
   },
   {
    "duration": 24,
    "start_time": "2022-02-09T10:49:58.992Z"
   },
   {
    "duration": 48,
    "start_time": "2022-02-09T10:49:59.019Z"
   },
   {
    "duration": 26,
    "start_time": "2022-02-09T10:49:59.070Z"
   },
   {
    "duration": 28,
    "start_time": "2022-02-09T10:49:59.099Z"
   },
   {
    "duration": 56,
    "start_time": "2022-02-09T10:49:59.129Z"
   },
   {
    "duration": 41,
    "start_time": "2022-02-09T10:50:13.300Z"
   },
   {
    "duration": 69102,
    "start_time": "2022-02-09T10:54:25.361Z"
   },
   {
    "duration": 808,
    "start_time": "2022-02-12T00:29:26.786Z"
   },
   {
    "duration": 105,
    "start_time": "2022-02-12T00:30:08.596Z"
   },
   {
    "duration": 48,
    "start_time": "2022-02-12T00:33:10.698Z"
   },
   {
    "duration": 103,
    "start_time": "2022-02-12T00:43:41.345Z"
   },
   {
    "duration": 36,
    "start_time": "2022-02-12T01:48:02.124Z"
   },
   {
    "duration": 107,
    "start_time": "2022-02-12T01:58:05.662Z"
   },
   {
    "duration": 93,
    "start_time": "2022-02-12T01:58:09.232Z"
   },
   {
    "duration": 72,
    "start_time": "2022-02-12T01:58:20.003Z"
   },
   {
    "duration": 6,
    "start_time": "2022-02-12T01:58:25.183Z"
   },
   {
    "duration": 6,
    "start_time": "2022-02-12T01:58:26.852Z"
   },
   {
    "duration": 5,
    "start_time": "2022-02-12T01:58:27.942Z"
   },
   {
    "duration": 14,
    "start_time": "2022-02-12T01:58:28.502Z"
   },
   {
    "duration": 47,
    "start_time": "2022-02-12T01:58:29.062Z"
   },
   {
    "duration": 13,
    "start_time": "2022-02-12T01:58:34.123Z"
   },
   {
    "duration": 36,
    "start_time": "2022-02-12T01:58:34.712Z"
   },
   {
    "duration": 7,
    "start_time": "2022-02-12T01:58:35.912Z"
   },
   {
    "duration": 6,
    "start_time": "2022-02-12T01:58:36.483Z"
   },
   {
    "duration": 96,
    "start_time": "2022-02-12T01:58:39.382Z"
   },
   {
    "duration": 94,
    "start_time": "2022-02-12T01:59:20.222Z"
   },
   {
    "duration": 49,
    "start_time": "2022-02-12T02:00:27.762Z"
   },
   {
    "duration": 10,
    "start_time": "2022-02-12T02:04:33.926Z"
   },
   {
    "duration": -2775,
    "start_time": "2022-02-12T02:06:24.784Z"
   },
   {
    "duration": 5406,
    "start_time": "2022-02-12T02:07:09.557Z"
   },
   {
    "duration": 10,
    "start_time": "2022-02-12T02:07:32.526Z"
   },
   {
    "duration": 391,
    "start_time": "2022-02-14T04:16:54.347Z"
   },
   {
    "duration": 870,
    "start_time": "2022-02-14T04:17:04.016Z"
   },
   {
    "duration": 7,
    "start_time": "2022-02-14T04:17:05.717Z"
   },
   {
    "duration": 7,
    "start_time": "2022-02-14T04:17:06.983Z"
   },
   {
    "duration": 5,
    "start_time": "2022-02-14T04:17:07.497Z"
   },
   {
    "duration": 15,
    "start_time": "2022-02-14T04:17:08.101Z"
   },
   {
    "duration": 47,
    "start_time": "2022-02-14T04:17:08.683Z"
   },
   {
    "duration": 14,
    "start_time": "2022-02-14T04:17:12.727Z"
   },
   {
    "duration": 36,
    "start_time": "2022-02-14T04:17:13.707Z"
   },
   {
    "duration": 7,
    "start_time": "2022-02-14T04:17:15.313Z"
   },
   {
    "duration": 6,
    "start_time": "2022-02-14T04:17:16.282Z"
   },
   {
    "duration": 10,
    "start_time": "2022-02-14T04:17:21.384Z"
   },
   {
    "duration": 11,
    "start_time": "2022-02-14T04:18:16.766Z"
   },
   {
    "duration": 9,
    "start_time": "2022-02-14T04:18:20.688Z"
   },
   {
    "duration": 12,
    "start_time": "2022-02-14T04:18:26.867Z"
   },
   {
    "duration": 9,
    "start_time": "2022-02-14T04:18:39.782Z"
   },
   {
    "duration": 9,
    "start_time": "2022-02-14T04:18:48.687Z"
   },
   {
    "duration": 8,
    "start_time": "2022-02-14T04:18:59.657Z"
   },
   {
    "duration": 85,
    "start_time": "2022-02-14T04:19:10.354Z"
   },
   {
    "duration": 6,
    "start_time": "2022-02-14T04:19:11.062Z"
   },
   {
    "duration": 8,
    "start_time": "2022-02-14T04:19:11.462Z"
   },
   {
    "duration": 6,
    "start_time": "2022-02-14T04:19:11.535Z"
   },
   {
    "duration": 26,
    "start_time": "2022-02-14T04:19:11.865Z"
   },
   {
    "duration": 46,
    "start_time": "2022-02-14T04:19:11.915Z"
   },
   {
    "duration": 13,
    "start_time": "2022-02-14T04:19:13.787Z"
   },
   {
    "duration": 33,
    "start_time": "2022-02-14T04:19:14.117Z"
   },
   {
    "duration": 6,
    "start_time": "2022-02-14T04:19:15.556Z"
   },
   {
    "duration": 7,
    "start_time": "2022-02-14T04:19:16.287Z"
   },
   {
    "duration": 8,
    "start_time": "2022-02-14T04:19:18.483Z"
   },
   {
    "duration": 8,
    "start_time": "2022-02-14T04:20:14.427Z"
   },
   {
    "duration": 91,
    "start_time": "2022-02-14T04:20:34.431Z"
   },
   {
    "duration": 6,
    "start_time": "2022-02-14T04:20:36.037Z"
   },
   {
    "duration": 7,
    "start_time": "2022-02-14T04:20:36.398Z"
   },
   {
    "duration": 5,
    "start_time": "2022-02-14T04:20:36.686Z"
   },
   {
    "duration": 17,
    "start_time": "2022-02-14T04:20:36.752Z"
   },
   {
    "duration": 57,
    "start_time": "2022-02-14T04:20:37.065Z"
   },
   {
    "duration": 16,
    "start_time": "2022-02-14T04:20:38.417Z"
   },
   {
    "duration": 45,
    "start_time": "2022-02-14T04:20:38.756Z"
   },
   {
    "duration": 7,
    "start_time": "2022-02-14T04:20:39.690Z"
   },
   {
    "duration": 6,
    "start_time": "2022-02-14T04:20:40.187Z"
   },
   {
    "duration": 8,
    "start_time": "2022-02-14T04:20:42.395Z"
   },
   {
    "duration": 7,
    "start_time": "2022-02-14T04:20:58.907Z"
   },
   {
    "duration": 8,
    "start_time": "2022-02-14T04:21:01.397Z"
   },
   {
    "duration": 77,
    "start_time": "2022-02-14T04:21:14.396Z"
   },
   {
    "duration": 5,
    "start_time": "2022-02-14T04:21:14.857Z"
   },
   {
    "duration": 7,
    "start_time": "2022-02-14T04:21:15.227Z"
   },
   {
    "duration": 5,
    "start_time": "2022-02-14T04:21:15.547Z"
   },
   {
    "duration": 16,
    "start_time": "2022-02-14T04:21:15.593Z"
   },
   {
    "duration": 47,
    "start_time": "2022-02-14T04:21:16.183Z"
   },
   {
    "duration": 13,
    "start_time": "2022-02-14T04:21:17.217Z"
   },
   {
    "duration": 34,
    "start_time": "2022-02-14T04:21:17.687Z"
   },
   {
    "duration": 6,
    "start_time": "2022-02-14T04:21:18.117Z"
   },
   {
    "duration": 7,
    "start_time": "2022-02-14T04:21:18.497Z"
   },
   {
    "duration": 8,
    "start_time": "2022-02-14T04:21:20.857Z"
   },
   {
    "duration": 6324,
    "start_time": "2022-02-14T04:37:09.726Z"
   },
   {
    "duration": 72,
    "start_time": "2022-02-14T04:37:27.105Z"
   },
   {
    "duration": 6,
    "start_time": "2022-02-14T04:37:27.512Z"
   },
   {
    "duration": 7,
    "start_time": "2022-02-14T04:37:27.853Z"
   },
   {
    "duration": 5,
    "start_time": "2022-02-14T04:37:28.178Z"
   },
   {
    "duration": 16,
    "start_time": "2022-02-14T04:37:28.237Z"
   },
   {
    "duration": 48,
    "start_time": "2022-02-14T04:37:28.517Z"
   },
   {
    "duration": 13,
    "start_time": "2022-02-14T04:37:29.657Z"
   },
   {
    "duration": 33,
    "start_time": "2022-02-14T04:37:29.702Z"
   },
   {
    "duration": 6,
    "start_time": "2022-02-14T04:37:30.101Z"
   },
   {
    "duration": 7,
    "start_time": "2022-02-14T04:37:31.117Z"
   },
   {
    "duration": 8,
    "start_time": "2022-02-14T04:37:32.954Z"
   },
   {
    "duration": 7,
    "start_time": "2022-02-14T04:37:34.587Z"
   },
   {
    "duration": 23,
    "start_time": "2022-02-14T04:37:34.647Z"
   },
   {
    "duration": 24,
    "start_time": "2022-02-14T04:37:35.285Z"
   },
   {
    "duration": 7,
    "start_time": "2022-02-14T04:37:35.967Z"
   },
   {
    "duration": 19,
    "start_time": "2022-02-14T04:37:36.341Z"
   },
   {
    "duration": 6031,
    "start_time": "2022-02-14T04:37:36.781Z"
   },
   {
    "duration": -324,
    "start_time": "2022-02-14T04:37:43.139Z"
   },
   {
    "duration": -330,
    "start_time": "2022-02-14T04:37:43.147Z"
   },
   {
    "duration": -336,
    "start_time": "2022-02-14T04:37:43.154Z"
   },
   {
    "duration": -338,
    "start_time": "2022-02-14T04:37:43.158Z"
   },
   {
    "duration": -342,
    "start_time": "2022-02-14T04:37:43.163Z"
   },
   {
    "duration": 136,
    "start_time": "2022-02-14T05:31:42.755Z"
   },
   {
    "duration": 4,
    "start_time": "2022-02-14T05:31:48.184Z"
   },
   {
    "duration": 4,
    "start_time": "2022-02-14T05:31:52.435Z"
   },
   {
    "duration": 6029,
    "start_time": "2022-02-14T05:32:35.344Z"
   },
   {
    "duration": 85,
    "start_time": "2022-02-14T05:32:55.931Z"
   },
   {
    "duration": 223,
    "start_time": "2022-02-14T21:46:56.228Z"
   },
   {
    "duration": 599,
    "start_time": "2022-02-14T21:47:10.919Z"
   },
   {
    "duration": 14,
    "start_time": "2022-02-14T21:47:35.739Z"
   },
   {
    "duration": 13,
    "start_time": "2022-02-14T21:47:39.148Z"
   },
   {
    "duration": 27,
    "start_time": "2022-02-14T21:47:54.948Z"
   },
   {
    "duration": 23,
    "start_time": "2022-02-14T21:49:58.178Z"
   },
   {
    "duration": 9,
    "start_time": "2022-02-14T21:52:37.848Z"
   },
   {
    "duration": 395,
    "start_time": "2022-02-14T22:02:16.349Z"
   },
   {
    "duration": 8,
    "start_time": "2022-02-14T22:02:27.777Z"
   },
   {
    "duration": 242,
    "start_time": "2022-02-14T22:02:48.937Z"
   },
   {
    "duration": 7,
    "start_time": "2022-02-14T22:02:54.808Z"
   },
   {
    "duration": 66,
    "start_time": "2022-02-14T22:04:55.802Z"
   },
   {
    "duration": 55,
    "start_time": "2022-02-14T22:05:33.064Z"
   },
   {
    "duration": 3460,
    "start_time": "2022-02-14T22:10:05.273Z"
   },
   {
    "duration": 25,
    "start_time": "2022-02-14T22:10:21.290Z"
   },
   {
    "duration": 68,
    "start_time": "2022-02-14T22:12:03.520Z"
   },
   {
    "duration": 64,
    "start_time": "2022-02-14T22:14:40.537Z"
   },
   {
    "duration": 20,
    "start_time": "2022-02-14T22:15:52.152Z"
   },
   {
    "duration": 3,
    "start_time": "2022-02-14T22:39:07.676Z"
   },
   {
    "duration": 3,
    "start_time": "2022-02-14T22:40:28.687Z"
   },
   {
    "duration": 3,
    "start_time": "2022-02-14T22:41:07.057Z"
   },
   {
    "duration": 3,
    "start_time": "2022-02-14T22:41:10.407Z"
   },
   {
    "duration": 76,
    "start_time": "2022-02-14T22:55:40.272Z"
   },
   {
    "duration": 3,
    "start_time": "2022-02-14T22:55:43.903Z"
   },
   {
    "duration": 5,
    "start_time": "2022-02-14T22:55:48.602Z"
   },
   {
    "duration": 3,
    "start_time": "2022-02-14T22:55:49.252Z"
   },
   {
    "duration": 10,
    "start_time": "2022-02-14T22:55:50.302Z"
   },
   {
    "duration": 31,
    "start_time": "2022-02-14T22:55:51.343Z"
   },
   {
    "duration": 11,
    "start_time": "2022-02-14T22:56:04.772Z"
   },
   {
    "duration": 21,
    "start_time": "2022-02-14T22:56:05.742Z"
   },
   {
    "duration": 4,
    "start_time": "2022-02-14T22:56:07.912Z"
   },
   {
    "duration": 4,
    "start_time": "2022-02-14T22:56:09.524Z"
   },
   {
    "duration": 6,
    "start_time": "2022-02-14T22:56:49.127Z"
   },
   {
    "duration": 4,
    "start_time": "2022-02-14T22:56:51.802Z"
   },
   {
    "duration": 14,
    "start_time": "2022-02-14T22:56:52.904Z"
   },
   {
    "duration": 16,
    "start_time": "2022-02-14T22:56:54.494Z"
   },
   {
    "duration": 5,
    "start_time": "2022-02-14T22:56:56.013Z"
   },
   {
    "duration": 13,
    "start_time": "2022-02-14T22:56:56.533Z"
   },
   {
    "duration": 5,
    "start_time": "2022-02-14T22:57:37.832Z"
   },
   {
    "duration": 175,
    "start_time": "2022-02-14T22:58:52.483Z"
   },
   {
    "duration": 5,
    "start_time": "2022-02-14T22:59:16.822Z"
   },
   {
    "duration": 7,
    "start_time": "2022-02-14T22:59:17.472Z"
   },
   {
    "duration": 7,
    "start_time": "2022-02-14T22:59:18.113Z"
   },
   {
    "duration": 8,
    "start_time": "2022-02-14T22:59:18.452Z"
   },
   {
    "duration": 37,
    "start_time": "2022-02-14T22:59:18.513Z"
   },
   {
    "duration": 29,
    "start_time": "2022-02-14T22:59:18.892Z"
   },
   {
    "duration": 8,
    "start_time": "2022-02-14T22:59:21.641Z"
   },
   {
    "duration": 70,
    "start_time": "2022-02-14T23:02:48.175Z"
   },
   {
    "duration": 6,
    "start_time": "2022-02-14T23:02:48.804Z"
   },
   {
    "duration": 8,
    "start_time": "2022-02-14T23:02:49.167Z"
   },
   {
    "duration": 37,
    "start_time": "2022-02-14T23:02:57.646Z"
   },
   {
    "duration": 15,
    "start_time": "2022-02-14T23:02:58.534Z"
   },
   {
    "duration": 13,
    "start_time": "2022-02-14T23:03:00.915Z"
   },
   {
    "duration": 18,
    "start_time": "2022-02-14T23:03:02.987Z"
   },
   {
    "duration": 36,
    "start_time": "2022-02-14T23:03:04.323Z"
   },
   {
    "duration": 651,
    "start_time": "2022-02-14T23:03:06.603Z"
   },
   {
    "duration": 3020,
    "start_time": "2022-02-14T23:03:07.729Z"
   },
   {
    "duration": 27,
    "start_time": "2022-02-14T23:03:10.752Z"
   },
   {
    "duration": 15,
    "start_time": "2022-02-14T23:03:15.108Z"
   },
   {
    "duration": 14,
    "start_time": "2022-02-14T23:03:15.716Z"
   },
   {
    "duration": 17,
    "start_time": "2022-02-14T23:03:16.216Z"
   },
   {
    "duration": 18,
    "start_time": "2022-02-14T23:03:16.726Z"
   },
   {
    "duration": 13,
    "start_time": "2022-02-14T23:03:17.336Z"
   },
   {
    "duration": 30,
    "start_time": "2022-02-14T23:03:19.926Z"
   },
   {
    "duration": 614,
    "start_time": "2022-02-14T23:03:21.235Z"
   },
   {
    "duration": 22,
    "start_time": "2022-02-14T23:03:21.875Z"
   },
   {
    "duration": 20,
    "start_time": "2022-02-14T23:03:26.896Z"
   },
   {
    "duration": 19,
    "start_time": "2022-02-14T23:03:29.105Z"
   },
   {
    "duration": 18,
    "start_time": "2022-02-14T23:03:31.405Z"
   },
   {
    "duration": 18,
    "start_time": "2022-02-14T23:03:33.506Z"
   },
   {
    "duration": 4441,
    "start_time": "2022-02-14T23:18:52.978Z"
   },
   {
    "duration": 4549,
    "start_time": "2022-02-14T23:19:35.418Z"
   },
   {
    "duration": 73,
    "start_time": "2022-02-14T23:19:54.669Z"
   },
   {
    "duration": 5,
    "start_time": "2022-02-14T23:24:26.963Z"
   },
   {
    "duration": 20,
    "start_time": "2022-02-14T23:25:32.423Z"
   },
   {
    "duration": 28,
    "start_time": "2022-02-14T23:26:06.034Z"
   },
   {
    "duration": 5,
    "start_time": "2022-02-14T23:28:05.883Z"
   },
   {
    "duration": 11,
    "start_time": "2022-02-14T23:28:09.874Z"
   },
   {
    "duration": 10,
    "start_time": "2022-02-14T23:28:29.084Z"
   },
   {
    "duration": 6,
    "start_time": "2022-02-14T23:28:31.404Z"
   },
   {
    "duration": 10,
    "start_time": "2022-02-14T23:28:34.151Z"
   },
   {
    "duration": 5,
    "start_time": "2022-02-14T23:28:55.294Z"
   },
   {
    "duration": 6,
    "start_time": "2022-02-14T23:29:00.732Z"
   },
   {
    "duration": 10,
    "start_time": "2022-02-14T23:29:05.823Z"
   },
   {
    "duration": 9,
    "start_time": "2022-02-14T23:29:11.855Z"
   },
   {
    "duration": 10,
    "start_time": "2022-02-14T23:29:15.692Z"
   },
   {
    "duration": 5,
    "start_time": "2022-02-14T23:29:48.413Z"
   },
   {
    "duration": 73,
    "start_time": "2022-02-14T23:29:53.843Z"
   },
   {
    "duration": 37,
    "start_time": "2022-02-14T23:30:48.493Z"
   },
   {
    "duration": 35,
    "start_time": "2022-02-14T23:31:07.823Z"
   },
   {
    "duration": 27,
    "start_time": "2022-02-14T23:31:20.485Z"
   },
   {
    "duration": 27,
    "start_time": "2022-02-14T23:32:50.243Z"
   },
   {
    "duration": 27,
    "start_time": "2022-02-14T23:34:05.883Z"
   },
   {
    "duration": 5,
    "start_time": "2022-02-14T23:34:59.681Z"
   },
   {
    "duration": 56,
    "start_time": "2022-02-14T23:49:15.983Z"
   },
   {
    "duration": 445,
    "start_time": "2022-02-14T23:49:25.365Z"
   },
   {
    "duration": 1291,
    "start_time": "2022-02-14T23:50:04.803Z"
   },
   {
    "duration": 67,
    "start_time": "2022-02-14T23:51:05.963Z"
   },
   {
    "duration": 76,
    "start_time": "2022-02-14T23:51:28.811Z"
   },
   {
    "duration": 60,
    "start_time": "2022-02-14T23:51:45.243Z"
   },
   {
    "duration": 71,
    "start_time": "2022-02-14T23:51:57.017Z"
   },
   {
    "duration": 65,
    "start_time": "2022-02-14T23:52:12.572Z"
   },
   {
    "duration": 61,
    "start_time": "2022-02-14T23:52:18.143Z"
   },
   {
    "duration": 180,
    "start_time": "2022-02-14T23:53:33.403Z"
   },
   {
    "duration": 76,
    "start_time": "2022-02-14T23:56:25.938Z"
   },
   {
    "duration": 215,
    "start_time": "2022-02-15T00:02:22.772Z"
   },
   {
    "duration": 28,
    "start_time": "2022-02-15T00:05:23.242Z"
   },
   {
    "duration": 30,
    "start_time": "2022-02-15T00:06:56.772Z"
   },
   {
    "duration": 29,
    "start_time": "2022-02-15T00:08:19.328Z"
   },
   {
    "duration": 30,
    "start_time": "2022-02-15T00:09:24.256Z"
   },
   {
    "duration": 29,
    "start_time": "2022-02-15T00:10:01.426Z"
   },
   {
    "duration": 30,
    "start_time": "2022-02-15T00:14:30.395Z"
   },
   {
    "duration": 31,
    "start_time": "2022-02-15T00:14:59.596Z"
   },
   {
    "duration": 35,
    "start_time": "2022-02-15T00:16:35.952Z"
   },
   {
    "duration": 36,
    "start_time": "2022-02-15T00:16:51.798Z"
   },
   {
    "duration": 38,
    "start_time": "2022-02-15T00:17:29.872Z"
   },
   {
    "duration": 29,
    "start_time": "2022-02-15T00:18:21.083Z"
   },
   {
    "duration": 30,
    "start_time": "2022-02-15T00:18:46.856Z"
   },
   {
    "duration": 29,
    "start_time": "2022-02-15T00:25:18.905Z"
   },
   {
    "duration": 62,
    "start_time": "2022-02-15T00:26:22.277Z"
   },
   {
    "duration": 233,
    "start_time": "2022-02-15T00:27:14.019Z"
   },
   {
    "duration": 214,
    "start_time": "2022-02-15T00:27:47.396Z"
   },
   {
    "duration": 12,
    "start_time": "2022-02-15T00:28:02.709Z"
   },
   {
    "duration": 10,
    "start_time": "2022-02-15T00:29:03.260Z"
   },
   {
    "duration": 12,
    "start_time": "2022-02-15T00:29:27.100Z"
   },
   {
    "duration": 29,
    "start_time": "2022-02-15T00:30:03.208Z"
   },
   {
    "duration": 28,
    "start_time": "2022-02-15T00:31:35.297Z"
   },
   {
    "duration": 291,
    "start_time": "2022-02-15T06:57:53.988Z"
   },
   {
    "duration": 663,
    "start_time": "2022-02-15T06:57:57.267Z"
   },
   {
    "duration": 4,
    "start_time": "2022-02-15T06:57:57.932Z"
   },
   {
    "duration": 5,
    "start_time": "2022-02-15T06:57:57.939Z"
   },
   {
    "duration": 4,
    "start_time": "2022-02-15T06:57:57.945Z"
   },
   {
    "duration": 23,
    "start_time": "2022-02-15T06:57:57.951Z"
   },
   {
    "duration": 27,
    "start_time": "2022-02-15T06:57:57.976Z"
   },
   {
    "duration": 10,
    "start_time": "2022-02-15T06:57:58.004Z"
   },
   {
    "duration": 19,
    "start_time": "2022-02-15T06:57:58.016Z"
   },
   {
    "duration": 4,
    "start_time": "2022-02-15T06:57:58.037Z"
   },
   {
    "duration": 33,
    "start_time": "2022-02-15T06:57:58.042Z"
   },
   {
    "duration": 6,
    "start_time": "2022-02-15T06:57:58.077Z"
   },
   {
    "duration": 4,
    "start_time": "2022-02-15T06:57:58.085Z"
   },
   {
    "duration": 14,
    "start_time": "2022-02-15T06:57:58.091Z"
   },
   {
    "duration": 18,
    "start_time": "2022-02-15T06:57:58.107Z"
   },
   {
    "duration": 4,
    "start_time": "2022-02-15T06:57:58.127Z"
   },
   {
    "duration": 49,
    "start_time": "2022-02-15T06:57:58.133Z"
   },
   {
    "duration": 6,
    "start_time": "2022-02-15T06:57:58.184Z"
   },
   {
    "duration": 6032,
    "start_time": "2022-02-15T06:57:58.192Z"
   },
   {
    "duration": -6311,
    "start_time": "2022-02-15T06:58:10.537Z"
   },
   {
    "duration": -6314,
    "start_time": "2022-02-15T06:58:10.541Z"
   },
   {
    "duration": -6318,
    "start_time": "2022-02-15T06:58:10.546Z"
   },
   {
    "duration": -6323,
    "start_time": "2022-02-15T06:58:10.552Z"
   },
   {
    "duration": -6324,
    "start_time": "2022-02-15T06:58:10.554Z"
   },
   {
    "duration": -6326,
    "start_time": "2022-02-15T06:58:10.557Z"
   },
   {
    "duration": -6332,
    "start_time": "2022-02-15T06:58:10.564Z"
   },
   {
    "duration": -6333,
    "start_time": "2022-02-15T06:58:10.566Z"
   },
   {
    "duration": -6335,
    "start_time": "2022-02-15T06:58:10.569Z"
   },
   {
    "duration": -6336,
    "start_time": "2022-02-15T06:58:10.571Z"
   },
   {
    "duration": -6337,
    "start_time": "2022-02-15T06:58:10.573Z"
   },
   {
    "duration": -6338,
    "start_time": "2022-02-15T06:58:10.575Z"
   },
   {
    "duration": -6342,
    "start_time": "2022-02-15T06:58:10.580Z"
   },
   {
    "duration": -6344,
    "start_time": "2022-02-15T06:58:10.583Z"
   },
   {
    "duration": -6347,
    "start_time": "2022-02-15T06:58:10.586Z"
   },
   {
    "duration": -6348,
    "start_time": "2022-02-15T06:58:10.588Z"
   },
   {
    "duration": -6350,
    "start_time": "2022-02-15T06:58:10.591Z"
   },
   {
    "duration": -6351,
    "start_time": "2022-02-15T06:58:10.593Z"
   },
   {
    "duration": -6353,
    "start_time": "2022-02-15T06:58:10.596Z"
   },
   {
    "duration": -6357,
    "start_time": "2022-02-15T06:58:10.600Z"
   },
   {
    "duration": -6358,
    "start_time": "2022-02-15T06:58:10.602Z"
   },
   {
    "duration": -6360,
    "start_time": "2022-02-15T06:58:10.605Z"
   },
   {
    "duration": -6361,
    "start_time": "2022-02-15T06:58:10.607Z"
   },
   {
    "duration": -6362,
    "start_time": "2022-02-15T06:58:10.609Z"
   },
   {
    "duration": -6363,
    "start_time": "2022-02-15T06:58:10.611Z"
   },
   {
    "duration": -6365,
    "start_time": "2022-02-15T06:58:10.614Z"
   },
   {
    "duration": -6367,
    "start_time": "2022-02-15T06:58:10.616Z"
   },
   {
    "duration": -6369,
    "start_time": "2022-02-15T06:58:10.619Z"
   },
   {
    "duration": -6370,
    "start_time": "2022-02-15T06:58:10.621Z"
   },
   {
    "duration": -6371,
    "start_time": "2022-02-15T06:58:10.623Z"
   },
   {
    "duration": -6372,
    "start_time": "2022-02-15T06:58:10.625Z"
   },
   {
    "duration": 56,
    "start_time": "2022-02-15T06:58:37.594Z"
   },
   {
    "duration": 4,
    "start_time": "2022-02-15T06:58:37.652Z"
   },
   {
    "duration": 6,
    "start_time": "2022-02-15T06:58:37.658Z"
   },
   {
    "duration": 9,
    "start_time": "2022-02-15T06:58:37.666Z"
   },
   {
    "duration": 17,
    "start_time": "2022-02-15T06:58:37.677Z"
   },
   {
    "duration": 42,
    "start_time": "2022-02-15T06:58:37.696Z"
   },
   {
    "duration": 8,
    "start_time": "2022-02-15T06:58:37.740Z"
   },
   {
    "duration": 27,
    "start_time": "2022-02-15T06:58:37.750Z"
   },
   {
    "duration": 4,
    "start_time": "2022-02-15T06:58:37.779Z"
   },
   {
    "duration": 6,
    "start_time": "2022-02-15T06:58:37.785Z"
   },
   {
    "duration": 28,
    "start_time": "2022-02-15T06:58:37.793Z"
   },
   {
    "duration": 20,
    "start_time": "2022-02-15T06:58:37.822Z"
   },
   {
    "duration": 36,
    "start_time": "2022-02-15T06:58:37.843Z"
   },
   {
    "duration": 29,
    "start_time": "2022-02-15T06:58:37.880Z"
   },
   {
    "duration": 12,
    "start_time": "2022-02-15T06:58:37.911Z"
   },
   {
    "duration": 20,
    "start_time": "2022-02-15T06:58:37.924Z"
   },
   {
    "duration": 19,
    "start_time": "2022-02-15T06:58:37.945Z"
   },
   {
    "duration": 9,
    "start_time": "2022-02-15T06:58:37.965Z"
   },
   {
    "duration": 6095,
    "start_time": "2022-02-15T06:58:37.975Z"
   },
   {
    "duration": -6309,
    "start_time": "2022-02-15T06:58:50.382Z"
   },
   {
    "duration": -6310,
    "start_time": "2022-02-15T06:58:50.384Z"
   },
   {
    "duration": -6313,
    "start_time": "2022-02-15T06:58:50.387Z"
   },
   {
    "duration": -6314,
    "start_time": "2022-02-15T06:58:50.389Z"
   },
   {
    "duration": -6315,
    "start_time": "2022-02-15T06:58:50.391Z"
   },
   {
    "duration": -6316,
    "start_time": "2022-02-15T06:58:50.393Z"
   },
   {
    "duration": -6317,
    "start_time": "2022-02-15T06:58:50.395Z"
   },
   {
    "duration": -6324,
    "start_time": "2022-02-15T06:58:50.403Z"
   },
   {
    "duration": -6325,
    "start_time": "2022-02-15T06:58:50.405Z"
   },
   {
    "duration": -6326,
    "start_time": "2022-02-15T06:58:50.407Z"
   },
   {
    "duration": -6328,
    "start_time": "2022-02-15T06:58:50.410Z"
   },
   {
    "duration": -6329,
    "start_time": "2022-02-15T06:58:50.412Z"
   },
   {
    "duration": -6332,
    "start_time": "2022-02-15T06:58:50.416Z"
   },
   {
    "duration": -6333,
    "start_time": "2022-02-15T06:58:50.418Z"
   },
   {
    "duration": -6335,
    "start_time": "2022-02-15T06:58:50.421Z"
   },
   {
    "duration": -6336,
    "start_time": "2022-02-15T06:58:50.423Z"
   },
   {
    "duration": -6338,
    "start_time": "2022-02-15T06:58:50.426Z"
   },
   {
    "duration": -6340,
    "start_time": "2022-02-15T06:58:50.429Z"
   },
   {
    "duration": -6343,
    "start_time": "2022-02-15T06:58:50.433Z"
   },
   {
    "duration": -6345,
    "start_time": "2022-02-15T06:58:50.436Z"
   },
   {
    "duration": -6346,
    "start_time": "2022-02-15T06:58:50.438Z"
   },
   {
    "duration": -6347,
    "start_time": "2022-02-15T06:58:50.440Z"
   },
   {
    "duration": -6348,
    "start_time": "2022-02-15T06:58:50.442Z"
   },
   {
    "duration": -6350,
    "start_time": "2022-02-15T06:58:50.444Z"
   },
   {
    "duration": -6352,
    "start_time": "2022-02-15T06:58:50.447Z"
   },
   {
    "duration": -6355,
    "start_time": "2022-02-15T06:58:50.451Z"
   },
   {
    "duration": -6357,
    "start_time": "2022-02-15T06:58:50.454Z"
   },
   {
    "duration": -6358,
    "start_time": "2022-02-15T06:58:50.456Z"
   },
   {
    "duration": -6360,
    "start_time": "2022-02-15T06:58:50.459Z"
   },
   {
    "duration": -6361,
    "start_time": "2022-02-15T06:58:50.461Z"
   },
   {
    "duration": 54,
    "start_time": "2022-02-15T07:01:43.622Z"
   },
   {
    "duration": 3,
    "start_time": "2022-02-15T07:01:43.678Z"
   },
   {
    "duration": 6,
    "start_time": "2022-02-15T07:01:43.682Z"
   },
   {
    "duration": 5,
    "start_time": "2022-02-15T07:01:43.689Z"
   },
   {
    "duration": 10,
    "start_time": "2022-02-15T07:01:43.696Z"
   },
   {
    "duration": 26,
    "start_time": "2022-02-15T07:01:43.707Z"
   },
   {
    "duration": 8,
    "start_time": "2022-02-15T07:01:43.771Z"
   },
   {
    "duration": 18,
    "start_time": "2022-02-15T07:01:43.781Z"
   },
   {
    "duration": 4,
    "start_time": "2022-02-15T07:01:43.800Z"
   },
   {
    "duration": 5,
    "start_time": "2022-02-15T07:01:43.805Z"
   },
   {
    "duration": 5,
    "start_time": "2022-02-15T07:01:43.811Z"
   },
   {
    "duration": 9,
    "start_time": "2022-02-15T07:01:43.817Z"
   },
   {
    "duration": 45,
    "start_time": "2022-02-15T07:01:43.827Z"
   },
   {
    "duration": 15,
    "start_time": "2022-02-15T07:01:43.873Z"
   },
   {
    "duration": 5,
    "start_time": "2022-02-15T07:01:43.890Z"
   },
   {
    "duration": 19,
    "start_time": "2022-02-15T07:01:43.896Z"
   },
   {
    "duration": 5,
    "start_time": "2022-02-15T07:01:43.916Z"
   },
   {
    "duration": 8,
    "start_time": "2022-02-15T07:01:43.922Z"
   },
   {
    "duration": 13,
    "start_time": "2022-02-15T07:01:43.931Z"
   },
   {
    "duration": 9,
    "start_time": "2022-02-15T07:01:43.946Z"
   },
   {
    "duration": 18,
    "start_time": "2022-02-15T07:01:43.957Z"
   },
   {
    "duration": 6,
    "start_time": "2022-02-15T07:01:43.976Z"
   },
   {
    "duration": 7,
    "start_time": "2022-02-15T07:01:43.985Z"
   },
   {
    "duration": 41,
    "start_time": "2022-02-15T07:01:43.994Z"
   },
   {
    "duration": 41,
    "start_time": "2022-02-15T07:01:44.036Z"
   },
   {
    "duration": 11,
    "start_time": "2022-02-15T07:01:44.078Z"
   },
   {
    "duration": 8,
    "start_time": "2022-02-15T07:01:44.090Z"
   },
   {
    "duration": 5,
    "start_time": "2022-02-15T07:01:44.099Z"
   },
   {
    "duration": 8,
    "start_time": "2022-02-15T07:01:44.105Z"
   },
   {
    "duration": 59,
    "start_time": "2022-02-15T07:01:44.114Z"
   },
   {
    "duration": 14,
    "start_time": "2022-02-15T07:01:44.175Z"
   },
   {
    "duration": 12,
    "start_time": "2022-02-15T07:01:44.190Z"
   },
   {
    "duration": 13,
    "start_time": "2022-02-15T07:01:44.204Z"
   },
   {
    "duration": 59,
    "start_time": "2022-02-15T07:01:44.218Z"
   },
   {
    "duration": 632,
    "start_time": "2022-02-15T07:01:44.279Z"
   },
   {
    "duration": 3278,
    "start_time": "2022-02-15T07:01:44.913Z"
   },
   {
    "duration": 27,
    "start_time": "2022-02-15T07:01:48.192Z"
   },
   {
    "duration": 13,
    "start_time": "2022-02-15T07:01:48.221Z"
   },
   {
    "duration": 36,
    "start_time": "2022-02-15T07:01:48.236Z"
   },
   {
    "duration": 15,
    "start_time": "2022-02-15T07:01:48.274Z"
   },
   {
    "duration": 17,
    "start_time": "2022-02-15T07:01:48.291Z"
   },
   {
    "duration": 12,
    "start_time": "2022-02-15T07:01:48.310Z"
   },
   {
    "duration": 56,
    "start_time": "2022-02-15T07:01:48.324Z"
   },
   {
    "duration": 47511,
    "start_time": "2022-02-15T07:01:48.381Z"
   },
   {
    "duration": 20,
    "start_time": "2022-02-15T07:02:35.894Z"
   },
   {
    "duration": 16,
    "start_time": "2022-02-15T07:02:35.916Z"
   },
   {
    "duration": 16,
    "start_time": "2022-02-15T07:02:35.933Z"
   },
   {
    "duration": 21,
    "start_time": "2022-02-15T07:02:35.951Z"
   },
   {
    "duration": 18,
    "start_time": "2022-02-15T07:02:35.974Z"
   },
   {
    "duration": 7,
    "start_time": "2022-02-15T07:09:27.911Z"
   },
   {
    "duration": 453,
    "start_time": "2022-08-15T23:54:57.227Z"
   },
   {
    "duration": 475,
    "start_time": "2022-08-15T23:56:21.765Z"
   },
   {
    "duration": 437,
    "start_time": "2022-08-16T00:55:31.764Z"
   },
   {
    "duration": 64,
    "start_time": "2022-08-16T00:55:32.484Z"
   },
   {
    "duration": 4,
    "start_time": "2022-08-16T00:56:38.104Z"
   },
   {
    "duration": 6,
    "start_time": "2022-08-16T00:56:53.374Z"
   },
   {
    "duration": 3,
    "start_time": "2022-08-16T00:57:07.962Z"
   },
   {
    "duration": 16,
    "start_time": "2022-08-16T00:57:26.005Z"
   },
   {
    "duration": 29,
    "start_time": "2022-08-16T00:57:30.954Z"
   },
   {
    "duration": 9,
    "start_time": "2022-08-16T01:03:06.674Z"
   },
   {
    "duration": 17,
    "start_time": "2022-08-16T01:03:21.615Z"
   },
   {
    "duration": 4,
    "start_time": "2022-08-16T01:04:15.115Z"
   },
   {
    "duration": 4,
    "start_time": "2022-08-16T01:05:14.355Z"
   },
   {
    "duration": 10,
    "start_time": "2022-08-16T01:06:17.715Z"
   },
   {
    "duration": 4,
    "start_time": "2022-08-16T01:07:52.173Z"
   },
   {
    "duration": 13,
    "start_time": "2022-08-16T01:08:46.695Z"
   },
   {
    "duration": 17,
    "start_time": "2022-08-16T01:10:23.965Z"
   },
   {
    "duration": 4,
    "start_time": "2022-08-16T01:11:14.933Z"
   },
   {
    "duration": 15,
    "start_time": "2022-08-16T01:11:39.764Z"
   },
   {
    "duration": 6,
    "start_time": "2022-08-16T01:12:33.314Z"
   },
   {
    "duration": 2,
    "start_time": "2022-08-16T01:13:09.878Z"
   },
   {
    "duration": 3,
    "start_time": "2022-08-16T01:14:26.126Z"
   },
   {
    "duration": 5,
    "start_time": "2022-08-16T01:14:46.285Z"
   },
   {
    "duration": 8,
    "start_time": "2022-08-16T01:16:10.386Z"
   },
   {
    "duration": 6,
    "start_time": "2022-08-16T01:17:31.826Z"
   },
   {
    "duration": 8,
    "start_time": "2022-08-16T01:18:05.085Z"
   },
   {
    "duration": 36,
    "start_time": "2022-08-16T01:19:07.025Z"
   },
   {
    "duration": 21,
    "start_time": "2022-08-16T01:19:21.415Z"
   },
   {
    "duration": 29,
    "start_time": "2022-08-16T01:23:19.241Z"
   },
   {
    "duration": 9,
    "start_time": "2022-08-16T01:24:11.328Z"
   },
   {
    "duration": 6,
    "start_time": "2022-08-16T01:24:49.460Z"
   },
   {
    "duration": 8,
    "start_time": "2022-08-16T01:25:39.958Z"
   },
   {
    "duration": 18,
    "start_time": "2022-08-16T01:26:28.080Z"
   },
   {
    "duration": 15,
    "start_time": "2022-08-16T01:28:26.508Z"
   },
   {
    "duration": 10,
    "start_time": "2022-08-16T01:29:18.331Z"
   },
   {
    "duration": 11,
    "start_time": "2022-08-16T01:30:23.872Z"
   },
   {
    "duration": 11,
    "start_time": "2022-08-16T01:31:04.081Z"
   },
   {
    "duration": 19,
    "start_time": "2022-08-16T01:34:21.468Z"
   },
   {
    "duration": 2,
    "start_time": "2022-08-16T01:36:48.261Z"
   },
   {
    "duration": 35,
    "start_time": "2022-08-16T01:37:51.749Z"
   },
   {
    "duration": 16,
    "start_time": "2022-08-16T01:38:11.701Z"
   },
   {
    "duration": 16,
    "start_time": "2022-08-16T01:38:18.900Z"
   },
   {
    "duration": 18,
    "start_time": "2022-08-16T01:39:24.890Z"
   },
   {
    "duration": 46,
    "start_time": "2022-08-16T01:40:04.860Z"
   },
   {
    "duration": 631,
    "start_time": "2022-08-16T01:44:10.901Z"
   },
   {
    "duration": 1060,
    "start_time": "2022-08-16T13:20:17.407Z"
   },
   {
    "duration": 72,
    "start_time": "2022-08-16T13:20:18.470Z"
   },
   {
    "duration": 4,
    "start_time": "2022-08-16T13:20:22.859Z"
   },
   {
    "duration": 5,
    "start_time": "2022-08-16T13:20:24.056Z"
   },
   {
    "duration": 4,
    "start_time": "2022-08-16T13:20:24.926Z"
   },
   {
    "duration": 22,
    "start_time": "2022-08-16T13:20:25.860Z"
   },
   {
    "duration": 31,
    "start_time": "2022-08-16T13:20:26.976Z"
   },
   {
    "duration": 10,
    "start_time": "2022-08-16T13:20:30.887Z"
   },
   {
    "duration": 21,
    "start_time": "2022-08-16T13:20:31.746Z"
   },
   {
    "duration": 4,
    "start_time": "2022-08-16T13:20:33.577Z"
   },
   {
    "duration": 5,
    "start_time": "2022-08-16T13:20:34.347Z"
   },
   {
    "duration": 11,
    "start_time": "2022-08-16T13:20:35.148Z"
   },
   {
    "duration": 5,
    "start_time": "2022-08-16T13:20:36.636Z"
   },
   {
    "duration": 15,
    "start_time": "2022-08-16T13:20:37.487Z"
   },
   {
    "duration": 17,
    "start_time": "2022-08-16T13:20:39.447Z"
   },
   {
    "duration": 6,
    "start_time": "2022-08-16T13:20:40.796Z"
   },
   {
    "duration": 14,
    "start_time": "2022-08-16T13:20:41.515Z"
   },
   {
    "duration": 6,
    "start_time": "2022-08-16T13:20:43.186Z"
   },
   {
    "duration": 2,
    "start_time": "2022-08-16T13:20:43.867Z"
   },
   {
    "duration": 3,
    "start_time": "2022-08-16T13:20:44.538Z"
   },
   {
    "duration": 6,
    "start_time": "2022-08-16T13:20:45.186Z"
   },
   {
    "duration": 8,
    "start_time": "2022-08-16T13:20:46.047Z"
   },
   {
    "duration": 6,
    "start_time": "2022-08-16T13:20:47.887Z"
   },
   {
    "duration": 9,
    "start_time": "2022-08-16T13:20:48.807Z"
   },
   {
    "duration": 39,
    "start_time": "2022-08-16T13:20:49.849Z"
   },
   {
    "duration": 23,
    "start_time": "2022-08-16T13:20:50.676Z"
   },
   {
    "duration": 8,
    "start_time": "2022-08-16T13:20:57.654Z"
   },
   {
    "duration": 11,
    "start_time": "2022-08-16T13:20:58.476Z"
   },
   {
    "duration": 7,
    "start_time": "2022-08-16T13:20:59.417Z"
   },
   {
    "duration": 10,
    "start_time": "2022-08-16T13:21:00.365Z"
   },
   {
    "duration": 34,
    "start_time": "2022-08-16T13:21:01.308Z"
   },
   {
    "duration": 16,
    "start_time": "2022-08-16T13:21:03.026Z"
   },
   {
    "duration": 19,
    "start_time": "2022-08-16T13:21:07.955Z"
   },
   {
    "duration": 18,
    "start_time": "2022-08-16T13:21:10.366Z"
   },
   {
    "duration": 49,
    "start_time": "2022-08-16T13:21:10.997Z"
   },
   {
    "duration": 676,
    "start_time": "2022-08-16T13:21:13.093Z"
   },
   {
    "duration": 3265,
    "start_time": "2022-08-16T13:21:14.950Z"
   },
   {
    "duration": 2982,
    "start_time": "2022-08-16T13:25:27.677Z"
   },
   {
    "duration": 50,
    "start_time": "2022-08-16T13:26:15.984Z"
   },
   {
    "duration": 3157,
    "start_time": "2022-08-16T13:26:23.143Z"
   },
   {
    "duration": 83,
    "start_time": "2022-08-16T13:26:36.557Z"
   },
   {
    "duration": 66,
    "start_time": "2022-08-16T13:26:40.647Z"
   },
   {
    "duration": 3029,
    "start_time": "2022-08-16T13:26:47.740Z"
   },
   {
    "duration": 62,
    "start_time": "2022-08-16T13:27:06.576Z"
   },
   {
    "duration": 2893,
    "start_time": "2022-08-16T13:27:25.721Z"
   },
   {
    "duration": 2868,
    "start_time": "2022-08-16T13:27:47.490Z"
   },
   {
    "duration": 27,
    "start_time": "2022-08-16T13:28:31.126Z"
   },
   {
    "duration": 11,
    "start_time": "2022-08-16T13:31:54.585Z"
   },
   {
    "duration": 998,
    "start_time": "2022-08-17T02:27:04.404Z"
   },
   {
    "duration": 73,
    "start_time": "2022-08-17T02:27:05.442Z"
   },
   {
    "duration": 4,
    "start_time": "2022-08-17T02:27:06.293Z"
   },
   {
    "duration": 5,
    "start_time": "2022-08-17T02:27:06.935Z"
   },
   {
    "duration": 4,
    "start_time": "2022-08-17T02:27:07.572Z"
   },
   {
    "duration": 14,
    "start_time": "2022-08-17T02:27:08.314Z"
   },
   {
    "duration": 36,
    "start_time": "2022-08-17T02:27:09.164Z"
   },
   {
    "duration": 10,
    "start_time": "2022-08-17T02:27:12.013Z"
   },
   {
    "duration": 19,
    "start_time": "2022-08-17T02:27:12.690Z"
   },
   {
    "duration": 5,
    "start_time": "2022-08-17T02:27:15.610Z"
   },
   {
    "duration": 5,
    "start_time": "2022-08-17T02:27:15.992Z"
   },
   {
    "duration": 10,
    "start_time": "2022-08-17T02:27:16.062Z"
   },
   {
    "duration": 6,
    "start_time": "2022-08-17T02:27:17.423Z"
   },
   {
    "duration": 15,
    "start_time": "2022-08-17T02:27:17.992Z"
   },
   {
    "duration": 16,
    "start_time": "2022-08-17T02:27:19.082Z"
   },
   {
    "duration": 5,
    "start_time": "2022-08-17T02:27:19.990Z"
   },
   {
    "duration": 14,
    "start_time": "2022-08-17T02:27:20.663Z"
   },
   {
    "duration": 8,
    "start_time": "2022-08-17T02:27:21.562Z"
   },
   {
    "duration": 2,
    "start_time": "2022-08-17T02:27:22.243Z"
   },
   {
    "duration": 3,
    "start_time": "2022-08-17T02:27:22.963Z"
   },
   {
    "duration": 6,
    "start_time": "2022-08-17T02:27:23.583Z"
   },
   {
    "duration": 7,
    "start_time": "2022-08-17T02:27:26.228Z"
   },
   {
    "duration": 7,
    "start_time": "2022-08-17T02:27:28.173Z"
   },
   {
    "duration": 9,
    "start_time": "2022-08-17T02:27:29.282Z"
   },
   {
    "duration": 39,
    "start_time": "2022-08-17T02:27:30.310Z"
   },
   {
    "duration": 22,
    "start_time": "2022-08-17T02:27:33.303Z"
   },
   {
    "duration": 9,
    "start_time": "2022-08-17T02:27:37.891Z"
   },
   {
    "duration": 11,
    "start_time": "2022-08-17T02:27:38.949Z"
   },
   {
    "duration": 7,
    "start_time": "2022-08-17T02:27:40.243Z"
   },
   {
    "duration": 9,
    "start_time": "2022-08-17T02:27:41.263Z"
   },
   {
    "duration": 31,
    "start_time": "2022-08-17T02:27:42.204Z"
   },
   {
    "duration": 17,
    "start_time": "2022-08-17T02:27:44.053Z"
   },
   {
    "duration": 19,
    "start_time": "2022-08-17T02:27:47.452Z"
   },
   {
    "duration": 18,
    "start_time": "2022-08-17T02:27:49.313Z"
   },
   {
    "duration": 51,
    "start_time": "2022-08-17T02:27:49.940Z"
   },
   {
    "duration": 3111,
    "start_time": "2022-08-17T02:27:57.614Z"
   },
   {
    "duration": 29,
    "start_time": "2022-08-17T02:28:01.262Z"
   },
   {
    "duration": 7,
    "start_time": "2022-08-17T02:28:03.753Z"
   },
   {
    "duration": 15,
    "start_time": "2022-08-17T02:31:01.831Z"
   },
   {
    "duration": 14,
    "start_time": "2022-08-17T02:31:52.652Z"
   },
   {
    "duration": 14,
    "start_time": "2022-08-17T02:32:06.683Z"
   },
   {
    "duration": 16,
    "start_time": "2022-08-17T02:32:23.153Z"
   },
   {
    "duration": 13,
    "start_time": "2022-08-17T02:33:42.193Z"
   },
   {
    "duration": 15,
    "start_time": "2022-08-17T02:34:29.263Z"
   },
   {
    "duration": 17,
    "start_time": "2022-08-17T02:36:11.022Z"
   },
   {
    "duration": 12,
    "start_time": "2022-08-17T02:37:07.699Z"
   },
   {
    "duration": 17,
    "start_time": "2022-08-17T02:39:55.974Z"
   },
   {
    "duration": 13,
    "start_time": "2022-08-17T02:40:02.967Z"
   },
   {
    "duration": 430,
    "start_time": "2022-08-17T02:42:37.173Z"
   },
   {
    "duration": 21,
    "start_time": "2022-08-17T02:43:07.580Z"
   },
   {
    "duration": 17,
    "start_time": "2022-08-17T02:45:24.060Z"
   },
   {
    "duration": 26,
    "start_time": "2022-08-17T02:47:45.592Z"
   },
   {
    "duration": 19,
    "start_time": "2022-08-17T02:48:40.582Z"
   },
   {
    "duration": 17,
    "start_time": "2022-08-17T02:51:59.073Z"
   },
   {
    "duration": 17,
    "start_time": "2022-08-17T02:53:59.932Z"
   },
   {
    "duration": 27,
    "start_time": "2022-08-17T02:56:03.664Z"
   },
   {
    "duration": 17,
    "start_time": "2022-08-17T02:57:04.222Z"
   },
   {
    "duration": 27,
    "start_time": "2022-08-17T02:57:38.893Z"
   },
   {
    "duration": 380,
    "start_time": "2022-08-17T02:58:31.704Z"
   },
   {
    "duration": 92,
    "start_time": "2022-08-17T02:58:32.292Z"
   },
   {
    "duration": 5,
    "start_time": "2022-08-17T02:58:32.974Z"
   },
   {
    "duration": 6,
    "start_time": "2022-08-17T02:58:33.573Z"
   },
   {
    "duration": 4,
    "start_time": "2022-08-17T02:58:33.954Z"
   },
   {
    "duration": 23,
    "start_time": "2022-08-17T02:58:34.493Z"
   },
   {
    "duration": 43,
    "start_time": "2022-08-17T02:58:35.033Z"
   },
   {
    "duration": 10,
    "start_time": "2022-08-17T02:58:37.123Z"
   },
   {
    "duration": 22,
    "start_time": "2022-08-17T02:58:37.633Z"
   },
   {
    "duration": 5,
    "start_time": "2022-08-17T02:58:38.699Z"
   },
   {
    "duration": 6,
    "start_time": "2022-08-17T02:58:39.203Z"
   },
   {
    "duration": 11,
    "start_time": "2022-08-17T02:58:39.623Z"
   },
   {
    "duration": 6,
    "start_time": "2022-08-17T02:58:40.494Z"
   },
   {
    "duration": 23,
    "start_time": "2022-08-17T02:58:41.163Z"
   },
   {
    "duration": 18,
    "start_time": "2022-08-17T02:58:42.481Z"
   },
   {
    "duration": 5,
    "start_time": "2022-08-17T02:58:43.674Z"
   },
   {
    "duration": 14,
    "start_time": "2022-08-17T02:58:44.118Z"
   },
   {
    "duration": 6,
    "start_time": "2022-08-17T02:58:45.423Z"
   },
   {
    "duration": 2,
    "start_time": "2022-08-17T02:58:46.023Z"
   },
   {
    "duration": 2,
    "start_time": "2022-08-17T02:58:46.573Z"
   },
   {
    "duration": 6,
    "start_time": "2022-08-17T02:58:47.173Z"
   },
   {
    "duration": 9,
    "start_time": "2022-08-17T02:58:47.723Z"
   },
   {
    "duration": 7,
    "start_time": "2022-08-17T02:58:48.693Z"
   },
   {
    "duration": 8,
    "start_time": "2022-08-17T02:58:49.263Z"
   },
   {
    "duration": 40,
    "start_time": "2022-08-17T02:58:49.784Z"
   },
   {
    "duration": 25,
    "start_time": "2022-08-17T02:58:50.453Z"
   },
   {
    "duration": 8,
    "start_time": "2022-08-17T02:58:52.233Z"
   },
   {
    "duration": 12,
    "start_time": "2022-08-17T02:58:52.862Z"
   },
   {
    "duration": 6,
    "start_time": "2022-08-17T02:58:53.544Z"
   },
   {
    "duration": 9,
    "start_time": "2022-08-17T02:58:54.133Z"
   },
   {
    "duration": 34,
    "start_time": "2022-08-17T02:58:54.713Z"
   },
   {
    "duration": 18,
    "start_time": "2022-08-17T02:58:56.243Z"
   },
   {
    "duration": 21,
    "start_time": "2022-08-17T02:58:59.495Z"
   },
   {
    "duration": 30,
    "start_time": "2022-08-17T02:59:01.457Z"
   },
   {
    "duration": 65,
    "start_time": "2022-08-17T02:59:01.904Z"
   },
   {
    "duration": 3380,
    "start_time": "2022-08-17T02:59:03.503Z"
   },
   {
    "duration": 29,
    "start_time": "2022-08-17T02:59:07.753Z"
   },
   {
    "duration": 8,
    "start_time": "2022-08-17T02:59:09.172Z"
   },
   {
    "duration": 16,
    "start_time": "2022-08-17T02:59:11.061Z"
   },
   {
    "duration": 14,
    "start_time": "2022-08-17T02:59:12.193Z"
   },
   {
    "duration": 19,
    "start_time": "2022-08-17T02:59:12.894Z"
   },
   {
    "duration": 17,
    "start_time": "2022-08-17T02:59:13.554Z"
   },
   {
    "duration": 13,
    "start_time": "2022-08-17T02:59:14.293Z"
   },
   {
    "duration": 27,
    "start_time": "2022-08-17T02:59:17.941Z"
   },
   {
    "duration": 18,
    "start_time": "2022-08-17T02:59:18.563Z"
   },
   {
    "duration": 18,
    "start_time": "2022-08-17T02:59:21.383Z"
   },
   {
    "duration": 19,
    "start_time": "2022-08-17T02:59:24.063Z"
   },
   {
    "duration": 20,
    "start_time": "2022-08-17T02:59:29.013Z"
   },
   {
    "duration": 19,
    "start_time": "2022-08-17T02:59:53.143Z"
   },
   {
    "duration": 19,
    "start_time": "2022-08-17T03:00:19.091Z"
   },
   {
    "duration": 17,
    "start_time": "2022-08-17T03:00:57.454Z"
   },
   {
    "duration": 55,
    "start_time": "2022-08-17T03:01:32.064Z"
   },
   {
    "duration": 18,
    "start_time": "2022-08-17T03:01:49.774Z"
   },
   {
    "duration": 83,
    "start_time": "2022-08-17T03:02:23.995Z"
   },
   {
    "duration": 318,
    "start_time": "2022-08-17T03:03:08.052Z"
   },
   {
    "duration": 89,
    "start_time": "2022-08-17T03:03:08.372Z"
   },
   {
    "duration": 5,
    "start_time": "2022-08-17T03:03:08.771Z"
   },
   {
    "duration": 5,
    "start_time": "2022-08-17T03:03:08.983Z"
   },
   {
    "duration": 4,
    "start_time": "2022-08-17T03:03:09.184Z"
   },
   {
    "duration": 14,
    "start_time": "2022-08-17T03:03:09.394Z"
   },
   {
    "duration": 30,
    "start_time": "2022-08-17T03:03:09.624Z"
   },
   {
    "duration": 10,
    "start_time": "2022-08-17T03:03:10.771Z"
   },
   {
    "duration": 27,
    "start_time": "2022-08-17T03:03:11.001Z"
   },
   {
    "duration": 7,
    "start_time": "2022-08-17T03:03:11.404Z"
   },
   {
    "duration": 7,
    "start_time": "2022-08-17T03:03:11.824Z"
   },
   {
    "duration": 10,
    "start_time": "2022-08-17T03:03:12.083Z"
   },
   {
    "duration": 6,
    "start_time": "2022-08-17T03:03:12.713Z"
   },
   {
    "duration": 18,
    "start_time": "2022-08-17T03:03:13.003Z"
   },
   {
    "duration": 18,
    "start_time": "2022-08-17T03:03:13.513Z"
   },
   {
    "duration": 6,
    "start_time": "2022-08-17T03:03:14.294Z"
   },
   {
    "duration": 13,
    "start_time": "2022-08-17T03:03:14.503Z"
   },
   {
    "duration": 5,
    "start_time": "2022-08-17T03:03:15.235Z"
   },
   {
    "duration": 2,
    "start_time": "2022-08-17T03:03:15.474Z"
   },
   {
    "duration": 3,
    "start_time": "2022-08-17T03:03:15.739Z"
   },
   {
    "duration": 5,
    "start_time": "2022-08-17T03:03:16.034Z"
   },
   {
    "duration": 7,
    "start_time": "2022-08-17T03:03:16.304Z"
   },
   {
    "duration": 7,
    "start_time": "2022-08-17T03:03:16.813Z"
   },
   {
    "duration": 9,
    "start_time": "2022-08-17T03:03:17.218Z"
   },
   {
    "duration": 41,
    "start_time": "2022-08-17T03:03:17.633Z"
   },
   {
    "duration": 23,
    "start_time": "2022-08-17T03:03:17.883Z"
   },
   {
    "duration": 9,
    "start_time": "2022-08-17T03:03:18.823Z"
   },
   {
    "duration": 11,
    "start_time": "2022-08-17T03:03:19.253Z"
   },
   {
    "duration": 7,
    "start_time": "2022-08-17T03:03:19.593Z"
   },
   {
    "duration": 9,
    "start_time": "2022-08-17T03:03:19.813Z"
   },
   {
    "duration": 34,
    "start_time": "2022-08-17T03:03:20.323Z"
   },
   {
    "duration": 20,
    "start_time": "2022-08-17T03:03:20.853Z"
   },
   {
    "duration": 20,
    "start_time": "2022-08-17T03:03:22.264Z"
   },
   {
    "duration": 20,
    "start_time": "2022-08-17T03:03:23.362Z"
   },
   {
    "duration": 53,
    "start_time": "2022-08-17T03:03:23.753Z"
   },
   {
    "duration": 3380,
    "start_time": "2022-08-17T03:03:25.686Z"
   },
   {
    "duration": 30,
    "start_time": "2022-08-17T03:03:30.775Z"
   },
   {
    "duration": 10,
    "start_time": "2022-08-17T03:03:31.673Z"
   },
   {
    "duration": 15,
    "start_time": "2022-08-17T03:03:33.083Z"
   },
   {
    "duration": 13,
    "start_time": "2022-08-17T03:03:33.444Z"
   },
   {
    "duration": 18,
    "start_time": "2022-08-17T03:03:33.754Z"
   },
   {
    "duration": 17,
    "start_time": "2022-08-17T03:03:33.994Z"
   },
   {
    "duration": 12,
    "start_time": "2022-08-17T03:03:34.444Z"
   },
   {
    "duration": 23,
    "start_time": "2022-08-17T03:03:35.614Z"
   },
   {
    "duration": 17,
    "start_time": "2022-08-17T03:03:35.854Z"
   },
   {
    "duration": 18,
    "start_time": "2022-08-17T03:03:37.148Z"
   },
   {
    "duration": 20,
    "start_time": "2022-08-17T03:03:40.335Z"
   },
   {
    "duration": 19,
    "start_time": "2022-08-17T03:03:42.934Z"
   },
   {
    "duration": 23,
    "start_time": "2022-08-17T03:03:44.335Z"
   },
   {
    "duration": 18,
    "start_time": "2022-08-17T03:04:42.261Z"
   },
   {
    "duration": 19,
    "start_time": "2022-08-17T03:04:56.084Z"
   },
   {
    "duration": 28,
    "start_time": "2022-08-17T03:05:33.255Z"
   },
   {
    "duration": 18,
    "start_time": "2022-08-17T03:05:39.624Z"
   }
  ],
  "kernelspec": {
   "display_name": "Python 3 (ipykernel)",
   "language": "python",
   "name": "python3"
  },
  "language_info": {
   "codemirror_mode": {
    "name": "ipython",
    "version": 3
   },
   "file_extension": ".py",
   "mimetype": "text/x-python",
   "name": "python",
   "nbconvert_exporter": "python",
   "pygments_lexer": "ipython3",
   "version": "3.9.5"
  },
  "toc": {
   "base_numbering": 1,
   "nav_menu": {},
   "number_sections": true,
   "sideBar": true,
   "skip_h1_title": true,
   "title_cell": "Table of Contents",
   "title_sidebar": "Contents",
   "toc_cell": false,
   "toc_position": {},
   "toc_section_display": true,
   "toc_window_display": false
  }
 },
 "nbformat": 4,
 "nbformat_minor": 2
}
